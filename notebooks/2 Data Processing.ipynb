{
 "cells": [
  {
   "cell_type": "markdown",
   "metadata": {
    "id": "GcO_fZ3XLpJD"
   },
   "source": [
    "![DME Layers](https://opg.optica.org/getImage.cfm?img=M3cuZnVsbCxib2UtNi00LTExNzItZzAwMw&article=boe-6-4-1172-g003)\n",
    "\n",
    "-----\n",
    "\n",
    "![RTA Layers Image](https://journals.plos.org/plosone/article/figure/image?size=large&id=10.1371/journal.pone.0133908.g001) | ![RTA Layers Explanation](https://journals.plos.org/plosone/article/figure/image?size=large&id=10.1371/journal.pone.0133908.t001)\n",
    "-- | --\n",
    "\n",
    "![AMD Layers](https://www.ncbi.nlm.nih.gov/pmc/articles/instance/3901571/bin/nihms-508161-f0001.jpg)\n",
    "\n",
    "----\n",
    "\n",
    "![AROI Layers](https://ipg.fer.hr/images/50037599/nasa%20baza.png)"
   ]
  },
  {
   "cell_type": "code",
   "execution_count": 2,
   "metadata": {
    "executionInfo": {
     "elapsed": 1688,
     "status": "ok",
     "timestamp": 1649275852033,
     "user": {
      "displayName": "Yuanchun",
      "userId": "14461537273961936529"
     },
     "user_tz": -120
    },
    "id": "t_i1NGq_JLZy"
   },
   "outputs": [
    {
     "name": "stdout",
     "output_type": "stream",
     "text": [
      "/home/extra/micheal/IDP\n"
     ]
    }
   ],
   "source": [
    "%matplotlib inline \n",
    "\n",
    "import os\n",
    "import re\n",
    "import copy\n",
    "from glob import glob\n",
    "import pathlib\n",
    "from pathlib import Path\n",
    "import random\n",
    "import shutil\n",
    "import numpy as np\n",
    "from tqdm import tqdm\n",
    "from matplotlib import pyplot as plt\n",
    "import scipy.io\n",
    "import imageio\n",
    "import cv2\n",
    "from PIL import Image\n",
    "import idp_utils.data_handling.constants as C\n",
    "from idp_utils.data_handling.common import (extract_data,\n",
    "                                            extract_data_aroi,\n",
    "                                            extract_data_op,\n",
    "                                            get_dme_valid_idx,\n",
    "                                            get_amd_valid_idx,\n",
    "                                            prepare_files)\n",
    "\n",
    "\n",
    "%cd $C.ROOT_PATH\n",
    "\n",
    "seed = 6\n",
    "random.seed(seed)"
   ]
  },
  {
   "cell_type": "markdown",
   "metadata": {
    "id": "qzl7iUiIMBTi"
   },
   "source": [
    "# 1 Extract Labeled Layeres & Bscans from Data"
   ]
  },
  {
   "cell_type": "markdown",
   "metadata": {
    "id": "L9vY0A8DM-2P",
    "tags": []
   },
   "source": [
    "## 1.1 Original Data"
   ]
  },
  {
   "cell_type": "markdown",
   "metadata": {
    "id": "M9PaKEHPNPFu",
    "tags": []
   },
   "source": [
    "### 1.1.1 RTA"
   ]
  },
  {
   "cell_type": "code",
   "execution_count": 2,
   "metadata": {
    "colab": {
     "base_uri": "https://localhost:8080/"
    },
    "executionInfo": {
     "elapsed": 4056,
     "status": "ok",
     "timestamp": 1649275983249,
     "user": {
      "displayName": "Yuanchun",
      "userId": "14461537273961936529"
     },
     "user_tz": -120
    },
    "id": "iX9JfQKbNK8v",
    "outputId": "4e89e9e2-4bc4-4617-f9ed-e97b7d817850"
   },
   "outputs": [
    {
     "name": "stdout",
     "output_type": "stream",
     "text": [
      "10 files matches pattern: data/raw/RTA/*.mat\n"
     ]
    },
    {
     "name": "stderr",
     "output_type": "stream",
     "text": [
      "100%|██████████| 10/10 [00:01<00:00,  9.43it/s]\n"
     ]
    }
   ],
   "source": [
    "data, dtype = \"RTA\", \"original\"\n",
    "extract_data(file_pattern=os.path.join(C.RAW_DATA_PATTERN.format(data=data), \"*.mat\"), \n",
    "                   bscan_key='volumedata', \n",
    "                   layermap_key='Observer2',\n",
    "                   bscan_format='hws',\n",
    "                   layermap_format='wsl',\n",
    "                   layer_labels=C.RTA_LABELS,\n",
    "                   bscan_folder=C.BSCAN_PATTERN.format(data=data),\n",
    "                   layer_folder=C.LAYER_PATTERN.format(data=data, dtype=dtype),\n",
    "                   overwrite=True)"
   ]
  },
  {
   "cell_type": "markdown",
   "metadata": {
    "id": "iN8ntIoENfZJ",
    "jp-MarkdownHeadingCollapsed": true,
    "tags": []
   },
   "source": [
    "### 1.1.2 DME"
   ]
  },
  {
   "cell_type": "code",
   "execution_count": 3,
   "metadata": {
    "colab": {
     "base_uri": "https://localhost:8080/"
    },
    "executionInfo": {
     "elapsed": 14120,
     "status": "ok",
     "timestamp": 1649269478810,
     "user": {
      "displayName": "Yuanchun",
      "userId": "14461537273961936529"
     },
     "user_tz": -120
    },
    "id": "6jnf7swCNhqs",
    "outputId": "5c73382c-d260-483d-facc-97e4521b4219"
   },
   "outputs": [
    {
     "name": "stdout",
     "output_type": "stream",
     "text": [
      "10 files matches pattern: data/raw/DME/*.mat\n"
     ]
    },
    {
     "name": "stderr",
     "output_type": "stream",
     "text": [
      "100%|██████████| 10/10 [00:10<00:00,  1.06s/it]\n"
     ]
    }
   ],
   "source": [
    "data, dtype = \"DME\", \"original\"\n",
    "extract_data(file_pattern=os.path.join(C.RAW_DATA_PATTERN.format(data=data), \"*.mat\"),\n",
    "                   bscan_key='images',\n",
    "                   layermap_key='manualLayers1',\n",
    "                   fluid_key='manualFluid1',\n",
    "                   bscan_format='hws',\n",
    "                   layermap_format='lws',\n",
    "                   layer_labels=C.DME_LABELS,\n",
    "                   bscan_folder=C.BSCAN_PATTERN.format(data=data),\n",
    "                   layer_folder=C.LAYER_PATTERN.format(data=data, dtype=dtype),\n",
    "                   fluid_folder=C.FLUID_PATTERN.format(data=data),\n",
    "                   valid_slice_indices_fn=get_dme_valid_idx,\n",
    "                   overwrite=True)"
   ]
  },
  {
   "cell_type": "markdown",
   "metadata": {
    "id": "h1oRBMyPNiFG",
    "jp-MarkdownHeadingCollapsed": true,
    "tags": []
   },
   "source": [
    "### 1.1.3 AMD"
   ]
  },
  {
   "cell_type": "code",
   "execution_count": 4,
   "metadata": {
    "id": "N3UgS7zkNlC8"
   },
   "outputs": [
    {
     "name": "stdout",
     "output_type": "stream",
     "text": [
      "115 files matches pattern: data/raw/AMD/Control 2/Control 2/*.mat\n"
     ]
    },
    {
     "name": "stderr",
     "output_type": "stream",
     "text": [
      "100%|██████████| 115/115 [00:29<00:00,  3.89it/s]\n"
     ]
    }
   ],
   "source": [
    "# Control data\n",
    "data, dtype = \"AMD\", \"original\"\n",
    "extract_data(file_pattern=os.path.join(C.RAW_DATA_PATTERN.format(data=data), 'Control 2/Control 2/*.mat'), \n",
    "                   bscan_key='images',\n",
    "                   layermap_key='layerMaps',\n",
    "                   bscan_format='hws',\n",
    "                   layermap_format='swl',\n",
    "                   layer_labels=C.AMD_LABELS,\n",
    "                   bscan_folder=C.BSCAN_PATTERN.format(data=data),\n",
    "                   layer_folder=C.LAYER_PATTERN.format(data=data, dtype=dtype),\n",
    "                   valid_slice_indices_fn=get_amd_valid_idx,\n",
    "                   overwrite=False)"
   ]
  },
  {
   "cell_type": "code",
   "execution_count": 5,
   "metadata": {
    "executionInfo": {
     "elapsed": 34,
     "status": "aborted",
     "timestamp": 1649276155211,
     "user": {
      "displayName": "Yuanchun",
      "userId": "14461537273961936529"
     },
     "user_tz": -120
    },
    "id": "jaUtxCK3JlEl"
   },
   "outputs": [
    {
     "name": "stdout",
     "output_type": "stream",
     "text": [
      "269 files matches pattern: data/raw/AMD/AMD 2/AMD 2/*.mat\n"
     ]
    },
    {
     "name": "stderr",
     "output_type": "stream",
     "text": [
      "100%|██████████| 269/269 [01:08<00:00,  3.92it/s]\n"
     ]
    }
   ],
   "source": [
    "# AMD data\n",
    "data, dtype = \"AMD\", \"original\"\n",
    "extract_data(file_pattern=os.path.join(C.RAW_DATA_PATTERN.format(data=data),'AMD 2/AMD 2/*.mat'), \n",
    "                   bscan_key='images',\n",
    "                   layermap_key='layerMaps',\n",
    "                   bscan_format='hws',\n",
    "                   layermap_format='swl',\n",
    "                   layer_labels=C.AMD_LABELS,\n",
    "                   bscan_folder=C.BSCAN_PATTERN.format(data=data),\n",
    "                   layer_folder=C.LAYER_PATTERN.format(data=data, dtype=dtype),\n",
    "                   valid_slice_indices_fn=get_amd_valid_idx,\n",
    "                   overwrite=False)"
   ]
  },
  {
   "cell_type": "markdown",
   "metadata": {
    "id": "69I4rweZNleL",
    "tags": []
   },
   "source": [
    "### 1.1.4 AROI"
   ]
  },
  {
   "cell_type": "code",
   "execution_count": 6,
   "metadata": {},
   "outputs": [
    {
     "name": "stderr",
     "output_type": "stream",
     "text": [
      "  3%|▎         | 29/1105 [00:02<01:30, 11.95it/s]"
     ]
    },
    {
     "name": "stdout",
     "output_type": "stream",
     "text": [
      "Error occurred when detecting edges data/raw/AROI/24 patient/patient14/mask/number/patient14_raw0075.png\n"
     ]
    },
    {
     "name": "stderr",
     "output_type": "stream",
     "text": [
      " 35%|███▍      | 386/1105 [00:26<00:37, 19.16it/s]"
     ]
    },
    {
     "name": "stdout",
     "output_type": "stream",
     "text": [
      "Error occurred when detecting edges data/raw/AROI/24 patient/patient5/mask/number/patient5_raw0067.png\n",
      "Error occurred when detecting edges data/raw/AROI/24 patient/patient5/mask/number/patient5_raw0064.png\n",
      "Error occurred when detecting edges data/raw/AROI/24 patient/patient5/mask/number/patient5_raw0065.png\n"
     ]
    },
    {
     "name": "stderr",
     "output_type": "stream",
     "text": [
      " 36%|███▌      | 395/1105 [00:27<00:35, 19.84it/s]"
     ]
    },
    {
     "name": "stdout",
     "output_type": "stream",
     "text": [
      "Error occurred when detecting edges data/raw/AROI/24 patient/patient5/mask/number/patient5_raw0066.png\n"
     ]
    },
    {
     "name": "stderr",
     "output_type": "stream",
     "text": [
      " 83%|████████▎ | 916/1105 [01:03<00:09, 19.46it/s]"
     ]
    },
    {
     "name": "stdout",
     "output_type": "stream",
     "text": [
      "Error occurred when detecting edges data/raw/AROI/24 patient/patient10/mask/number/patient10_raw0070.png\n"
     ]
    },
    {
     "name": "stderr",
     "output_type": "stream",
     "text": [
      " 89%|████████▊ | 978/1105 [01:07<00:08, 15.04it/s]"
     ]
    },
    {
     "name": "stdout",
     "output_type": "stream",
     "text": [
      "Error occurred when detecting edges data/raw/AROI/24 patient/patient10/mask/number/patient10_raw0068.png\n"
     ]
    },
    {
     "name": "stderr",
     "output_type": "stream",
     "text": [
      " 89%|████████▉ | 985/1105 [01:07<00:06, 17.29it/s]"
     ]
    },
    {
     "name": "stdout",
     "output_type": "stream",
     "text": [
      "Error occurred when detecting edges data/raw/AROI/24 patient/patient10/mask/number/patient10_raw0069.png\n"
     ]
    },
    {
     "name": "stderr",
     "output_type": "stream",
     "text": [
      " 96%|█████████▌| 1058/1105 [01:12<00:02, 17.57it/s]"
     ]
    },
    {
     "name": "stdout",
     "output_type": "stream",
     "text": [
      "Error occurred when detecting edges data/raw/AROI/24 patient/patient11/mask/number/patient11_raw0069.png\n"
     ]
    },
    {
     "name": "stderr",
     "output_type": "stream",
     "text": [
      "100%|██████████| 1105/1105 [01:15<00:00, 14.65it/s]"
     ]
    },
    {
     "name": "stdout",
     "output_type": "stream",
     "text": [
      "Sum of skipped files:  9\n"
     ]
    },
    {
     "name": "stderr",
     "output_type": "stream",
     "text": [
      "\n"
     ]
    }
   ],
   "source": [
    "data, dtype = \"AROI\", \"original\"\n",
    "extract_data_aroi(raw_data_folder=C.RAW_DATA_PATTERN.format(data=data),\n",
    "                        bscan_folder=C.BSCAN_PATTERN.format(data=data),\n",
    "                        layer_folder=C.LAYER_PATTERN.format(data=data, dtype=dtype),\n",
    "                        fluid_folder=C.FLUID_PATTERN.format(data=data),\n",
    "                        dtype=dtype,\n",
    "                        fluid_labels=C.FLUID_LABELS,\n",
    "                        layer_labels=C.AROI_LABELS)"
   ]
  },
  {
   "cell_type": "markdown",
   "metadata": {},
   "source": [
    "#### 1.1.4.1 AROI Hetero"
   ]
  },
  {
   "cell_type": "markdown",
   "metadata": {},
   "source": [
    "We create another AROI dataset that use a totally different set of notations than OP. This is for a later experiment."
   ]
  },
  {
   "cell_type": "code",
   "execution_count": 8,
   "metadata": {},
   "outputs": [
    {
     "name": "stdout",
     "output_type": "stream",
     "text": [
      "Created folder data/extract/layers/AROI/hetero\n"
     ]
    },
    {
     "name": "stderr",
     "output_type": "stream",
     "text": [
      "  3%|▎         | 29/1105 [00:03<01:32, 11.64it/s]"
     ]
    },
    {
     "name": "stdout",
     "output_type": "stream",
     "text": [
      "Error occurred when detecting edges data/raw/AROI/24 patient/patient14/mask/number/patient14_raw0075.png\n"
     ]
    },
    {
     "name": "stderr",
     "output_type": "stream",
     "text": [
      " 35%|███▌      | 387/1105 [00:29<00:42, 17.01it/s]"
     ]
    },
    {
     "name": "stdout",
     "output_type": "stream",
     "text": [
      "Error occurred when detecting edges data/raw/AROI/24 patient/patient5/mask/number/patient5_raw0067.png\n",
      "Error occurred when detecting edges data/raw/AROI/24 patient/patient5/mask/number/patient5_raw0064.png\n",
      "Error occurred when detecting edges data/raw/AROI/24 patient/patient5/mask/number/patient5_raw0065.png\n"
     ]
    },
    {
     "name": "stderr",
     "output_type": "stream",
     "text": [
      " 36%|███▌      | 397/1105 [00:29<00:39, 17.95it/s]"
     ]
    },
    {
     "name": "stdout",
     "output_type": "stream",
     "text": [
      "Error occurred when detecting edges data/raw/AROI/24 patient/patient5/mask/number/patient5_raw0066.png\n"
     ]
    },
    {
     "name": "stderr",
     "output_type": "stream",
     "text": [
      " 83%|████████▎ | 918/1105 [01:07<00:10, 17.27it/s]"
     ]
    },
    {
     "name": "stdout",
     "output_type": "stream",
     "text": [
      "Error occurred when detecting edges data/raw/AROI/24 patient/patient10/mask/number/patient10_raw0070.png\n"
     ]
    },
    {
     "name": "stderr",
     "output_type": "stream",
     "text": [
      " 89%|████████▊ | 979/1105 [01:11<00:07, 17.06it/s]"
     ]
    },
    {
     "name": "stdout",
     "output_type": "stream",
     "text": [
      "Error occurred when detecting edges data/raw/AROI/24 patient/patient10/mask/number/patient10_raw0068.png\n"
     ]
    },
    {
     "name": "stderr",
     "output_type": "stream",
     "text": [
      " 89%|████████▉ | 983/1105 [01:12<00:07, 16.54it/s]"
     ]
    },
    {
     "name": "stdout",
     "output_type": "stream",
     "text": [
      "Error occurred when detecting edges data/raw/AROI/24 patient/patient10/mask/number/patient10_raw0069.png\n"
     ]
    },
    {
     "name": "stderr",
     "output_type": "stream",
     "text": [
      " 96%|█████████▌| 1058/1105 [01:17<00:03, 15.57it/s]"
     ]
    },
    {
     "name": "stdout",
     "output_type": "stream",
     "text": [
      "Error occurred when detecting edges data/raw/AROI/24 patient/patient11/mask/number/patient11_raw0069.png\n"
     ]
    },
    {
     "name": "stderr",
     "output_type": "stream",
     "text": [
      "100%|██████████| 1105/1105 [01:20<00:00, 13.78it/s]"
     ]
    },
    {
     "name": "stdout",
     "output_type": "stream",
     "text": [
      "Sum of skipped files:  9\n"
     ]
    },
    {
     "name": "stderr",
     "output_type": "stream",
     "text": [
      "\n"
     ]
    }
   ],
   "source": [
    "data, dtype = \"AROI\", \"hetero\"\n",
    "\n",
    "hetero_aroi_layer_labels = [22, 57, 174, 190] # was [19, 57, 171, 190]\n",
    "\n",
    "extract_data_aroi(raw_data_folder=C.RAW_DATA_PATTERN.format(data=data),\n",
    "                        bscan_folder=C.BSCAN_PATTERN.format(data=data),\n",
    "                        layer_folder=C.LAYER_PATTERN.format(data=data, dtype=dtype),\n",
    "                        fluid_folder=C.FLUID_PATTERN.format(data=data),\n",
    "                        dtype=dtype,\n",
    "                        fluid_labels=C.FLUID_LABELS,\n",
    "                        layer_labels=hetero_aroi_layer_labels)"
   ]
  },
  {
   "cell_type": "markdown",
   "metadata": {},
   "source": [
    "### 1.1.5 OP"
   ]
  },
  {
   "cell_type": "code",
   "execution_count": 7,
   "metadata": {},
   "outputs": [
    {
     "name": "stdout",
     "output_type": "stream",
     "text": [
      "Part1 Started\n"
     ]
    },
    {
     "name": "stderr",
     "output_type": "stream",
     "text": [
      "100%|██████████| 47/47 [03:45<00:00,  4.80s/it]\n"
     ]
    },
    {
     "name": "stdout",
     "output_type": "stream",
     "text": [
      "Part2 Started\n"
     ]
    },
    {
     "name": "stderr",
     "output_type": "stream",
     "text": [
      "100%|██████████| 47/47 [03:51<00:00,  4.92s/it]\n"
     ]
    }
   ],
   "source": [
    "data, dtype = \"OP\", \"original\"\n",
    "name = \"original\"\n",
    "\n",
    "extract_data_op(raw_data_folder=C.RAW_DATA_PATTERN.format(data=data),\n",
    "                bscan_folder=C.BSCAN_PATTERN.format(data=data),\n",
    "                layer_folder=C.LAYER_PATTERN.format(data=data, dtype=dtype),\n",
    "                layer_labels=C.OP_LABELS,\n",
    "                instrument_labels=C.INSTRUMENT_LABELS,\n",
    "                save_extension='png')"
   ]
  },
  {
   "cell_type": "markdown",
   "metadata": {
    "id": "ttr8-k4JND-E",
    "tags": []
   },
   "source": [
    "## 1.2 Reduced-Layer Data"
   ]
  },
  {
   "cell_type": "markdown",
   "metadata": {
    "id": "ocEvOnJ8PST_"
   },
   "source": [
    "### 1.2.1 RTA"
   ]
  },
  {
   "cell_type": "code",
   "execution_count": 8,
   "metadata": {
    "colab": {
     "base_uri": "https://localhost:8080/"
    },
    "executionInfo": {
     "elapsed": 1998,
     "status": "ok",
     "timestamp": 1649268982887,
     "user": {
      "displayName": "Yuanchun",
      "userId": "14461537273961936529"
     },
     "user_tz": -120
    },
    "id": "Triifqs7PRm8",
    "outputId": "a6ffed52-5ad7-4e7d-b32b-db861f8bc67a"
   },
   "outputs": [],
   "source": [
    "# data = \"RTA\"\n",
    "# extract_data(file_pattern=os.path.join(C.RAW_DATA_PATTERN.format(data=data),'Subject[78]*.mat'), \n",
    "#                    bscan_key='volumedata', \n",
    "#                    layermap_key='Observer2',\n",
    "#                    bscan_format='hws',\n",
    "#                    layermap_format='wsl',\n",
    "#                    layer_labels=C.RTA_LABELS,\n",
    "#                    bscan_folder=C.BSCAN_PATTERN.format(data=data),\n",
    "#                    layer_folder=C.LAYER_PATTERN.format(data=data, dtype='reduce1'),\n",
    "#                    remove_from=range(2,8), # 6 out of 8\n",
    "#                    n_remove=1)\n",
    "# extract_data(file_pattern=os.path.join(C.RAW_DATA_PATTERN.format(data=data),'Subject[56]*.mat'), \n",
    "#                    bscan_key='volumedata', \n",
    "#                    layermap_key='Observer2',\n",
    "#                    bscan_format='hws',\n",
    "#                    layermap_format='wsl',\n",
    "#                    layer_labels=C.RTA_LABELS,\n",
    "#                    bscan_folder=C.BSCAN_PATTERN.format(data=data),\n",
    "#                    layer_folder=C.LAYER_PATTERN.format(data=data, dtype='reduce2'),\n",
    "#                    remove_from=range(2,8), # 6 out of 8\n",
    "#                    n_remove=2)\n",
    "# extract_data(file_pattern=os.path.join(C.RAW_DATA_PATTERN.format(data=data),'Subject[34]*.mat'), \n",
    "#                    bscan_key='volumedata', \n",
    "#                    layermap_key='Observer2',\n",
    "#                    bscan_format='hws',\n",
    "#                    layermap_format='wsl',\n",
    "#                    layer_labels=C.RTA_LABELS,\n",
    "#                    bscan_folder=C.BSCAN_PATTERN.format(data=data),\n",
    "#                    layer_folder=C.LAYER_PATTERN.format(data=data, dtype='reduce3'),\n",
    "#                    remove_from=range(2,8), # 6 out of 8\n",
    "#                    n_remove=3)\n",
    "# extract_data(file_pattern=os.path.join(C.RAW_DATA_PATTERN.format(data=data),'Subject[12]*.mat'), \n",
    "#                    bscan_key='volumedata', \n",
    "#                    layermap_key='Observer2',\n",
    "#                    bscan_format='hws',\n",
    "#                    layermap_format='wsl',\n",
    "#                    layer_labels=C.RTA_LABELS,\n",
    "#                    bscan_folder=C.BSCAN_PATTERN.format(data=data),\n",
    "#                    layer_folder=C.LAYER_PATTERN.format(data=data, dtype='reduce4'),\n",
    "#                    remove_from=range(2,8), # 6 out of 8\n",
    "#                    n_remove=4)\n",
    "# extract_data(file_pattern=os.path.join(C.RAW_DATA_PATTERN.format(data=data),'Subject[12]*.mat'), \n",
    "#                    bscan_key='volumedata', \n",
    "#                    layermap_key='Observer2',\n",
    "#                    bscan_format='hws',\n",
    "#                    layermap_format='wsl',\n",
    "#                    layer_labels=C.RTA_LABELS,\n",
    "#                    bscan_folder=C.BSCAN_PATTERN.format(data=data),\n",
    "#                    layer_folder=C.LAYER_PATTERN.format(data=data, dtype='reduce5'),\n",
    "#                    remove_from=range(2,8), # 6 out of 8\n",
    "#                    n_remove=5)"
   ]
  },
  {
   "cell_type": "markdown",
   "metadata": {
    "id": "lsGkSrPAPYko",
    "tags": []
   },
   "source": [
    "### 1.2.2 DME"
   ]
  },
  {
   "cell_type": "code",
   "execution_count": 9,
   "metadata": {
    "colab": {
     "base_uri": "https://localhost:8080/"
    },
    "executionInfo": {
     "elapsed": 12151,
     "status": "ok",
     "timestamp": 1649269028258,
     "user": {
      "displayName": "Yuanchun",
      "userId": "14461537273961936529"
     },
     "user_tz": -120
    },
    "id": "oTNmSVz2Png2",
    "outputId": "c6bd4f8f-acde-4e3e-8eec-183849b56d0a"
   },
   "outputs": [],
   "source": [
    "# data = \"DME\"\n",
    "# extract_data(file_pattern=os.path.join(C.RAW_DATA_PATTERN.format(data=data),'Subject_0[89].mat'),\n",
    "#                    bscan_key='images',\n",
    "#                    layermap_key='manualLayers1',\n",
    "#                    fluid_key='manualFluid1',\n",
    "#                    bscan_format='hws',\n",
    "#                    layermap_format='lws',\n",
    "#                    layer_labels=C.DME_LABELS,\n",
    "#                    bscan_folder=C.BSCAN_PATTERN.format(data=data),\n",
    "#                    layer_folder=C.LAYER_PATTERN.format(data=data, dtype='reduce1'),\n",
    "#                    fluid_folder=C.FLUID_PATTERN.format(data=data),\n",
    "#                    valid_slice_indices_fn=get_dme_valid_idx,\n",
    "#                    remove_from=range(2,8), # DME also has 8 layers, we choose 6 out of 8\n",
    "#                    n_remove=1)\n",
    "# extract_data(file_pattern=os.path.join(C.RAW_DATA_PATTERN.format(data=data),'Subject_0[67].mat'),\n",
    "#                    bscan_key='images',\n",
    "#                    layermap_key='manualLayers1',\n",
    "#                    fluid_key='manualFluid1',\n",
    "#                    bscan_format='hws',\n",
    "#                    layermap_format='lws',\n",
    "#                    layer_labels=C.DME_LABELS,\n",
    "#                    bscan_folder=C.BSCAN_PATTERN.format(data=data),\n",
    "#                    layer_folder=C.LAYER_PATTERN.format(data=data, dtype='reduce2'),\n",
    "#                    fluid_folder=C.FLUID_PATTERN.format(data=data),\n",
    "#                    valid_slice_indices_fn=get_dme_valid_idx,\n",
    "#                    remove_from=range(2,8), # DME also has 8 layers, we choose 6 out of 8\n",
    "#                    n_remove=2)\n",
    "# extract_data(file_pattern=os.path.join(C.RAW_DATA_PATTERN.format(data=data),'Subject_0[45].mat'),\n",
    "#                    bscan_key='images',\n",
    "#                    layermap_key='manualLayers1',\n",
    "#                    fluid_key='manualFluid1',\n",
    "#                    bscan_format='hws',\n",
    "#                    layermap_format='lws',\n",
    "#                    layer_labels=C.DME_LABELS,\n",
    "#                    bscan_folder=C.BSCAN_PATTERN.format(data=data),\n",
    "#                    layer_folder=C.LAYER_PATTERN.format(data=data, dtype='reduce3'),\n",
    "#                    fluid_folder=C.FLUID_PATTERN.format(data=data),\n",
    "#                    valid_slice_indices_fn=get_dme_valid_idx,\n",
    "#                    remove_from=range(2,8), # DME also has 8 layers, we choose 6 out of 8\n",
    "#                    n_remove=3)\n",
    "# extract_data(file_pattern=os.path.join(C.RAW_DATA_PATTERN.format(data=data),'Subject_0[23].mat'),\n",
    "#                    bscan_key='images',\n",
    "#                    layermap_key='manualLayers1',\n",
    "#                    fluid_key='manualFluid1',\n",
    "#                    bscan_format='hws',\n",
    "#                    layermap_format='lws',\n",
    "#                    layer_labels=C.DME_LABELS,\n",
    "#                    bscan_folder=C.BSCAN_PATTERN.format(data=data),\n",
    "#                    layer_folder=C.LAYER_PATTERN.format(data=data, dtype='reduce4'),\n",
    "#                    fluid_folder=C.FLUID_PATTERN.format(data=data),\n",
    "#                    valid_slice_indices_fn=get_dme_valid_idx,\n",
    "#                    remove_from=range(2,8), # DME also has 8 layers, we choose 6 out of 8\n",
    "#                    n_remove=4)"
   ]
  },
  {
   "cell_type": "markdown",
   "metadata": {
    "id": "TmvbhX9CPb6i"
   },
   "source": [
    "### 1.2.3 AMD\n",
    "\n",
    "There are only 3 layers within it. Let it go."
   ]
  },
  {
   "cell_type": "markdown",
   "metadata": {
    "id": "czhJCeIePiI1"
   },
   "source": [
    "### 1.2.4 AROI"
   ]
  },
  {
   "cell_type": "code",
   "execution_count": 10,
   "metadata": {
    "colab": {
     "background_save": true
    },
    "id": "5uwDJda2Mhj7"
   },
   "outputs": [
    {
     "name": "stderr",
     "output_type": "stream",
     "text": [
      "  3%|▎         | 29/1105 [00:03<01:34, 11.44it/s]"
     ]
    },
    {
     "name": "stdout",
     "output_type": "stream",
     "text": [
      "Error occurred when detecting edges data/raw/AROI/24 patient/patient14/mask/number/patient14_raw0075.png\n"
     ]
    },
    {
     "name": "stderr",
     "output_type": "stream",
     "text": [
      " 35%|███▍      | 386/1105 [00:27<00:38, 18.65it/s]"
     ]
    },
    {
     "name": "stdout",
     "output_type": "stream",
     "text": [
      "Error occurred when detecting edges data/raw/AROI/24 patient/patient5/mask/number/patient5_raw0067.png\n",
      "Error occurred when detecting edges data/raw/AROI/24 patient/patient5/mask/number/patient5_raw0064.png\n",
      "Error occurred when detecting edges data/raw/AROI/24 patient/patient5/mask/number/patient5_raw0065.png\n"
     ]
    },
    {
     "name": "stderr",
     "output_type": "stream",
     "text": [
      " 36%|███▌      | 396/1105 [00:27<00:35, 19.85it/s]"
     ]
    },
    {
     "name": "stdout",
     "output_type": "stream",
     "text": [
      "Error occurred when detecting edges data/raw/AROI/24 patient/patient5/mask/number/patient5_raw0066.png\n"
     ]
    },
    {
     "name": "stderr",
     "output_type": "stream",
     "text": [
      " 83%|████████▎ | 918/1105 [01:03<00:10, 18.14it/s]"
     ]
    },
    {
     "name": "stdout",
     "output_type": "stream",
     "text": [
      "Error occurred when detecting edges data/raw/AROI/24 patient/patient10/mask/number/patient10_raw0070.png\n"
     ]
    },
    {
     "name": "stderr",
     "output_type": "stream",
     "text": [
      " 89%|████████▊ | 978/1105 [01:07<00:07, 15.98it/s]"
     ]
    },
    {
     "name": "stdout",
     "output_type": "stream",
     "text": [
      "Error occurred when detecting edges data/raw/AROI/24 patient/patient10/mask/number/patient10_raw0068.png\n"
     ]
    },
    {
     "name": "stderr",
     "output_type": "stream",
     "text": [
      " 89%|████████▉ | 985/1105 [01:07<00:07, 16.86it/s]"
     ]
    },
    {
     "name": "stdout",
     "output_type": "stream",
     "text": [
      "Error occurred when detecting edges data/raw/AROI/24 patient/patient10/mask/number/patient10_raw0069.png\n"
     ]
    },
    {
     "name": "stderr",
     "output_type": "stream",
     "text": [
      " 96%|█████████▌| 1058/1105 [01:12<00:02, 18.00it/s]"
     ]
    },
    {
     "name": "stdout",
     "output_type": "stream",
     "text": [
      "Error occurred when detecting edges data/raw/AROI/24 patient/patient11/mask/number/patient11_raw0069.png\n"
     ]
    },
    {
     "name": "stderr",
     "output_type": "stream",
     "text": [
      "100%|██████████| 1105/1105 [01:15<00:00, 14.71it/s]"
     ]
    },
    {
     "name": "stdout",
     "output_type": "stream",
     "text": [
      "Sum of skipped files:  9\n"
     ]
    },
    {
     "name": "stderr",
     "output_type": "stream",
     "text": [
      "\n"
     ]
    }
   ],
   "source": [
    "data = 'AROI'\n",
    "dtype = 'reduce1'\n",
    "extract_data_aroi(raw_data_folder=C.RAW_DATA_PATTERN.format(data=data),\n",
    "                 bscan_folder=C.BSCAN_PATTERN.format(data=data),\n",
    "                 layer_folder=C.LAYER_PATTERN.format(data=data, dtype=dtype),\n",
    "                 fluid_folder=C.FLUID_PATTERN.format(data=data),\n",
    "                 dtype=dtype,\n",
    "                 fluid_labels=C.FLUID_LABELS,\n",
    "                 layer_labels=C.AROI_LABELS,\n",
    "                 remove_from=range(1,3),\n",
    "                 n_remove=1)"
   ]
  },
  {
   "cell_type": "markdown",
   "metadata": {
    "id": "Gy7tSqvJQ_Yk"
   },
   "source": [
    "# 2 Split Data into train, val and test"
   ]
  },
  {
   "cell_type": "markdown",
   "metadata": {
    "id": "O9jXPaTcSm-C",
    "tags": []
   },
   "source": [
    "## 2.1 Original Data"
   ]
  },
  {
   "cell_type": "markdown",
   "metadata": {
    "id": "nbnXzvJMSrDm",
    "tags": []
   },
   "source": [
    "### 2.1.1 RTA"
   ]
  },
  {
   "cell_type": "code",
   "execution_count": 11,
   "metadata": {},
   "outputs": [
    {
     "name": "stdout",
     "output_type": "stream",
     "text": [
      "[INFO] 92 files matches pattern data/extract/bscans/RTA/*.jpg\n",
      "Preparing train files:\n",
      "created dst label folder data/splits/RTA/original/labels/train\n",
      "created dst bscan folder data/splits/RTA/original/bscans/train\n"
     ]
    },
    {
     "name": "stderr",
     "output_type": "stream",
     "text": [
      "100%|██████████| 73/73 [00:00<00:00, 2021.46it/s]\n"
     ]
    },
    {
     "name": "stdout",
     "output_type": "stream",
     "text": [
      "Preparing test files:\n",
      "created dst label folder data/splits/RTA/original/labels/test\n",
      "created dst bscan folder data/splits/RTA/original/bscans/test\n"
     ]
    },
    {
     "name": "stderr",
     "output_type": "stream",
     "text": [
      "100%|██████████| 9/9 [00:00<00:00, 1570.77it/s]\n"
     ]
    },
    {
     "name": "stdout",
     "output_type": "stream",
     "text": [
      "Preparing val files:\n",
      "created dst label folder data/splits/RTA/original/labels/val\n",
      "created dst bscan folder data/splits/RTA/original/bscans/val\n"
     ]
    },
    {
     "name": "stderr",
     "output_type": "stream",
     "text": [
      "100%|██████████| 10/10 [00:00<00:00, 1461.58it/s]\n"
     ]
    }
   ],
   "source": [
    "data, dtype = \"RTA\", \"original\"\n",
    "name = \"original\"\n",
    "\n",
    "prepare_files(data=data, \n",
    "              dst_folder=C.SPLIT_PATTERN.format(data=data, name=name), \n",
    "              train_ratio=0.8, \n",
    "              test_ratio=0.1,\n",
    "              with_fluids=False,\n",
    "              dtype=dtype  )"
   ]
  },
  {
   "cell_type": "markdown",
   "metadata": {
    "id": "VQLMPJvfS39O",
    "tags": []
   },
   "source": [
    "### 2.1.2 DME\n",
    "\n",
    "Just a backup for original code\n",
    "```python\n",
    "bscan_files = glob(C.DME_BSCAN_ORIGINAL_FOLDER + '*.jpg')\n",
    "assert len(bscan_files) != 0\n",
    "\n",
    "train_files, test_files, val_files = split_files(bscan_files, 0.8, 0.1)\n",
    "assert len(train_files) != 0, f\"train_files is empty, data may have already been moved\"\n",
    "\n",
    "splited_files = {\n",
    "    'train': train_files,\n",
    "    'test': test_files,\n",
    "    'val': val_files\n",
    "}\n",
    "move_files(splited_files, C.DME_LAYER_BSCAN_ORIGINAL_ROOT, C.DME_SPLIT_ORIGINAL_FOLDER)\n",
    "```"
   ]
  },
  {
   "cell_type": "code",
   "execution_count": 12,
   "metadata": {
    "executionInfo": {
     "elapsed": 1310,
     "status": "ok",
     "timestamp": 1649276015123,
     "user": {
      "displayName": "Yuanchun",
      "userId": "14461537273961936529"
     },
     "user_tz": -120
    },
    "id": "1kZrkt_5S908"
   },
   "outputs": [
    {
     "name": "stdout",
     "output_type": "stream",
     "text": [
      "[INFO] 110 files matches pattern data/extract/bscans/DME/*.jpg\n",
      "Preparing train files:\n",
      "created dst label folder data/splits/DME/original/labels/train\n",
      "created dst bscan folder data/splits/DME/original/bscans/train\n"
     ]
    },
    {
     "name": "stderr",
     "output_type": "stream",
     "text": [
      "100%|██████████| 88/88 [00:00<00:00, 184.62it/s]\n"
     ]
    },
    {
     "name": "stdout",
     "output_type": "stream",
     "text": [
      "Preparing test files:\n",
      "created dst label folder data/splits/DME/original/labels/test\n",
      "created dst bscan folder data/splits/DME/original/bscans/test\n"
     ]
    },
    {
     "name": "stderr",
     "output_type": "stream",
     "text": [
      "100%|██████████| 11/11 [00:00<00:00, 151.58it/s]\n"
     ]
    },
    {
     "name": "stdout",
     "output_type": "stream",
     "text": [
      "Preparing val files:\n",
      "created dst label folder data/splits/DME/original/labels/val\n",
      "created dst bscan folder data/splits/DME/original/bscans/val\n"
     ]
    },
    {
     "name": "stderr",
     "output_type": "stream",
     "text": [
      "100%|██████████| 11/11 [00:00<00:00, 134.92it/s]\n"
     ]
    }
   ],
   "source": [
    "data, dtype = \"DME\", \"original\"\n",
    "name = \"original\"\n",
    "\n",
    "prepare_files(data=data, \n",
    "              dst_folder=C.SPLIT_PATTERN.format(data=data, name=name), \n",
    "              train_ratio=0.8, \n",
    "              test_ratio=0.1,\n",
    "              with_fluids=True,\n",
    "              dtype=dtype)"
   ]
  },
  {
   "cell_type": "markdown",
   "metadata": {
    "id": "vvkW-qBKTCkY",
    "tags": []
   },
   "source": [
    "### 2.1.3 AMD"
   ]
  },
  {
   "cell_type": "code",
   "execution_count": 13,
   "metadata": {},
   "outputs": [
    {
     "name": "stdout",
     "output_type": "stream",
     "text": [
      "[INFO] 29354 files matches pattern data/extract/bscans/AMD/*.jpg\n",
      "Preparing train files:\n",
      "created dst label folder data/splits/AMD/original/labels/train\n",
      "created dst bscan folder data/splits/AMD/original/bscans/train\n"
     ]
    },
    {
     "name": "stderr",
     "output_type": "stream",
     "text": [
      "100%|██████████| 23483/23483 [01:35<00:00, 244.91it/s]\n"
     ]
    },
    {
     "name": "stdout",
     "output_type": "stream",
     "text": [
      "Preparing test files:\n",
      "created dst label folder data/splits/AMD/original/labels/test\n",
      "created dst bscan folder data/splits/AMD/original/bscans/test\n"
     ]
    },
    {
     "name": "stderr",
     "output_type": "stream",
     "text": [
      "100%|██████████| 2935/2935 [00:11<00:00, 266.51it/s]\n"
     ]
    },
    {
     "name": "stdout",
     "output_type": "stream",
     "text": [
      "Preparing val files:\n",
      "created dst label folder data/splits/AMD/original/labels/val\n",
      "created dst bscan folder data/splits/AMD/original/bscans/val\n"
     ]
    },
    {
     "name": "stderr",
     "output_type": "stream",
     "text": [
      "100%|██████████| 2936/2936 [00:11<00:00, 251.53it/s]\n"
     ]
    }
   ],
   "source": [
    "data, dtype = \"AMD\", \"original\"\n",
    "name = \"original\"\n",
    "\n",
    "prepare_files(data=data, \n",
    "              dst_folder=C.SPLIT_PATTERN.format(data=data, name=name), \n",
    "              train_ratio=0.8, \n",
    "              test_ratio=0.1,\n",
    "              with_fluids=False,\n",
    "              dtype=dtype)"
   ]
  },
  {
   "cell_type": "markdown",
   "metadata": {
    "id": "6RpQqPH9TLKC",
    "tags": []
   },
   "source": [
    "### 2.1.4 AROI"
   ]
  },
  {
   "cell_type": "code",
   "execution_count": 14,
   "metadata": {},
   "outputs": [
    {
     "name": "stdout",
     "output_type": "stream",
     "text": [
      "[INFO] 1096 files matches pattern data/extract/bscans/AROI/*.png\n",
      "Preparing train files:\n",
      "created dst label folder data/splits/AROI/original/labels/train\n",
      "created dst bscan folder data/splits/AROI/original/bscans/train\n"
     ]
    },
    {
     "name": "stderr",
     "output_type": "stream",
     "text": [
      "100%|██████████| 876/876 [00:06<00:00, 141.16it/s]\n"
     ]
    },
    {
     "name": "stdout",
     "output_type": "stream",
     "text": [
      "Preparing test files:\n",
      "created dst label folder data/splits/AROI/original/labels/test\n",
      "created dst bscan folder data/splits/AROI/original/bscans/test\n"
     ]
    },
    {
     "name": "stderr",
     "output_type": "stream",
     "text": [
      "100%|██████████| 109/109 [00:00<00:00, 141.95it/s]\n"
     ]
    },
    {
     "name": "stdout",
     "output_type": "stream",
     "text": [
      "Preparing val files:\n",
      "created dst label folder data/splits/AROI/original/labels/val\n",
      "created dst bscan folder data/splits/AROI/original/bscans/val\n"
     ]
    },
    {
     "name": "stderr",
     "output_type": "stream",
     "text": [
      "100%|██████████| 111/111 [00:00<00:00, 136.23it/s]\n"
     ]
    }
   ],
   "source": [
    "data, dtype = \"AROI\", \"original\"\n",
    "name = \"original\"\n",
    "\n",
    "prepare_files(data=data, \n",
    "              dst_folder=C.SPLIT_PATTERN.format(data=data, name=name), \n",
    "              train_ratio=0.8, \n",
    "              test_ratio=0.1,\n",
    "              with_fluids=True,\n",
    "              dtype=dtype,\n",
    "              extension='png')"
   ]
  },
  {
   "cell_type": "markdown",
   "metadata": {},
   "source": [
    "#### 2.1.4.1 AROI Hetero"
   ]
  },
  {
   "cell_type": "code",
   "execution_count": 2,
   "metadata": {},
   "outputs": [
    {
     "name": "stdout",
     "output_type": "stream",
     "text": [
      "[INFO] 1096 files matches pattern data/extract/layers/AROI/hetero/*.png\n",
      "Preparing train files:\n",
      "created dst label folder data/splits/AROI/hetero/labels/train\n",
      "created dst bscan folder data/splits/AROI/hetero/bscans/train\n"
     ]
    },
    {
     "name": "stderr",
     "output_type": "stream",
     "text": [
      "100%|██████████| 876/876 [00:06<00:00, 138.00it/s]\n"
     ]
    },
    {
     "name": "stdout",
     "output_type": "stream",
     "text": [
      "Preparing test files:\n",
      "created dst label folder data/splits/AROI/hetero/labels/test\n",
      "created dst bscan folder data/splits/AROI/hetero/bscans/test\n"
     ]
    },
    {
     "name": "stderr",
     "output_type": "stream",
     "text": [
      "100%|██████████| 109/109 [00:00<00:00, 137.83it/s]\n"
     ]
    },
    {
     "name": "stdout",
     "output_type": "stream",
     "text": [
      "Preparing val files:\n",
      "created dst label folder data/splits/AROI/hetero/labels/val\n",
      "created dst bscan folder data/splits/AROI/hetero/bscans/val\n"
     ]
    },
    {
     "name": "stderr",
     "output_type": "stream",
     "text": [
      "100%|██████████| 111/111 [00:00<00:00, 144.80it/s]\n"
     ]
    }
   ],
   "source": [
    "data, dtype = \"AROI\", \"hetero\"\n",
    "name = \"hetero\"\n",
    "\n",
    "prepare_files(data=data, \n",
    "              dst_folder=C.SPLIT_PATTERN.format(data=data, name=name), \n",
    "              train_ratio=0.8, \n",
    "              test_ratio=0.1,\n",
    "              with_fluids=True,\n",
    "              dtype=dtype,\n",
    "              extension='png')"
   ]
  },
  {
   "cell_type": "markdown",
   "metadata": {},
   "source": [
    "### 2.1.5 OP"
   ]
  },
  {
   "cell_type": "code",
   "execution_count": 15,
   "metadata": {},
   "outputs": [
    {
     "name": "stdout",
     "output_type": "stream",
     "text": [
      "[INFO] 12025 files matches pattern data/extract/bscans/OP/*.png\n",
      "Preparing train files:\n",
      "created dst label folder data/splits/OP/original/labels/train\n",
      "created dst bscan folder data/splits/OP/original/bscans/train\n"
     ]
    },
    {
     "name": "stderr",
     "output_type": "stream",
     "text": [
      "100%|██████████| 9620/9620 [00:22<00:00, 424.72it/s]\n"
     ]
    },
    {
     "name": "stdout",
     "output_type": "stream",
     "text": [
      "Preparing test files:\n",
      "created dst label folder data/splits/OP/original/labels/test\n",
      "created dst bscan folder data/splits/OP/original/bscans/test\n"
     ]
    },
    {
     "name": "stderr",
     "output_type": "stream",
     "text": [
      "100%|██████████| 1202/1202 [00:00<00:00, 1327.87it/s]\n"
     ]
    },
    {
     "name": "stdout",
     "output_type": "stream",
     "text": [
      "Preparing val files:\n",
      "created dst label folder data/splits/OP/original/labels/val\n",
      "created dst bscan folder data/splits/OP/original/bscans/val\n"
     ]
    },
    {
     "name": "stderr",
     "output_type": "stream",
     "text": [
      "100%|██████████| 1203/1203 [00:00<00:00, 2500.10it/s]\n"
     ]
    }
   ],
   "source": [
    "data, dtype = \"OP\", \"original\"\n",
    "name = \"original\"\n",
    "\n",
    "prepare_files(data=data, \n",
    "              dst_folder=C.SPLIT_PATTERN.format(data=data, name=name), \n",
    "              train_ratio=0.8, \n",
    "              test_ratio=0.1,\n",
    "              with_fluids=False,\n",
    "              dtype=dtype,\n",
    "              extension='png')"
   ]
  },
  {
   "cell_type": "markdown",
   "metadata": {
    "id": "RARNt_luTUKB",
    "tags": []
   },
   "source": [
    "## 2.2 Reduced-Layer Data"
   ]
  },
  {
   "cell_type": "markdown",
   "metadata": {
    "id": "RBED9BKETY2m",
    "tags": []
   },
   "source": [
    "### 2.2.1 RTA\n",
    "\n",
    "just another backup:\n",
    "```python\n",
    "bscan_files = glob(C.RTA_BSCAN_REDUCED_FOLDER+'*.jpg')\n",
    "print(len(bscan_files))\n",
    "\n",
    "train_files, test_files, val_files = split_files(bscan_files, 0.8, 0.1)\n",
    "assert len(train_files) != 0, f\"train_files is empty, data may have already been moved\"\n",
    "\n",
    "splited_files = {\n",
    "    'train': train_files,\n",
    "    'test': test_files,\n",
    "    'val': val_files\n",
    "}\n",
    "move_files(splited_files, C.RTA_LAYER_BSCAN_REDUCED_ROOT, C.RTA_SPLIT_REDUCED_FOLDER)\n",
    "```"
   ]
  },
  {
   "cell_type": "code",
   "execution_count": 16,
   "metadata": {},
   "outputs": [],
   "source": [
    "# data = \"RTA\"\n",
    "# name = \"reduce_merge\"\n",
    "\n",
    "# prepare_files(data=data, \n",
    "#               dst_folder=C.SPLIT_PATTERN.format(data=data, name=name), \n",
    "#               train_ratio=0.8, \n",
    "#               test_ratio=0.1,\n",
    "#               with_fluids=False,\n",
    "#               dtype=\"reduce1\", \n",
    "#               merge_original=True)\n",
    "# prepare_files(data=data, \n",
    "#               dst_folder=C.SPLIT_PATTERN.format(data=data, name=name), \n",
    "#               train_ratio=0.8, \n",
    "#               test_ratio=0.1,\n",
    "#               with_fluids=False,\n",
    "#               dtype=\"reduce2\", \n",
    "#               merge_original=True)\n",
    "# prepare_files(data=data, \n",
    "#               dst_folder=C.SPLIT_PATTERN.format(data=data, name=name), \n",
    "#               train_ratio=0.8, \n",
    "#               test_ratio=0.1,\n",
    "#               with_fluids=False,\n",
    "#               dtype=\"reduce3\", \n",
    "#               merge_original=True)\n",
    "# prepare_files(data=data, \n",
    "#               dst_folder=C.SPLIT_PATTERN.format(data=data, name=name), \n",
    "#               train_ratio=0.8, \n",
    "#               test_ratio=0.1,\n",
    "#               with_fluids=False,\n",
    "#               dtype=\"reduce4\", \n",
    "#               merge_original=True)\n",
    "# prepare_files(data=data, \n",
    "#               dst_folder=C.SPLIT_PATTERN.format(data=data, name=name), \n",
    "#               train_ratio=0.8, \n",
    "#               test_ratio=0.1,\n",
    "#               with_fluids=False,\n",
    "#               dtype=\"reduce5\", \n",
    "#               merge_original=True)"
   ]
  },
  {
   "cell_type": "markdown",
   "metadata": {
    "id": "fvLvc_lSTaL-"
   },
   "source": [
    "### 2.2.2 DME"
   ]
  },
  {
   "cell_type": "code",
   "execution_count": 17,
   "metadata": {},
   "outputs": [],
   "source": [
    "# data = \"DME\"\n",
    "# name = \"reduce_merge\"\n",
    "\n",
    "# prepare_files(data=data, \n",
    "#               dst_folder=C.SPLIT_PATTERN.format(data=data, name=name), \n",
    "#               train_ratio=0.8, \n",
    "#               test_ratio=0.1,\n",
    "#               with_fluids=True,\n",
    "#               dtype=\"reduce1\", \n",
    "#               merge_original=True)\n",
    "# prepare_files(data=data, \n",
    "#               dst_folder=C.SPLIT_PATTERN.format(data=data, name=name), \n",
    "#               train_ratio=0.8, \n",
    "#               test_ratio=0.1,\n",
    "#               with_fluids=True,\n",
    "#               dtype=\"reduce2\", \n",
    "#               merge_original=True)\n",
    "# prepare_files(data=data, \n",
    "#               dst_folder=C.SPLIT_PATTERN.format(data=data, name=name), \n",
    "#               train_ratio=0.8, \n",
    "#               test_ratio=0.1,\n",
    "#               with_fluids=True,\n",
    "#               dtype=\"reduce3\", \n",
    "#               merge_original=True)\n",
    "# prepare_files(data=data, \n",
    "#               dst_folder=C.SPLIT_PATTERN.format(data=data, name=name), \n",
    "#               train_ratio=0.8, \n",
    "#               test_ratio=0.1,\n",
    "#               with_fluids=True,\n",
    "#               dtype=\"reduce4\", \n",
    "#               merge_original=True)"
   ]
  },
  {
   "cell_type": "markdown",
   "metadata": {
    "id": "AmgakK95Te0c",
    "tags": []
   },
   "source": [
    "### 2.2.3 AROI"
   ]
  },
  {
   "cell_type": "code",
   "execution_count": 18,
   "metadata": {},
   "outputs": [
    {
     "name": "stdout",
     "output_type": "stream",
     "text": [
      "[INFO] 0 files matches pattern data/extract/layers/AROI/reduce1/*.png\n",
      "Preparing train files:\n",
      "created dst label folder data/splits/AROI/reduce1_merge/labels/train\n",
      "created dst bscan folder data/splits/AROI/reduce1_merge/bscans/train\n"
     ]
    },
    {
     "name": "stderr",
     "output_type": "stream",
     "text": [
      "0it [00:00, ?it/s]\n"
     ]
    },
    {
     "name": "stdout",
     "output_type": "stream",
     "text": [
      "Preparing test files:\n",
      "created dst label folder data/splits/AROI/reduce1_merge/labels/test\n",
      "created dst bscan folder data/splits/AROI/reduce1_merge/bscans/test\n"
     ]
    },
    {
     "name": "stderr",
     "output_type": "stream",
     "text": [
      "0it [00:00, ?it/s]\n"
     ]
    },
    {
     "name": "stdout",
     "output_type": "stream",
     "text": [
      "Preparing val files:\n",
      "created dst label folder data/splits/AROI/reduce1_merge/labels/val\n",
      "created dst bscan folder data/splits/AROI/reduce1_merge/bscans/val\n"
     ]
    },
    {
     "name": "stderr",
     "output_type": "stream",
     "text": [
      "0it [00:00, ?it/s]\n"
     ]
    }
   ],
   "source": [
    "data, dtype = \"AROI\", \"reduce1\"\n",
    "name = \"reduce1_merge\"\n",
    "merge_original = True\n",
    "\n",
    "prepare_files(data=data, \n",
    "              dst_folder=C.SPLIT_PATTERN.format(data=data, name=name), \n",
    "              train_ratio=0.8, \n",
    "              test_ratio=0.1,\n",
    "              with_fluids=True,\n",
    "              dtype=dtype, \n",
    "              merge_original=merge_original,\n",
    "              extension='png')"
   ]
  },
  {
   "cell_type": "markdown",
   "metadata": {
    "id": "7KGFVM3zUMKT"
   },
   "source": [
    "# 3 Create pix2pix Compatible Datasets"
   ]
  },
  {
   "cell_type": "markdown",
   "metadata": {
    "id": "YZ66rERnUUWE",
    "tags": []
   },
   "source": [
    "## 3.1 Original Data"
   ]
  },
  {
   "cell_type": "markdown",
   "metadata": {
    "id": "mN61JQ38Uax5",
    "tags": []
   },
   "source": [
    "### 3.1.1 RTA"
   ]
  },
  {
   "cell_type": "code",
   "execution_count": 19,
   "metadata": {
    "colab": {
     "base_uri": "https://localhost:8080/"
    },
    "executionInfo": {
     "elapsed": 23164,
     "status": "ok",
     "timestamp": 1649279146847,
     "user": {
      "displayName": "Yuanchun",
      "userId": "14461537273961936529"
     },
     "user_tz": -120
    },
    "id": "Mgj9hl30UI3E",
    "outputId": "01ca2c76-7a0c-4b08-b1be-b3b16ac942d1"
   },
   "outputs": [
    {
     "name": "stdout",
     "output_type": "stream",
     "text": [
      "[fold_A] =  data/splits/RTA/original/labels\n",
      "[fold_B] =  data/splits/RTA/original/bscans\n",
      "[fold_AB] =  data/datasets/RTA/original\n",
      "[num_imgs] =  1000000\n",
      "[use_AB] =  False\n",
      "[no_multiprocessing] =  False\n",
      "split = train, use 100/100 images\n",
      "split = train, number of images = 100\n",
      "split = test, use 72/72 images\n",
      "split = test, number of images = 72\n",
      "split = val, use 79/79 images\n",
      "split = val, number of images = 79\n"
     ]
    }
   ],
   "source": [
    "label_folder = C.SPLIT_PATTERN.format(data='RTA', name='original') + '/labels'\n",
    "bscan_folder = C.SPLIT_PATTERN.format(data='RTA', name='original') + '/bscans'\n",
    "dataset_folder = C.DATASET_PATTERN.format(data='RTA', name='original')\n",
    "!python pytorch-CycleGAN-and-pix2pix/datasets/combine_A_and_B.py --fold_A $label_folder --fold_B $bscan_folder --fold_AB $dataset_folder"
   ]
  },
  {
   "cell_type": "markdown",
   "metadata": {
    "id": "AnjaMmczUgBj",
    "tags": []
   },
   "source": [
    "### 3.1.2 DME"
   ]
  },
  {
   "cell_type": "code",
   "execution_count": 20,
   "metadata": {
    "colab": {
     "base_uri": "https://localhost:8080/"
    },
    "executionInfo": {
     "elapsed": 24149,
     "status": "ok",
     "timestamp": 1649279205431,
     "user": {
      "displayName": "Yuanchun",
      "userId": "14461537273961936529"
     },
     "user_tz": -120
    },
    "id": "YeHdsbT1UK8b",
    "outputId": "ef50a858-da8f-46ca-bb99-e65655a39a96"
   },
   "outputs": [
    {
     "name": "stdout",
     "output_type": "stream",
     "text": [
      "[fold_A] =  data/splits/DME/original/labels\n",
      "[fold_B] =  data/splits/DME/original/bscans\n",
      "[fold_AB] =  data/datasets/DME/original\n",
      "[num_imgs] =  1000000\n",
      "[use_AB] =  False\n",
      "[no_multiprocessing] =  False\n",
      "split = train, use 110/110 images\n",
      "split = train, number of images = 110\n",
      "split = test, use 61/61 images\n",
      "split = test, number of images = 61\n",
      "split = val, use 61/61 images\n",
      "split = val, number of images = 61\n"
     ]
    }
   ],
   "source": [
    "label_folder = C.SPLIT_PATTERN.format(data='DME', name='original') + '/labels'\n",
    "bscan_folder = C.SPLIT_PATTERN.format(data='DME', name='original') + '/bscans'\n",
    "dataset_folder = C.DATASET_PATTERN.format(data='DME', name='original')\n",
    "!python pytorch-CycleGAN-and-pix2pix/datasets/combine_A_and_B.py \\\n",
    "    --fold_A $label_folder \\\n",
    "    --fold_B $bscan_folder \\\n",
    "    --fold_AB $dataset_folder"
   ]
  },
  {
   "cell_type": "markdown",
   "metadata": {
    "id": "v2xsX8W-UiFx",
    "tags": []
   },
   "source": [
    "### 3.1.3 AMD"
   ]
  },
  {
   "cell_type": "code",
   "execution_count": 21,
   "metadata": {
    "colab": {
     "base_uri": "https://localhost:8080/"
    },
    "executionInfo": {
     "elapsed": 1123894,
     "status": "ok",
     "timestamp": 1649280333227,
     "user": {
      "displayName": "Yuanchun",
      "userId": "14461537273961936529"
     },
     "user_tz": -120
    },
    "id": "RA2nzPvkUmcq",
    "outputId": "f8f2ffee-e500-4407-846c-254167956c50"
   },
   "outputs": [
    {
     "name": "stdout",
     "output_type": "stream",
     "text": [
      "[fold_A] =  data/splits/AMD/original/labels\n",
      "[fold_B] =  data/splits/AMD/original/bscans\n",
      "[fold_AB] =  data/datasets/AMD/original\n",
      "[num_imgs] =  1000000\n",
      "[use_AB] =  False\n",
      "[no_multiprocessing] =  False\n",
      "split = train, use 26899/26899 images\n",
      "split = train, number of images = 26899\n",
      "split = test, use 6933/6933 images\n",
      "split = test, number of images = 6933\n",
      "split = val, use 6465/6465 images\n",
      "split = val, number of images = 6465\n"
     ]
    }
   ],
   "source": [
    "label_folder = C.SPLIT_PATTERN.format(data='AMD', name='original') + '/labels'\n",
    "bscan_folder = C.SPLIT_PATTERN.format(data='AMD', name='original') + '/bscans'\n",
    "dataset_folder = C.DATASET_PATTERN.format(data='AMD', name='original')\n",
    "!python pytorch-CycleGAN-and-pix2pix/datasets/combine_A_and_B.py --fold_A $label_folder --fold_B $bscan_folder --fold_AB $dataset_folder"
   ]
  },
  {
   "cell_type": "code",
   "execution_count": 22,
   "metadata": {
    "colab": {
     "base_uri": "https://localhost:8080/"
    },
    "executionInfo": {
     "elapsed": 5294,
     "status": "ok",
     "timestamp": 1649280946177,
     "user": {
      "displayName": "Yuanchun",
      "userId": "14461537273961936529"
     },
     "user_tz": -120
    },
    "id": "ctH4O8-EyAkd",
    "outputId": "9985a15f-6088-48c8-ebda-9f37765cd204"
   },
   "outputs": [
    {
     "name": "stdout",
     "output_type": "stream",
     "text": [
      "/bin/bash: /usr/bin/rm: Argument list too long\n"
     ]
    }
   ],
   "source": [
    "# delete generated AMD datasets\n",
    "!rm $dataset_folder/test/Farsiu_*\n",
    "!rm $dataset_folder/train/Farsiu_*\n",
    "!rm $dataset_folder/val/Farsiu_*"
   ]
  },
  {
   "cell_type": "markdown",
   "metadata": {
    "id": "uWWgeVvwUm38"
   },
   "source": [
    "### 3.1.4 AROI"
   ]
  },
  {
   "cell_type": "code",
   "execution_count": 23,
   "metadata": {},
   "outputs": [
    {
     "name": "stdout",
     "output_type": "stream",
     "text": [
      "[fold_A] =  data/splits/AROI/original/labels\n",
      "[fold_B] =  data/splits/AROI/original/bscans\n",
      "[fold_AB] =  data/datasets/AROI/original\n",
      "[num_imgs] =  1000000\n",
      "[use_AB] =  False\n",
      "[no_multiprocessing] =  False\n",
      "split = train, use 1094/1094 images\n",
      "split = train, number of images = 1094\n",
      "split = test, use 377/377 images\n",
      "split = test, number of images = 377\n",
      "split = val, use 376/376 images\n",
      "split = val, number of images = 376\n"
     ]
    }
   ],
   "source": [
    "label_folder = C.SPLIT_PATTERN.format(data='AROI', name='original') + '/labels'\n",
    "bscan_folder = C.SPLIT_PATTERN.format(data='AROI', name='original') + '/bscans'\n",
    "dataset_folder = C.DATASET_PATTERN.format(data='AROI', name='original')\n",
    "!python pytorch-CycleGAN-and-pix2pix/datasets/combine_A_and_B.py \\\n",
    "    --fold_A $label_folder \\\n",
    "    --fold_B $bscan_folder \\\n",
    "    --fold_AB $dataset_folder"
   ]
  },
  {
   "cell_type": "markdown",
   "metadata": {},
   "source": [
    "#### 3.1.4.1 AROI Hetero"
   ]
  },
  {
   "cell_type": "code",
   "execution_count": 3,
   "metadata": {},
   "outputs": [
    {
     "name": "stdout",
     "output_type": "stream",
     "text": [
      "[fold_A] =  data/splits/AROI/hetero/labels\n",
      "[fold_B] =  data/splits/AROI/hetero/bscans\n",
      "[fold_AB] =  data/datasets/AROI/hetero\n",
      "[num_imgs] =  1000000\n",
      "[use_AB] =  False\n",
      "[no_multiprocessing] =  False\n",
      "split = train, use 876/876 images\n",
      "split = train, number of images = 876\n",
      "split = test, use 109/109 images\n",
      "split = test, number of images = 109\n",
      "split = val, use 111/111 images\n",
      "split = val, number of images = 111\n"
     ]
    }
   ],
   "source": [
    "label_folder = C.SPLIT_PATTERN.format(data='AROI', name='hetero') + '/labels'\n",
    "bscan_folder = C.SPLIT_PATTERN.format(data='AROI', name='hetero') + '/bscans'\n",
    "dataset_folder = C.DATASET_PATTERN.format(data='AROI', name='hetero')\n",
    "!python pytorch-CycleGAN-and-pix2pix/datasets/combine_A_and_B.py \\\n",
    "    --fold_A $label_folder \\\n",
    "    --fold_B $bscan_folder \\\n",
    "    --fold_AB $dataset_folder"
   ]
  },
  {
   "cell_type": "markdown",
   "metadata": {},
   "source": [
    "### 3.1.5 OP"
   ]
  },
  {
   "cell_type": "code",
   "execution_count": 24,
   "metadata": {},
   "outputs": [
    {
     "name": "stdout",
     "output_type": "stream",
     "text": [
      "[fold_A] =  data/splits/OP/original/labels\n",
      "[fold_B] =  data/splits/OP/original/bscans\n",
      "[fold_AB] =  data/datasets/OP/original\n",
      "[num_imgs] =  1000000\n",
      "[use_AB] =  False\n",
      "[no_multiprocessing] =  False\n",
      "split = train, use 11945/11945 images\n",
      "split = train, number of images = 11945\n",
      "split = test, use 4153/4153 images\n",
      "split = test, number of images = 4153\n",
      "split = val, use 4102/4102 images\n",
      "split = val, number of images = 4102\n"
     ]
    }
   ],
   "source": [
    "label_folder = C.SPLIT_PATTERN.format(data='OP', name='original') + '/labels'\n",
    "bscan_folder = C.SPLIT_PATTERN.format(data='OP', name='original') + '/bscans'\n",
    "dataset_folder = C.DATASET_PATTERN.format(data='OP', name='original')\n",
    "!python pytorch-CycleGAN-and-pix2pix/datasets/combine_A_and_B.py \\\n",
    "    --fold_A $label_folder \\\n",
    "    --fold_B $bscan_folder \\\n",
    "    --fold_AB $dataset_folder"
   ]
  },
  {
   "cell_type": "markdown",
   "metadata": {
    "id": "qigV5v4zU1sZ",
    "tags": []
   },
   "source": [
    "## 3.2 Reduced-Layer Data"
   ]
  },
  {
   "cell_type": "markdown",
   "metadata": {
    "id": "2_e1O-9OU9Ls",
    "jp-MarkdownHeadingCollapsed": true,
    "tags": []
   },
   "source": [
    "### 3.2.1 RTA"
   ]
  },
  {
   "cell_type": "code",
   "execution_count": 25,
   "metadata": {
    "colab": {
     "base_uri": "https://localhost:8080/"
    },
    "executionInfo": {
     "elapsed": 34100,
     "status": "ok",
     "timestamp": 1649281131415,
     "user": {
      "displayName": "Yuanchun",
      "userId": "14461537273961936529"
     },
     "user_tz": -120
    },
    "id": "tFWLtO4kU6iO",
    "outputId": "d4980c84-8096-4b12-99bb-6b0591a3fdee"
   },
   "outputs": [],
   "source": [
    "# data, name = \"RTA\", \"reduce_merge\"\n",
    "# bscan_folder = os.path.join(C.SPLIT_PATTERN.format(data=data, name=name), \"bscans\")\n",
    "# label_folder = os.path.join(C.SPLIT_PATTERN.format(data=data, name=name), \"labels\")\n",
    "# dataset_folder = C.DATASET_PATTERN.format(data=data, name=name)\n",
    "\n",
    "# !python pytorch-CycleGAN-and-pix2pix/datasets/combine_A_and_B.py \\\n",
    "#     --fold_A $label_folder \\\n",
    "#     --fold_B $bscan_folder \\\n",
    "#     --fold_AB $dataset_folder"
   ]
  },
  {
   "cell_type": "markdown",
   "metadata": {
    "id": "G0KysNxsVG7-",
    "tags": []
   },
   "source": [
    "### 3.2.2 DME"
   ]
  },
  {
   "cell_type": "code",
   "execution_count": 26,
   "metadata": {
    "colab": {
     "base_uri": "https://localhost:8080/"
    },
    "executionInfo": {
     "elapsed": 45593,
     "status": "ok",
     "timestamp": 1649281177003,
     "user": {
      "displayName": "Yuanchun",
      "userId": "14461537273961936529"
     },
     "user_tz": -120
    },
    "id": "mw5v2jFAU4R_",
    "outputId": "cbdcd6bb-5086-43fa-d553-6f6349e17fe4"
   },
   "outputs": [],
   "source": [
    "# data, name = \"DME\", \"reduce_merge\"\n",
    "# bscan_folder = os.path.join(C.SPLIT_PATTERN.format(data=data, name=name), \"bscans\")\n",
    "# label_folder = os.path.join(C.SPLIT_PATTERN.format(data=data, name=name), \"labels\")\n",
    "# dataset_folder = C.DATASET_PATTERN.format(data=data, name=name)\n",
    "\n",
    "# !python pytorch-CycleGAN-and-pix2pix/datasets/combine_A_and_B.py \\\n",
    "#     --fold_A $label_folder \\\n",
    "#     --fold_B $bscan_folder \\\n",
    "#     --fold_AB $dataset_folder"
   ]
  },
  {
   "cell_type": "markdown",
   "metadata": {
    "id": "GPDOCFExVNqE"
   },
   "source": [
    "### 3.2.3 AROI"
   ]
  },
  {
   "cell_type": "code",
   "execution_count": 27,
   "metadata": {},
   "outputs": [],
   "source": [
    "data, name = \"AROI\", \"reduce1_merge\"\n",
    "\n",
    "bscan_folder = os.path.join(C.SPLIT_PATTERN.format(data=data, name=name), \"bscans\")\n",
    "label_folder = os.path.join(C.SPLIT_PATTERN.format(data=data, name=name), \"labels\")\n",
    "dataset_folder = C.DATASET_PATTERN.format(data=data, name=name)"
   ]
  },
  {
   "cell_type": "code",
   "execution_count": 28,
   "metadata": {
    "id": "iextlvmWVPjD"
   },
   "outputs": [
    {
     "name": "stdout",
     "output_type": "stream",
     "text": [
      "[fold_A] =  data/splits/AROI/reduce1_merge/labels\n",
      "[fold_B] =  data/splits/AROI/reduce1_merge/bscans\n",
      "[fold_AB] =  data/datasets/AROI/reduce1_merge\n",
      "[num_imgs] =  1000000\n",
      "[use_AB] =  False\n",
      "[no_multiprocessing] =  False\n",
      "split = train, use 1752/1752 images\n",
      "split = train, number of images = 1752\n",
      "split = test, use 218/218 images\n",
      "split = test, number of images = 218\n",
      "split = val, use 222/222 images\n",
      "split = val, number of images = 222\n"
     ]
    }
   ],
   "source": [
    "!python pytorch-CycleGAN-and-pix2pix/datasets/combine_A_and_B.py \\\n",
    "    --fold_A \"$label_folder\" \\\n",
    "    --fold_B \"$bscan_folder\" \\\n",
    "    --fold_AB \"$dataset_folder\" "
   ]
  },
  {
   "cell_type": "code",
   "execution_count": null,
   "metadata": {
    "id": "lGbJHLeDIK6u"
   },
   "outputs": [],
   "source": []
  },
  {
   "cell_type": "code",
   "execution_count": null,
   "metadata": {},
   "outputs": [],
   "source": []
  }
 ],
 "metadata": {
  "colab": {
   "collapsed_sections": [
    "p2l3zVo-LVRO",
    "j-Kilc7tLg6u",
    "HZh3WsSnQEQc",
    "M9PaKEHPNPFu",
    "iN8ntIoENfZJ",
    "h1oRBMyPNiFG",
    "69I4rweZNleL",
    "ocEvOnJ8PST_",
    "lsGkSrPAPYko",
    "xN28uBYqRXqc",
    "nbnXzvJMSrDm",
    "VQLMPJvfS39O",
    "6RpQqPH9TLKC",
    "RARNt_luTUKB",
    "RBED9BKETY2m",
    "fvLvc_lSTaL-",
    "smwA3LuTTdOg",
    "AmgakK95Te0c",
    "7KGFVM3zUMKT",
    "mN61JQ38Uax5",
    "AnjaMmczUgBj",
    "v2xsX8W-UiFx",
    "uWWgeVvwUm38",
    "2_e1O-9OU9Ls",
    "G0KysNxsVG7-"
   ],
   "name": "Data Processing.ipynb",
   "provenance": []
  },
  "interpreter": {
   "hash": "341eb00c4a9278ff831ee92c03245caab542deedbe9556143b586a9f4837c15e"
  },
  "kernelspec": {
   "display_name": "Python 3",
   "language": "python",
   "name": "python3"
  },
  "language_info": {
   "codemirror_mode": {
    "name": "ipython",
    "version": 3
   },
   "file_extension": ".py",
   "mimetype": "text/x-python",
   "name": "python",
   "nbconvert_exporter": "python",
   "pygments_lexer": "ipython3",
   "version": "3.8.12"
  }
 },
 "nbformat": 4,
 "nbformat_minor": 4
}
