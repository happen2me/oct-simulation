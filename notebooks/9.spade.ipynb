{
 "cells": [
  {
   "attachments": {},
   "cell_type": "markdown",
   "metadata": {},
   "source": [
    "# SPADE\n",
    "\n",
    "To utilize one-hot input, we use the SPADE model, which is a high-res version of pix2pix."
   ]
  },
  {
   "attachments": {},
   "cell_type": "markdown",
   "metadata": {},
   "source": [
    "Help doc of the train script\n",
    "\n",
    "```bash\n",
    "usage: train.py [-h] [--name NAME] [--gpu_ids GPU_IDS] [--checkpoints_dir CHECKPOINTS_DIR] [--model MODEL] [--norm_G NORM_G] [--norm_D NORM_D] [--norm_E NORM_E] [--phase PHASE] [--batchSize BATCHSIZE]\n",
    "                [--preprocess_mode {resize_and_crop,crop,scale_width,scale_width_and_crop,scale_shortside,scale_shortside_and_crop,fixed,none}] [--load_size LOAD_SIZE] [--crop_size CROP_SIZE] [--aspect_ratio ASPECT_RATIO] [--label_nc LABEL_NC]\n",
    "                [--contain_dontcare_label] [--output_nc OUTPUT_NC] [--dataroot DATAROOT] [--dataset_mode DATASET_MODE] [--serial_batches] [--no_flip] [--nThreads NTHREADS] [--max_dataset_size MAX_DATASET_SIZE] [--load_from_opt_file] [--cache_filelist_write]\n",
    "                [--cache_filelist_read] [--display_winsize DISPLAY_WINSIZE] [--netG NETG] [--ngf NGF] [--init_type INIT_TYPE] [--init_variance INIT_VARIANCE] [--z_dim Z_DIM] [--no_instance] [--nef NEF] [--use_vae] [--display_freq DISPLAY_FREQ] [--print_freq PRINT_FREQ]\n",
    "                [--save_latest_freq SAVE_LATEST_FREQ] [--save_epoch_freq SAVE_EPOCH_FREQ] [--no_html] [--debug] [--tf_log] [--continue_train] [--which_epoch WHICH_EPOCH] [--niter NITER] [--niter_decay NITER_DECAY] [--optimizer OPTIMIZER] [--beta1 BETA1] [--beta2 BETA2]\n",
    "                [--no_TTUR]\n",
    "\n",
    "optional arguments:\n",
    "  -h, --help            show this help message and exit\n",
    "  --name NAME           name of the experiment. It decides where to store samples and models (default: label2coco)\n",
    "  --gpu_ids GPU_IDS     gpu ids: e.g. 0 0,1,2, 0,2. use -1 for CPU (default: 0)\n",
    "  --checkpoints_dir CHECKPOINTS_DIR\n",
    "                        models are saved here (default: ./checkpoints)\n",
    "  --model MODEL         which model to use (default: pix2pix)\n",
    "  --norm_G NORM_G       instance normalization or batch normalization (default: spectralinstance)\n",
    "  --norm_D NORM_D       instance normalization or batch normalization (default: spectralinstance)\n",
    "  --norm_E NORM_E       instance normalization or batch normalization (default: spectralinstance)\n",
    "  --phase PHASE         train, val, test, etc (default: train)\n",
    "  --batchSize BATCHSIZE\n",
    "                        input batch size (default: 1)\n",
    "  --preprocess_mode {resize_and_crop,crop,scale_width,scale_width_and_crop,scale_shortside,scale_shortside_and_crop,fixed,none}\n",
    "                        scaling and cropping of images at load time. (default: scale_width_and_crop)\n",
    "  --load_size LOAD_SIZE\n",
    "                        Scale images to this size. The final image will be cropped to --crop_size. (default: 1024)\n",
    "  --crop_size CROP_SIZE\n",
    "                        Crop to the width of crop_size (after initially scaling the images to load_size.) (default: 512)\n",
    "  --aspect_ratio ASPECT_RATIO\n",
    "                        The ratio width/height. The final height of the load image will be crop_size/aspect_ratio (default: 1.0)\n",
    "  --label_nc LABEL_NC   # of input label classes without unknown class. If you have unknown class as class label, specify --contain_dopntcare_label. (default: 182)\n",
    "  --contain_dontcare_label\n",
    "                        if the label map contains dontcare label (dontcare=255) (default: False)\n",
    "  --output_nc OUTPUT_NC\n",
    "                        # of output image channels (default: 3)\n",
    "  --dataroot DATAROOT\n",
    "  --dataset_mode DATASET_MODE\n",
    "  --serial_batches      if true, takes images in order to make batches, otherwise takes them randomly (default: False)\n",
    "  --no_flip             if specified, do not flip the images for data argumentation (default: False)\n",
    "  --nThreads NTHREADS   # threads for loading data (default: 0)\n",
    "  --max_dataset_size MAX_DATASET_SIZE\n",
    "                        Maximum number of samples allowed per dataset. If the dataset directory contains more than max_dataset_size, only a subset is loaded. (default: 9223372036854775807)\n",
    "  --load_from_opt_file  load the options from checkpoints and use that as default (default: False)\n",
    "  --cache_filelist_write\n",
    "                        saves the current filelist into a text file, so that it loads faster (default: False)\n",
    "  --cache_filelist_read\n",
    "                        reads from the file list cache (default: False)\n",
    "  --display_winsize DISPLAY_WINSIZE\n",
    "                        display window size (default: 400)\n",
    "  --netG NETG           selects model to use for netG (pix2pixhd | spade) (default: spade)\n",
    "  --ngf NGF             # of gen filters in first conv layer (default: 64)\n",
    "  --init_type INIT_TYPE\n",
    "                        network initialization [normal|xavier|kaiming|orthogonal] (default: xavier)\n",
    "  --init_variance INIT_VARIANCE\n",
    "                        variance of the initialization distribution (default: 0.02)\n",
    "  --z_dim Z_DIM         dimension of the latent z vector (default: 256)\n",
    "  --no_instance         if specified, do *not* add instance map as input (default: False)\n",
    "  --nef NEF             # of encoder filters in the first conv layer (default: 16)\n",
    "  --use_vae             enable training with an image encoder. (default: False)\n",
    "  --display_freq DISPLAY_FREQ\n",
    "                        frequency of showing training results on screen (default: 100)\n",
    "  --print_freq PRINT_FREQ\n",
    "                        frequency of showing training results on console (default: 100)\n",
    "  --save_latest_freq SAVE_LATEST_FREQ\n",
    "                        frequency of saving the latest results (default: 5000)\n",
    "  --save_epoch_freq SAVE_EPOCH_FREQ\n",
    "                        frequency of saving checkpoints at the end of epochs (default: 10)\n",
    "  --no_html             do not save intermediate training results to [opt.checkpoints_dir]/[opt.name]/web/ (default: False)\n",
    "  --debug               only do one epoch and displays at each iteration (default: False)\n",
    "  --tf_log              if specified, use tensorboard logging. Requires tensorflow installed (default: False)\n",
    "  --continue_train      continue training: load the latest model (default: False)\n",
    "  --which_epoch WHICH_EPOCH\n",
    "                        which epoch to load? set to latest to use latest cached model (default: latest)\n",
    "  --niter NITER         # of iter at starting learning rate. This is NOT the total #epochs. Totla #epochs is niter + niter_decay (default: 50)\n",
    "  --niter_decay NITER_DECAY\n",
    "                        # of iter to linearly decay learning rate to zero (default: 0)\n",
    "  --optimizer OPTIMIZER\n",
    "  --beta1 BETA1         momentum term of adam (default: 0.0)\n",
    "  --beta2 BETA2         momentum term of adam (default: 0.9)\n",
    "  --no_TTUR             Use TTUR training scheme (default: False)\n",
    "```"
   ]
  },
  {
   "cell_type": "code",
   "execution_count": null,
   "metadata": {},
   "outputs": [],
   "source": [
    "import os\n",
    "os.chdir('/home/extra/micheal/IDP')"
   ]
  },
  {
   "cell_type": "code",
   "execution_count": null,
   "metadata": {},
   "outputs": [],
   "source": [
    "src_dir = 'data/splits/cross_large/labels'\n",
    "dst_dir = 'data/splits/cross_large/bscans'\n",
    "name = 'cross_spade'"
   ]
  },
  {
   "cell_type": "code",
   "execution_count": null,
   "metadata": {},
   "outputs": [],
   "source": [
    "!echo $dataroot\n",
    "!CUDA_VISIBLE_DEVICES=1 python submodules/spade/train.py \\\n",
    "    --label_dir $src_dir \\\n",
    "    --image_dir $dst_dir \\\n",
    "    --model pix2pix \\\n",
    "    --name $name \\\n",
    "    --no_instance \\\n",
    "    --no_flip \\\n",
    "    --print_freq 500 \\\n",
    "    --batchSize 1 \\\n",
    "    --save_epoch_freq 20 \\\n",
    "    --label_nc 7 \\\n",
    "    --output_nc 3 \\\n",
    "    --load_size 256 \\\n",
    "    --crop_size 512 \\\n",
    "    --aspect_ratio 1 \\\n",
    "    --dataset_mode oct"
   ]
  },
  {
   "attachments": {},
   "cell_type": "markdown",
   "metadata": {},
   "source": [
    "To run directly in command line:\n",
    "\n",
    "```bash\n",
    "python submodules/spade/train.py --label_dir data/splits/cross_large/labels --image_dir data/splits/cross_large/bscans --model pix2pix --name $name --no_instance --no_flip --print_freq 500 --batchSize 1 --save_epoch_freq 2 --label_nc 7 --output_nc 3 --load_size 256 --crop_size 512 --aspect_ratio 1 --dataset_mode oct\n",
    "```"
   ]
  },
  {
   "cell_type": "markdown",
   "metadata": {},
   "source": []
  }
 ],
 "metadata": {
  "kernelspec": {
   "display_name": "pet",
   "language": "python",
   "name": "python3"
  },
  "language_info": {
   "codemirror_mode": {
    "name": "ipython",
    "version": 3
   },
   "file_extension": ".py",
   "mimetype": "text/x-python",
   "name": "python",
   "nbconvert_exporter": "python",
   "pygments_lexer": "ipython3",
   "version": "3.9.12"
  },
  "vscode": {
   "interpreter": {
    "hash": "d6c494643665efee2861d6c88525132bc20bfded38d54b8f73e835c03ec5c7cf"
   }
  }
 },
 "nbformat": 4,
 "nbformat_minor": 2
}
