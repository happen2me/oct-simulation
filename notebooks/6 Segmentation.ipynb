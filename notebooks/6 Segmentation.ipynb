{
 "cells": [
  {
   "cell_type": "markdown",
   "id": "7d485c68-b6b6-4486-9c09-f216dcbfae17",
   "metadata": {},
   "source": [
    "# Segmentation\n",
    "\n",
    "We use a segmentation network to convert B-scans to layer maps."
   ]
  },
  {
   "cell_type": "code",
   "execution_count": 1,
   "id": "e0b8d7f3-2565-468a-b298-02cc1f4686ca",
   "metadata": {},
   "outputs": [
    {
     "name": "stdout",
     "output_type": "stream",
     "text": [
      "/home/extra/micheal/IDP\n"
     ]
    }
   ],
   "source": [
    "import idp_utils.data_handling.constants as C\n",
    "%cd $C.ROOT_PATH\n",
    "\n",
    "import os\n",
    "from pathlib import Path\n",
    "from glob import glob\n",
    "import random\n",
    "import shutil\n",
    "\n",
    "from PIL import Image\n",
    "import imageio\n",
    "import numpy as np\n",
    "import torch\n",
    "from torch.utils.data import Dataset, DataLoader\n",
    "from torch.utils.tensorboard import SummaryWriter\n",
    "from torchsummary import summary\n",
    "import torchvision.transforms as transforms\n",
    "import pytorch_lightning as pl\n",
    "import segmentation_models_pytorch as smp\n",
    "import matplotlib.pyplot as plt"
   ]
  },
  {
   "cell_type": "markdown",
   "id": "e46776c4",
   "metadata": {},
   "source": [
    "## A Simple Segmentation Network (UNet)"
   ]
  },
  {
   "cell_type": "markdown",
   "id": "186c29b9-7b78-47e4-92be-169ea9f6bcbd",
   "metadata": {},
   "source": [
    "### Source & Target Data"
   ]
  },
  {
   "cell_type": "code",
   "execution_count": 2,
   "id": "c7a01735-86bd-4ae1-b765-83122c7cc649",
   "metadata": {},
   "outputs": [],
   "source": [
    "%load_ext tensorboard"
   ]
  },
  {
   "cell_type": "code",
   "execution_count": 2,
   "id": "2a4e8800-a0e6-430b-8b7f-0a0c166374ac",
   "metadata": {},
   "outputs": [],
   "source": [
    "IMG_EXTENSIONS = [\n",
    "    '.jpg', '.JPG', '.jpeg', '.JPEG',\n",
    "    '.png', '.PNG', '.ppm', '.PPM', '.bmp', '.BMP',\n",
    "    '.tif', '.TIF', '.tiff', '.TIFF',\n",
    "]\n",
    "\n",
    "def is_image_file(filename):\n",
    "    return any(filename.endswith(extension) for extension in IMG_EXTENSIONS)\n",
    "\n",
    "def make_dataset(dir, max_dataset_size=float(\"inf\")):\n",
    "    images = []\n",
    "    assert os.path.isdir(dir), '%s is not a valid directory' % dir\n",
    "\n",
    "    for root, _, fnames in sorted(os.walk(dir)):\n",
    "        for fname in fnames:\n",
    "            if is_image_file(fname):\n",
    "                path = os.path.join(root, fname)\n",
    "                images.append(path)\n",
    "    return images[:min(max_dataset_size, len(images))]\n",
    "\n",
    "class ABDataset(Dataset):\n",
    "    '''\n",
    "    The dataset where A and B are concatenated horizontally\n",
    "    '''\n",
    "    def __init__(self, dataroot, phase='train', grayscale=True, A_transform=None, B_transform=None):\n",
    "        self.A_transform = A_transform\n",
    "        self.B_transform = B_transform\n",
    "        self.grayscale = grayscale\n",
    "        self.dir_AB = os.path.join(dataroot, phase)  # get the image directory\n",
    "        self.AB_paths = sorted(make_dataset(self.dir_AB))  # get image paths\n",
    "    \n",
    "    def __len__(self):\n",
    "        \"\"\"Return the total number of images in the dataset.\"\"\"\n",
    "        return len(self.AB_paths)\n",
    "\n",
    "    def __getitem__(self, index):\n",
    "        \"\"\"Return a data point and its metadata information.\n",
    "        Parameters:\n",
    "            index - - a random integer for data indexing\n",
    "        Returns a dictionary that contains A, B, A_paths and B_paths\n",
    "            A (tensor) - - an image in the input domain\n",
    "            B (tensor) - - its corresponding image in the target domain\n",
    "            A_paths (str) - - image paths\n",
    "            B_paths (str) - - image paths (same as A_paths)\n",
    "        \"\"\"\n",
    "        # read a image given a random integer index\n",
    "        AB_path = self.AB_paths[index]\n",
    "        AB = Image.open(AB_path)\n",
    "        if self.grayscale:\n",
    "            AB = AB.convert('L')\n",
    "        else:\n",
    "            AB = AB.convert('RGB')\n",
    "        # split AB image into A and B\n",
    "        w, h = AB.size\n",
    "        w2 = int(w / 2)\n",
    "        A = AB.crop((0, 0, w2, h))\n",
    "        B = AB.crop((w2, 0, w, h))\n",
    "\n",
    "        # apply the same transform to both A and B\n",
    "        if self.A_transform:\n",
    "            A_transform = transforms.Compose(self.A_transform)\n",
    "            A = A_transform(A)\n",
    "        if self.B_transform:\n",
    "            B_transform = transforms.Compose(self.B_transform)\n",
    "            B = B_transform(B)\n",
    "        return {'A': A, 'B': B, 'A_paths': AB_path, 'B_paths': AB_path}"
   ]
  },
  {
   "cell_type": "code",
   "execution_count": 3,
   "id": "96943804-f54e-4580-ac9b-2ccef5876176",
   "metadata": {},
   "outputs": [
    {
     "name": "stdout",
     "output_type": "stream",
     "text": [
      "aroi labels: [0, 19, 57, 80, 160, 171, 190, 240]\n"
     ]
    }
   ],
   "source": [
    "AROI_LABELS = [19, 57, 171, 190]\n",
    "FLUID_LABELS = [80, 160, 240]\n",
    "aroi_labels = sorted([0] + AROI_LABELS + FLUID_LABELS)\n",
    "print('aroi labels:', aroi_labels)\n",
    "aroi_label_dict = {x : i for i, x in enumerate(aroi_labels)}\n",
    "\n",
    "class Image2Label(object):\n",
    "    def __init__(self, label_dict):\n",
    "        self.label_dict = label_dict\n",
    "    def __call__(self, sample):\n",
    "        sample = torch.round(sample * 255).type(torch.int64)\n",
    "        for k, v in self.label_dict.items():\n",
    "            sample[torch.where(sample==k)] = v\n",
    "        return sample  "
   ]
  },
  {
   "cell_type": "code",
   "execution_count": 4,
   "id": "5fd55593-f390-4fb9-ad9e-f01d956d4754",
   "metadata": {},
   "outputs": [],
   "source": [
    "# A is label map, B is b-scan. In segmentation, A will be the target. \n",
    "train_dataset = ABDataset(dataroot='data/datasets/AROI/original',\n",
    "                    phase='train',\n",
    "                    A_transform=[transforms.ToTensor(), Image2Label(aroi_label_dict)],\n",
    "                    B_transform=[transforms.ToTensor(), transforms.Normalize((0.5,), (0.5,))])\n",
    "val_dataset = ABDataset(dataroot='data/datasets/AROI/original',\n",
    "                    phase='val',\n",
    "                    A_transform=[transforms.ToTensor(), Image2Label(aroi_label_dict)],\n",
    "                    B_transform=[transforms.ToTensor(), transforms.Normalize((0.5,), (0.5,))])"
   ]
  },
  {
   "cell_type": "markdown",
   "id": "7c534555-1169-4789-b1c8-149ac24e2646",
   "metadata": {},
   "source": [
    "Let's visualize a sample:"
   ]
  },
  {
   "cell_type": "code",
   "execution_count": 21,
   "id": "bd047f94-0b3a-4187-b1c0-8c97a061ce6c",
   "metadata": {},
   "outputs": [
    {
     "data": {
      "text/plain": [
       "Text(0.5, 1.0, 'B')"
      ]
     },
     "execution_count": 21,
     "metadata": {},
     "output_type": "execute_result"
    },
    {
     "data": {
      "image/png": "[encoded data removed]",
      "text/plain": [
       "<Figure size 432x288 with 2 Axes>"
      ]
     },
     "metadata": {
      "needs_background": "light"
     },
     "output_type": "display_data"
    }
   ],
   "source": [
    "sample = train_dataset[2]\n",
    "fig, axis = plt.subplots(1, 2)\n",
    "axis[0].imshow(sample['A'].permute(1,2,0))\n",
    "axis[0].set_title('A')\n",
    "axis[1].imshow(sample['B'].permute(1,2,0))\n",
    "axis[1].set_title('B')"
   ]
  },
  {
   "cell_type": "code",
   "execution_count": 5,
   "id": "591c5a36-a68a-4516-a5eb-a86c6bded7af",
   "metadata": {},
   "outputs": [
    {
     "data": {
      "text/plain": [
       "torch.Size([1, 1024, 512])"
      ]
     },
     "execution_count": 5,
     "metadata": {},
     "output_type": "execute_result"
    }
   ],
   "source": [
    "sample['A'].shape"
   ]
  },
  {
   "cell_type": "markdown",
   "id": "8c0b6eea-a529-4673-a1dc-4292cc0e4232",
   "metadata": {},
   "source": [
    "### Define Model"
   ]
  },
  {
   "cell_type": "code",
   "execution_count": 6,
   "id": "91a0ab62-3df1-4fc5-880b-f5cb6dc62033",
   "metadata": {},
   "outputs": [],
   "source": [
    "# unet = smp.Unet('resnet34', in_channels=1, classes=8)"
   ]
  },
  {
   "cell_type": "code",
   "execution_count": 13,
   "id": "d96ab041-4fc3-446b-9fe9-ea93db39a522",
   "metadata": {},
   "outputs": [],
   "source": [
    "unet = smp.Unet(\n",
    "    in_channels=1,                  # model input channels (1 for gray-scale images, 3 for RGB, etc.)\n",
    "    classes=8,                      # model output channels (number of classes in your dataset)\n",
    "    encoder_depth=3,                # Amount of down- and upsampling of the Unet\n",
    "    decoder_channels=(64, 32,16),   # Amount of channels\n",
    "    encoder_weights = \"imagenet\",         # Model does not download pretrained weights\n",
    "    activation = 'sigmoid'            # Activation function to apply after final convolution       \n",
    ")"
   ]
  },
  {
   "cell_type": "code",
   "execution_count": 10,
   "id": "156eae63-b160-4caf-8b9d-d65c0c9ebb4c",
   "metadata": {},
   "outputs": [
    {
     "name": "stdout",
     "output_type": "stream",
     "text": [
      "----------------------------------------------------------------\n",
      "        Layer (type)               Output Shape         Param #\n",
      "================================================================\n",
      "            Conv2d-1         [-1, 64, 512, 256]           3,136\n",
      "       BatchNorm2d-2         [-1, 64, 512, 256]             128\n",
      "              ReLU-3         [-1, 64, 512, 256]               0\n",
      "         MaxPool2d-4         [-1, 64, 256, 128]               0\n",
      "            Conv2d-5         [-1, 64, 256, 128]          36,864\n",
      "       BatchNorm2d-6         [-1, 64, 256, 128]             128\n",
      "              ReLU-7         [-1, 64, 256, 128]               0\n",
      "            Conv2d-8         [-1, 64, 256, 128]          36,864\n",
      "       BatchNorm2d-9         [-1, 64, 256, 128]             128\n",
      "             ReLU-10         [-1, 64, 256, 128]               0\n",
      "       BasicBlock-11         [-1, 64, 256, 128]               0\n",
      "           Conv2d-12         [-1, 64, 256, 128]          36,864\n",
      "      BatchNorm2d-13         [-1, 64, 256, 128]             128\n",
      "             ReLU-14         [-1, 64, 256, 128]               0\n",
      "           Conv2d-15         [-1, 64, 256, 128]          36,864\n",
      "      BatchNorm2d-16         [-1, 64, 256, 128]             128\n",
      "             ReLU-17         [-1, 64, 256, 128]               0\n",
      "       BasicBlock-18         [-1, 64, 256, 128]               0\n",
      "           Conv2d-19         [-1, 64, 256, 128]          36,864\n",
      "      BatchNorm2d-20         [-1, 64, 256, 128]             128\n",
      "             ReLU-21         [-1, 64, 256, 128]               0\n",
      "           Conv2d-22         [-1, 64, 256, 128]          36,864\n",
      "      BatchNorm2d-23         [-1, 64, 256, 128]             128\n",
      "             ReLU-24         [-1, 64, 256, 128]               0\n",
      "       BasicBlock-25         [-1, 64, 256, 128]               0\n",
      "           Conv2d-26         [-1, 128, 128, 64]          73,728\n",
      "      BatchNorm2d-27         [-1, 128, 128, 64]             256\n",
      "             ReLU-28         [-1, 128, 128, 64]               0\n",
      "           Conv2d-29         [-1, 128, 128, 64]         147,456\n",
      "      BatchNorm2d-30         [-1, 128, 128, 64]             256\n",
      "           Conv2d-31         [-1, 128, 128, 64]           8,192\n",
      "      BatchNorm2d-32         [-1, 128, 128, 64]             256\n",
      "             ReLU-33         [-1, 128, 128, 64]               0\n",
      "       BasicBlock-34         [-1, 128, 128, 64]               0\n",
      "           Conv2d-35         [-1, 128, 128, 64]         147,456\n",
      "      BatchNorm2d-36         [-1, 128, 128, 64]             256\n",
      "             ReLU-37         [-1, 128, 128, 64]               0\n",
      "           Conv2d-38         [-1, 128, 128, 64]         147,456\n",
      "      BatchNorm2d-39         [-1, 128, 128, 64]             256\n",
      "             ReLU-40         [-1, 128, 128, 64]               0\n",
      "       BasicBlock-41         [-1, 128, 128, 64]               0\n",
      "           Conv2d-42         [-1, 128, 128, 64]         147,456\n",
      "      BatchNorm2d-43         [-1, 128, 128, 64]             256\n",
      "             ReLU-44         [-1, 128, 128, 64]               0\n",
      "           Conv2d-45         [-1, 128, 128, 64]         147,456\n",
      "      BatchNorm2d-46         [-1, 128, 128, 64]             256\n",
      "             ReLU-47         [-1, 128, 128, 64]               0\n",
      "       BasicBlock-48         [-1, 128, 128, 64]               0\n",
      "           Conv2d-49         [-1, 128, 128, 64]         147,456\n",
      "      BatchNorm2d-50         [-1, 128, 128, 64]             256\n",
      "             ReLU-51         [-1, 128, 128, 64]               0\n",
      "           Conv2d-52         [-1, 128, 128, 64]         147,456\n",
      "      BatchNorm2d-53         [-1, 128, 128, 64]             256\n",
      "             ReLU-54         [-1, 128, 128, 64]               0\n",
      "       BasicBlock-55         [-1, 128, 128, 64]               0\n",
      "    ResNetEncoder-56  [[-1, 1, 1024, 512], [-1, 64, 512, 256], [-1, 64, 256, 128], [-1, 128, 128, 64]]               0\n",
      "         Identity-57         [-1, 128, 128, 64]               0\n",
      "         Identity-58        [-1, 192, 256, 128]               0\n",
      "        Attention-59        [-1, 192, 256, 128]               0\n",
      "           Conv2d-60         [-1, 64, 256, 128]         110,592\n",
      "      BatchNorm2d-61         [-1, 64, 256, 128]             128\n",
      "             ReLU-62         [-1, 64, 256, 128]               0\n",
      "           Conv2d-63         [-1, 64, 256, 128]          36,864\n",
      "      BatchNorm2d-64         [-1, 64, 256, 128]             128\n",
      "             ReLU-65         [-1, 64, 256, 128]               0\n",
      "         Identity-66         [-1, 64, 256, 128]               0\n",
      "        Attention-67         [-1, 64, 256, 128]               0\n",
      "     DecoderBlock-68         [-1, 64, 256, 128]               0\n",
      "         Identity-69        [-1, 128, 512, 256]               0\n",
      "        Attention-70        [-1, 128, 512, 256]               0\n",
      "           Conv2d-71         [-1, 32, 512, 256]          36,864\n",
      "      BatchNorm2d-72         [-1, 32, 512, 256]              64\n",
      "             ReLU-73         [-1, 32, 512, 256]               0\n",
      "           Conv2d-74         [-1, 32, 512, 256]           9,216\n",
      "      BatchNorm2d-75         [-1, 32, 512, 256]              64\n",
      "             ReLU-76         [-1, 32, 512, 256]               0\n",
      "         Identity-77         [-1, 32, 512, 256]               0\n",
      "        Attention-78         [-1, 32, 512, 256]               0\n",
      "     DecoderBlock-79         [-1, 32, 512, 256]               0\n",
      "           Conv2d-80        [-1, 16, 1024, 512]           4,608\n",
      "      BatchNorm2d-81        [-1, 16, 1024, 512]              32\n",
      "             ReLU-82        [-1, 16, 1024, 512]               0\n",
      "           Conv2d-83        [-1, 16, 1024, 512]           2,304\n",
      "      BatchNorm2d-84        [-1, 16, 1024, 512]              32\n",
      "             ReLU-85        [-1, 16, 1024, 512]               0\n",
      "         Identity-86        [-1, 16, 1024, 512]               0\n",
      "        Attention-87        [-1, 16, 1024, 512]               0\n",
      "     DecoderBlock-88        [-1, 16, 1024, 512]               0\n",
      "      UnetDecoder-89        [-1, 16, 1024, 512]               0\n",
      "           Conv2d-90         [-1, 8, 1024, 512]           1,160\n",
      "         Identity-91         [-1, 8, 1024, 512]               0\n",
      "          Sigmoid-92         [-1, 8, 1024, 512]               0\n",
      "       Activation-93         [-1, 8, 1024, 512]               0\n",
      "================================================================\n",
      "Total params: 1,543,688\n",
      "Trainable params: 1,543,688\n",
      "Non-trainable params: 0\n",
      "----------------------------------------------------------------\n",
      "Input size (MB): 2.00\n",
      "Forward/backward pass size (MB): 2344.00\n",
      "Params size (MB): 5.89\n",
      "Estimated Total Size (MB): 2351.89\n",
      "----------------------------------------------------------------\n"
     ]
    }
   ],
   "source": [
    "device = torch.device('cuda')\n",
    "unet.to(device)\n",
    "summary(unet, input_size=(1, 1024, 512))"
   ]
  },
  {
   "cell_type": "markdown",
   "id": "bad3aa53-23e9-408f-bf5c-29eb4c52b852",
   "metadata": {},
   "source": [
    "### Train"
   ]
  },
  {
   "cell_type": "code",
   "execution_count": 22,
   "id": "5e00d22d-8186-4f8d-a9ed-94d9563f4cc4",
   "metadata": {},
   "outputs": [],
   "source": [
    "sanity_loader = DataLoader(val_dataset, batch_size=16, shuffle=True)\n",
    "train_loader = DataLoader(train_dataset, batch_size=16, shuffle=True)\n",
    "val_loader = DataLoader(val_dataset, batch_size=16, shuffle=True)"
   ]
  },
  {
   "cell_type": "code",
   "execution_count": 12,
   "id": "40d9b4c8-055a-4d26-a290-1037cb0a487b",
   "metadata": {},
   "outputs": [
    {
     "data": {
      "text/plain": [
       "tensor([[0., 0.],\n",
       "        [0., 0.]], device='cuda:0')"
      ]
     },
     "execution_count": 12,
     "metadata": {},
     "output_type": "execute_result"
    }
   ],
   "source": [
    "# Check CUDA usability\n",
    "torch.zeros((2,2)).cuda()"
   ]
  },
  {
   "cell_type": "code",
   "execution_count": 23,
   "id": "8eef581a-31fb-4393-a4fd-949c99a6c192",
   "metadata": {},
   "outputs": [],
   "source": [
    "batch = next(iter(sanity_loader))\n",
    "device = torch.device('cuda')\n",
    "B = batch['B'].to(device)\n",
    "A = batch['A'].to(device)\n",
    "unet = unet.to(device)\n",
    "# print('unique A:', torch.unique(A))"
   ]
  },
  {
   "cell_type": "markdown",
   "id": "575740f7-adfd-4097-8410-2ed82b9d405f",
   "metadata": {},
   "source": [
    "Sanity check:"
   ]
  },
  {
   "cell_type": "code",
   "execution_count": 12,
   "id": "80a31ec6-edc9-452d-93bb-d17780d80e3b",
   "metadata": {},
   "outputs": [],
   "source": [
    "torch.cuda.empty_cache()"
   ]
  },
  {
   "cell_type": "code",
   "execution_count": 13,
   "id": "161c7f44-d6b1-4b95-b123-ecb1fd5845ea",
   "metadata": {},
   "outputs": [
    {
     "name": "stdout",
     "output_type": "stream",
     "text": [
      "fake A shape: torch.Size([4, 8, 1024, 512])\n",
      "A shape: torch.Size([4, 1, 1024, 512])\n"
     ]
    },
    {
     "data": {
      "text/plain": [
       "tensor(0.8387, device='cuda:0')"
      ]
     },
     "execution_count": 13,
     "metadata": {},
     "output_type": "execute_result"
    }
   ],
   "source": [
    "with torch.no_grad():\n",
    "    fake_A = unet(B)\n",
    "print('fake A shape:', fake_A.shape)\n",
    "print('A shape:', A.shape)\n",
    "loss_fn = smp.losses.DiceLoss('multiclass', classes=8)\n",
    "loss_fn(fake_A, A.type(torch.int64))"
   ]
  },
  {
   "cell_type": "markdown",
   "id": "aab8e759-5493-4712-94dc-647a14b22379",
   "metadata": {},
   "source": [
    "Wrap the unet in a pytorch lightining model:"
   ]
  },
  {
   "cell_type": "code",
   "execution_count": 14,
   "id": "8117ffad-d5ae-47a7-be65-dfc377ee1951",
   "metadata": {},
   "outputs": [],
   "source": [
    "# Install dev version of smp to use metrics\n",
    "# !pip install git+https://github.com/qubvel/segmentation_models.pytorch.git"
   ]
  },
  {
   "cell_type": "code",
   "execution_count": 13,
   "id": "0ecb4d32-c41a-42c2-8e68-126669c96954",
   "metadata": {},
   "outputs": [],
   "source": [
    "class ModelWrapper(pl.LightningModule):\n",
    "    def __init__(self, model, lr, loss, num_classes=None):\n",
    "        super().__init__()\n",
    "        self.backbone = model\n",
    "        self.lr = lr\n",
    "        self.loss = loss\n",
    "        self.num_classes = num_classes\n",
    "        self.writer = SummaryWriter()\n",
    "\n",
    "    def forward(self, x):\n",
    "        y = self.backbone(x)\n",
    "        return y\n",
    "\n",
    "    def configure_optimizers(self):\n",
    "        optimizer = torch.optim.Adam(self.parameters(), lr=self.lr)\n",
    "        return optimizer\n",
    "    \n",
    "    def compute_metrics(self, output, target):\n",
    "        # 1 is the channel dim\n",
    "        output = output.argmax(dim=1)\n",
    "        # restore channel dim for loss computation\n",
    "        output = output.unsqueeze(dim=1)\n",
    "        tp, fp, fn, tn = smp.metrics.get_stats(output, target, 'multiclass', ignore_index=-1, num_classes=self.num_classes)\n",
    "        # then compute metrics with required reduction (see metric docs)\n",
    "        iou_score = smp.metrics.iou_score(tp, fp, fn, tn, reduction=\"micro\")\n",
    "        f1_score = smp.metrics.f1_score(tp, fp, fn, tn, reduction=\"micro\")\n",
    "        f2_score = smp.metrics.fbeta_score(tp, fp, fn, tn, beta=2, reduction=\"micro\")\n",
    "        accuracy = smp.metrics.accuracy(tp, fp, fn, tn, reduction=\"macro\")\n",
    "        recall = smp.metrics.recall(tp, fp, fn, tn, reduction=\"micro-imagewise\")\n",
    "        return {\n",
    "            'iou': iou_score,\n",
    "            'f1': f1_score,\n",
    "            'f2': f2_score,\n",
    "            'accuracy': accuracy,\n",
    "            'recall': recall\n",
    "        }\n",
    "\n",
    "    def training_step(self, train_batch, batch_idx):\n",
    "        # Perform the forward pass, compute the loss and the metric of each step\n",
    "        A = train_batch['A']\n",
    "        B = train_batch['B']\n",
    "        A_fake = self.forward(B)\n",
    "        loss = self.loss(A_fake, A)\n",
    "        metric_dict = self.compute_metrics(A_fake, A)\n",
    "        metric = metric_dict['f1']\n",
    "        return {\"loss\": loss, \"metric\": metric}\n",
    "\n",
    "    def training_epoch_end(self, output):\n",
    "        loss = 0\n",
    "        metric = 0\n",
    "        for o in output:\n",
    "            # compute the loss and metric of the epoch \n",
    "            loss = loss + o['loss']\n",
    "            metric = metric + o['metric']\n",
    "        loss = loss / len(output)\n",
    "        metric = metric / len(output)\n",
    "        self.writer.add_scalar('Epoch_loss/training', loss, self.current_epoch)\n",
    "        self.writer.add_scalar('Epoch_metric/training', metric, self.current_epoch)\n",
    "\n",
    "    def validation_step(self, val_batch, batch_idx):\n",
    "        A = val_batch['A']\n",
    "        B = val_batch['B']\n",
    "        with torch.no_grad():\n",
    "            A_fake = self.forward(B)\n",
    "        loss = self.loss(A_fake, A)\n",
    "        metric_dict = self.compute_metrics(A_fake, A)\n",
    "        metric = metric_dict['f1']\n",
    "        return {\"loss\": loss, \"metric\": metric}\n",
    "\n",
    "    def validation_epoch_end(self,output):\n",
    "        loss = 0\n",
    "        metric = 0\n",
    "        for o in output:\n",
    "            # Compute the loss and metric of the epoch \n",
    "            loss = loss + o['loss']\n",
    "            metric = metric + o['metric']\n",
    "\n",
    "        loss = loss / len(output)\n",
    "        metric = metric / len(output)\n",
    "        self.log('val_dice', metric)\n",
    "        self.writer.add_scalar('Epoch_loss/validation', loss, self.current_epoch)\n",
    "        self.writer.add_scalar('Epoch_metric/validation', metric, self.current_epoch)"
   ]
  },
  {
   "cell_type": "code",
   "execution_count": 14,
   "id": "2577f9bf-7586-4e0e-8271-bfd9a2aa511e",
   "metadata": {},
   "outputs": [
    {
     "ename": "NameError",
     "evalue": "name 'unet' is not defined",
     "output_type": "error",
     "traceback": [
      "\u001b[0;31m---------------------------------------------------------------------------\u001b[0m",
      "\u001b[0;31mNameError\u001b[0m                                 Traceback (most recent call last)",
      "Input \u001b[0;32mIn [14]\u001b[0m, in \u001b[0;36m<cell line: 1>\u001b[0;34m()\u001b[0m\n\u001b[0;32m----> 1\u001b[0m model \u001b[38;5;241m=\u001b[39m ModelWrapper(\u001b[43munet\u001b[49m, \u001b[38;5;241m0.001\u001b[39m, smp\u001b[38;5;241m.\u001b[39mlosses\u001b[38;5;241m.\u001b[39mDiceLoss(\u001b[38;5;124m'\u001b[39m\u001b[38;5;124mmulticlass\u001b[39m\u001b[38;5;124m'\u001b[39m, classes\u001b[38;5;241m=\u001b[39m\u001b[38;5;241m8\u001b[39m), num_classes\u001b[38;5;241m=\u001b[39m\u001b[38;5;241m8\u001b[39m)\n",
      "\u001b[0;31mNameError\u001b[0m: name 'unet' is not defined"
     ]
    }
   ],
   "source": [
    "model = ModelWrapper(unet, 0.001, smp.losses.DiceLoss('multiclass', classes=8), num_classes=8)"
   ]
  },
  {
   "cell_type": "markdown",
   "id": "7848db2a-fc19-4a0e-bb58-c8faa165690f",
   "metadata": {},
   "source": [
    "Let's first run an epoch for sanity check"
   ]
  },
  {
   "cell_type": "code",
   "execution_count": 16,
   "id": "b5f2d4d0-c195-4cf6-a8d6-67aa9e5a07bc",
   "metadata": {},
   "outputs": [],
   "source": [
    "!rm -rf runs\n",
    "!mkdir runs"
   ]
  },
  {
   "cell_type": "code",
   "execution_count": 71,
   "id": "16b942cc-5872-4bb2-94c4-4b8c7d6647e2",
   "metadata": {},
   "outputs": [
    {
     "name": "stderr",
     "output_type": "stream",
     "text": [
      "GPU available: True, used: False\n",
      "TPU available: False, using: 0 TPU cores\n",
      "IPU available: False, using: 0 IPUs\n",
      "HPU available: False, using: 0 HPUs\n"
     ]
    }
   ],
   "source": [
    "checkpoint_callback = pl.callbacks.ModelCheckpoint(\n",
    "    monitor='val_dice',\n",
    "    save_top_k=3,\n",
    "    mode='max',\n",
    "    every_n_epochs=1,\n",
    "    save_last=True\n",
    ")\n",
    "\n",
    "trainer = pl.Trainer(gpus='0', \n",
    "                     auto_select_gpus=True,\n",
    "                    # precision='bf16', \n",
    "                    callbacks=checkpoint_callback,\n",
    "                    check_val_every_n_epoch=1,\n",
    "                    log_every_n_steps=5,\n",
    "                    max_epochs=100,\n",
    "                    default_root_dir=\"output/checkpoints/unet\")\n",
    "# trainer.fit(model, sanity_loader, sanity_loader)"
   ]
  },
  {
   "cell_type": "code",
   "execution_count": 72,
   "id": "58a90746-f9fb-4ea9-a297-0b1ba9d63d9e",
   "metadata": {},
   "outputs": [
    {
     "name": "stderr",
     "output_type": "stream",
     "text": [
      "\n",
      "  | Name     | Type     | Params\n",
      "--------------------------------------\n",
      "0 | backbone | Unet     | 21.5 M\n",
      "1 | loss     | DiceLoss | 0     \n",
      "--------------------------------------\n",
      "21.5 M    Trainable params\n",
      "0         Non-trainable params\n",
      "21.5 M    Total params\n",
      "85.922    Total estimated model params size (MB)\n"
     ]
    },
    {
     "data": {
      "application/vnd.jupyter.widget-view+json": {
       "model_id": "",
       "version_major": 2,
       "version_minor": 0
      },
      "text/plain": [
       "Sanity Checking: 0it [00:00, ?it/s]"
      ]
     },
     "metadata": {},
     "output_type": "display_data"
    },
    {
     "data": {
      "application/vnd.jupyter.widget-view+json": {
       "model_id": "6143a3544ed7499490ea1f78d03de2a6",
       "version_major": 2,
       "version_minor": 0
      },
      "text/plain": [
       "Training: 0it [00:00, ?it/s]"
      ]
     },
     "metadata": {},
     "output_type": "display_data"
    },
    {
     "name": "stdout",
     "output_type": "stream",
     "text": [
      "\n"
     ]
    }
   ],
   "source": [
    "trainer.fit(model, train_loader, val_loader)\n",
    "trainer.save_checkpoint(\"output/unet1.ckpt\")\n",
    "print(checkpoint_callback.best_model_path)"
   ]
  },
  {
   "cell_type": "code",
   "execution_count": 3,
   "id": "2cc4be68-92a0-4b63-8aa5-b93c8e01e2a4",
   "metadata": {},
   "outputs": [
    {
     "data": {
      "text/html": [
       "\n",
       "      <iframe id=\"tensorboard-frame-97ac8048eb99f45c\" width=\"100%\" height=\"800\" frameborder=\"0\">\n",
       "      </iframe>\n",
       "      <script>\n",
       "        (function() {\n",
       "          const frame = document.getElementById(\"tensorboard-frame-97ac8048eb99f45c\");\n",
       "          const url = new URL(\"/\", window.location);\n",
       "          const port = 6006;\n",
       "          if (port) {\n",
       "            url.port = port;\n",
       "          }\n",
       "          frame.src = url;\n",
       "        })();\n",
       "      </script>\n",
       "    "
      ],
      "text/plain": [
       "<IPython.core.display.HTML object>"
      ]
     },
     "metadata": {},
     "output_type": "display_data"
    }
   ],
   "source": [
    "%tensorboard --logdir runs"
   ]
  },
  {
   "cell_type": "markdown",
   "id": "745309e6-b3bb-4f94-9a10-9a54c3ce5925",
   "metadata": {},
   "source": [
    "### Use the segmentation model for image back-translation\n",
    "\n",
    "#### Test its performance\n",
    "We will use the trained model to convert fake bscans to layer maps"
   ]
  },
  {
   "cell_type": "code",
   "execution_count": 15,
   "id": "aaaf7264-d2f1-4bf0-82e9-5d500ef5051f",
   "metadata": {},
   "outputs": [],
   "source": [
    "# Load from checkpoint\n",
    "net = smp.PSPNet(\n",
    "    encoder_name = 'resnet34', \n",
    "    encoder_weights = 'imagenet',\n",
    "    encoder_depth=3,\n",
    "    in_channels=1,\n",
    "    classes=8\n",
    ")\n",
    "model = ModelWrapper.load_from_checkpoint('output/checkpoints/psp1/lightning_logs/version_0/checkpoints/last.ckpt', model=net, lr=0.001, loss=smp.losses.DiceLoss('multiclass', classes=8))"
   ]
  },
  {
   "cell_type": "markdown",
   "id": "31d30635-9ffb-45be-ac0f-179273110a63",
   "metadata": {},
   "source": [
    "Pass a image to it for result"
   ]
  },
  {
   "cell_type": "code",
   "execution_count": 16,
   "id": "2e715c5a-1377-4703-b808-6fe5b45bd8dd",
   "metadata": {},
   "outputs": [
    {
     "data": {
      "text/plain": [
       "<matplotlib.image.AxesImage at 0x7f99940f3fd0>"
      ]
     },
     "execution_count": 16,
     "metadata": {},
     "output_type": "execute_result"
    },
    {
     "data": {
      "image/png": "[encoded data removed]",
      "text/plain": [
       "<Figure size 432x288 with 1 Axes>"
      ]
     },
     "metadata": {
      "needs_background": "light"
     },
     "output_type": "display_data"
    }
   ],
   "source": [
    "img_idx = 1\n",
    "sample_b = train_dataset[img_idx]['B']\n",
    "plt.imshow(sample_b.squeeze(0))"
   ]
  },
  {
   "cell_type": "code",
   "execution_count": 17,
   "id": "214d2b00-d04e-4a61-bbff-0fec1522ffb7",
   "metadata": {},
   "outputs": [
    {
     "data": {
      "text/plain": [
       "<matplotlib.image.AxesImage at 0x7f99965686d0>"
      ]
     },
     "execution_count": 17,
     "metadata": {},
     "output_type": "execute_result"
    },
    {
     "data": {
      "image/png": "[encoded data removed]",
      "text/plain": [
       "<Figure size 432x288 with 1 Axes>"
      ]
     },
     "metadata": {
      "needs_background": "light"
     },
     "output_type": "display_data"
    }
   ],
   "source": [
    "sample_a = train_dataset[img_idx]['A']\n",
    "plt.imshow(sample_a.squeeze(0))"
   ]
  },
  {
   "cell_type": "code",
   "execution_count": 53,
   "id": "a02ba758-4e54-4b6e-9dc7-7c45e03f72e2",
   "metadata": {},
   "outputs": [
    {
     "name": "stdout",
     "output_type": "stream",
     "text": [
      "torch.Size([1, 8, 1024, 512])\n"
     ]
    },
    {
     "data": {
      "text/plain": [
       "<matplotlib.image.AxesImage at 0x7f0c60f67b80>"
      ]
     },
     "execution_count": 53,
     "metadata": {},
     "output_type": "execute_result"
    },
    {
     "data": {
      "image/png": "[encoded data removed]",
      "text/plain": [
       "<Figure size 432x288 with 1 Axes>"
      ]
     },
     "metadata": {
      "needs_background": "light"
     },
     "output_type": "display_data"
    }
   ],
   "source": [
    "seg_sample = model(sample_b.unsqueeze(0))\n",
    "print(seg_sample.shape)\n",
    "plt.imshow(seg_sample.squeeze(0).argmax(dim=0).cpu())"
   ]
  },
  {
   "cell_type": "markdown",
   "id": "6aa4a0c3-dd4a-4b38-9a8d-a92c9ad27910",
   "metadata": {},
   "source": [
    "#### Back-translate results"
   ]
  },
  {
   "cell_type": "markdown",
   "id": "ad6b56b5-b0c8-450b-bdc7-0fa809623d7b",
   "metadata": {},
   "source": [
    "```python\n",
    "\n",
    "    def __getitem__(self, index):\n",
    "        \"\"\"Return a data point and its metadata information.\n",
    "        Parameters:\n",
    "            index - - a random integer for data indexing\n",
    "        Returns a dictionary that contains A, B, A_paths and B_paths\n",
    "            A (tensor) - - an image in the input domain\n",
    "            B (tensor) - - its corresponding image in the target domain\n",
    "            A_paths (str) - - image paths\n",
    "            B_paths (str) - - image paths (same as A_paths)\n",
    "        \"\"\"\n",
    "        # read a image given a random integer index\n",
    "        AB_path = self.AB_paths[index]\n",
    "        AB = Image.open(AB_path)\n",
    "        if self.grayscale:\n",
    "            AB = AB.convert('L')\n",
    "        else:\n",
    "            AB = AB.convert('RGB')\n",
    "        # split AB image into A and B\n",
    "        w, h = AB.size\n",
    "        w2 = int(w / 2)\n",
    "        A = AB.crop((0, 0, w2, h))\n",
    "        B = AB.crop((w2, 0, w, h))\n",
    "\n",
    "        # apply the same transform to both A and B\n",
    "        if self.A_transform:\n",
    "            A_transform = transforms.Compose(self.A_transform)\n",
    "            A = A_transform(A)\n",
    "        if self.B_transform:\n",
    "            B_transform = transforms.Compose(self.B_transform)\n",
    "            B = B_transform(B)\n",
    "        return {'A': A, 'B': B, 'A_paths': AB_path, 'B_paths': AB_path}\n",
    "```"
   ]
  },
  {
   "cell_type": "code",
   "execution_count": 18,
   "id": "15709408-2f3d-4e9f-a18b-cddfecc76ff3",
   "metadata": {},
   "outputs": [
    {
     "data": {
      "text/plain": [
       "377"
      ]
     },
     "execution_count": 18,
     "metadata": {},
     "output_type": "execute_result"
    }
   ],
   "source": [
    "filepattern = '/home/extra/micheal/IDP/results/pix2pix_aroi_original/test_latest/images/*fake_B*'\n",
    "files = list(glob(filepattern))\n",
    "len(files)"
   ]
  },
  {
   "cell_type": "code",
   "execution_count": 19,
   "id": "70a4fccc-0734-4448-a9ac-24befbabaeb7",
   "metadata": {},
   "outputs": [
    {
     "data": {
      "text/plain": [
       "<matplotlib.image.AxesImage at 0x7f998c773130>"
      ]
     },
     "execution_count": 19,
     "metadata": {},
     "output_type": "execute_result"
    },
    {
     "data": {
      "image/png": "[encoded data removed]",
      "text/plain": [
       "<Figure size 432x288 with 1 Axes>"
      ]
     },
     "metadata": {
      "needs_background": "light"
     },
     "output_type": "display_data"
    }
   ],
   "source": [
    "def image2tensor(img_path):\n",
    "    img = Image.open(img_path)\n",
    "    img = img.convert('L')\n",
    "    transform = transforms.Compose([transforms.ToTensor(), transforms.Resize((1024, 512)), transforms.Normalize((0.5,), (0.5,))])\n",
    "    img = transform(img)\n",
    "    return img\n",
    "\n",
    "file_idx = 2\n",
    "img = image2tensor(files[file_idx])\n",
    "plt.imshow(img.squeeze(0))"
   ]
  },
  {
   "cell_type": "code",
   "execution_count": 20,
   "id": "205593e3-3ae2-4370-87cb-7a5cefdb1256",
   "metadata": {},
   "outputs": [
    {
     "name": "stdout",
     "output_type": "stream",
     "text": [
      "torch.Size([1024, 512])\n"
     ]
    },
    {
     "data": {
      "text/plain": [
       "array([0, 1, 3, 4, 5, 6])"
      ]
     },
     "execution_count": 20,
     "metadata": {},
     "output_type": "execute_result"
    },
    {
     "data": {
      "image/png": "[encoded data removed]",
      "text/plain": [
       "<Figure size 432x288 with 1 Axes>"
      ]
     },
     "metadata": {
      "needs_background": "light"
     },
     "output_type": "display_data"
    }
   ],
   "source": [
    "def backtranslate(bscan_path):\n",
    "    bscan = image2tensor(bscan_path)\n",
    "    seg = model(bscan.unsqueeze(0))\n",
    "    segmap = seg.squeeze(0).argmax(dim=0).cpu()\n",
    "    return segmap\n",
    "\n",
    "file_idx = 2\n",
    "fake_B_path = files[file_idx]\n",
    "seg = backtranslate(fake_B_path)\n",
    "print(seg.shape)\n",
    "plt.imshow(seg)\n",
    "np.unique(seg)"
   ]
  },
  {
   "cell_type": "code",
   "execution_count": 22,
   "id": "dbd40578-7b9a-478b-8456-ecb0fa867f94",
   "metadata": {},
   "outputs": [
    {
     "name": "stdout",
     "output_type": "stream",
     "text": [
      "torch.Size([1024, 512])\n"
     ]
    },
    {
     "data": {
      "text/plain": [
       "array([0, 1, 2, 5, 6])"
      ]
     },
     "execution_count": 22,
     "metadata": {},
     "output_type": "execute_result"
    },
    {
     "data": {
      "image/png": "[encoded data removed]",
      "text/plain": [
       "<Figure size 432x288 with 1 Axes>"
      ]
     },
     "metadata": {
      "needs_background": "light"
     },
     "output_type": "display_data"
    }
   ],
   "source": [
    "def fake2extract_layer_path(fake_b_path):\n",
    "    remove_fake_b = ''.join(fake_b_path.split('_fake_B'))\n",
    "    # remove metrics to find original path\n",
    "    if 'Metric:  ' in remove_fake_b:\n",
    "        remove_fake_b = remove_fake_b.split('  ')[0] + '.' + remove_fake_b.split('.')[-1]\n",
    "    extract_path_trunk = 'data/extract/layers/AROI/original/'\n",
    "    extract_path = extract_path_trunk + remove_fake_b.split('/')[-1]\n",
    "    return extract_path\n",
    "\n",
    "def fakeb2realseg(fake_b_path):\n",
    "    real_a_path = fake2extract_layer_path(fake_b_path)\n",
    "    img = Image.open(real_a_path)\n",
    "    img = img.convert('L')\n",
    "    transform = transforms.Compose([transforms.ToTensor(), Image2Label(aroi_label_dict)])\n",
    "    img = transform(img)\n",
    "    return img.squeeze(0)\n",
    "\n",
    "real_a = fakeb2realseg(fake_B_path)\n",
    "print(real_a.shape)\n",
    "plt.imshow(real_a)\n",
    "np.unique(real_a)"
   ]
  },
  {
   "cell_type": "markdown",
   "id": "eb630bbd-d7fe-4c64-b663-9a423324ec85",
   "metadata": {},
   "source": [
    "A scan"
   ]
  },
  {
   "cell_type": "markdown",
   "id": "f4ae0a70-547a-4f44-8a17-5eb3004b884e",
   "metadata": {},
   "source": [
    "Use **dice** loss for comparison:"
   ]
  },
  {
   "cell_type": "code",
   "execution_count": 23,
   "id": "06f06463-b496-4361-8429-8c26a3333da3",
   "metadata": {},
   "outputs": [
    {
     "data": {
      "text/plain": [
       "tensor(0.9777)"
      ]
     },
     "execution_count": 23,
     "metadata": {},
     "output_type": "execute_result"
    }
   ],
   "source": [
    "import torchmetrics\n",
    "\n",
    "dice_score = torchmetrics.Dice(num_classes=8, ignore_index=0)\n",
    "\n",
    "dice_score(seg, real_a)\n",
    "loss = 1- dice_score(seg, real_a)\n",
    "loss"
   ]
  },
  {
   "cell_type": "markdown",
   "id": "01cd555f-4e3b-47b9-9bec-87d9d082d22d",
   "metadata": {},
   "source": [
    "Use **first occurance distance** as a metric"
   ]
  },
  {
   "cell_type": "code",
   "execution_count": 24,
   "id": "181a69f1-481b-40e6-94bc-4b5cfede7c18",
   "metadata": {},
   "outputs": [],
   "source": [
    "def detect_first_occurrence(img, num_classes=4):\n",
    "    '''\n",
    "    Detect edges vertically for AROI colormap. It returns edges in the shape of (width, #num_classes)\n",
    "    '''\n",
    "    shape = img.shape\n",
    "    # It only works for numpy array\n",
    "    if isinstance(img, torch.Tensor):\n",
    "        img = img.numpy()\n",
    "    edges = np.zeros((shape[1], num_classes), dtype=int)\n",
    "    for i in range(shape[1]):\n",
    "        for j in range(1, num_classes+1):\n",
    "            # get the upper bound of class j\n",
    "            res = np.nonzero(img[:, i] == j)\n",
    "            indices = res[0]\n",
    "            # if the element does not exist, log it as -1\n",
    "            if len(indices) == 0:\n",
    "                idx = -1\n",
    "            else:\n",
    "                idx = indices[0]\n",
    "            edges[i][j-1] = idx\n",
    "    return edges"
   ]
  },
  {
   "cell_type": "code",
   "execution_count": 33,
   "id": "b65c3e2e-fbec-4bcd-ae2b-cef5a3f5f600",
   "metadata": {},
   "outputs": [],
   "source": [
    "def first_occurrence_loss(preds, target, num_classes):\n",
    "    assert preds.shape == target.shape, f\"preds and target are expected to be in the same shape. {preds.shape}!={target.shape}\"\n",
    "    occur_preds = detect_first_occurrence(preds, num_classes)\n",
    "    occur_target = detect_first_occurrence(target, num_classes)\n",
    "    loss =  np.abs((occur_target - occur_preds).sum()) / np.prod(preds.shape) / num_classes\n",
    "    return loss"
   ]
  },
  {
   "cell_type": "code",
   "execution_count": 30,
   "id": "99eb7228-a014-44e7-82cc-e298c2783b67",
   "metadata": {},
   "outputs": [
    {
     "data": {
      "text/plain": [
       "0.009444554646809896"
      ]
     },
     "execution_count": 30,
     "metadata": {},
     "output_type": "execute_result"
    }
   ],
   "source": [
    "first_occurrence_loss(seg, real_a, num_classes=6)"
   ]
  },
  {
   "cell_type": "markdown",
   "id": "4f6fe712-f998-46f6-8f36-8bd07c4d32ea",
   "metadata": {},
   "source": [
    "## Train a neural network on both: i) AROI and ii) intraoperative datasets\n"
   ]
  },
  {
   "cell_type": "markdown",
   "id": "2e326f58-8f16-4e1d-9cca-6fd18c4a08e2",
   "metadata": {
    "tags": []
   },
   "source": [
    "### Prepare Data (Use separate set of labels for those two datasets)"
   ]
  },
  {
   "cell_type": "markdown",
   "id": "3fe15fc8-8619-4c8a-8ee8-986b6f9e0faa",
   "metadata": {},
   "source": [
    "#### Strategy 1: Merge homo-dataset\n",
    "We merge AROI and OP data into one dataset"
   ]
  },
  {
   "cell_type": "code",
   "execution_count": null,
   "id": "1bf67931-941d-4278-ac61-91e3996ab4e2",
   "metadata": {},
   "outputs": [],
   "source": [
    "%%bash\n",
    "mkdir -p data/datasets/OPAROI/original\n",
    "cp -nr data/datasets/AROI/original/* data/datasets/OPAROI/original\n",
    "cp -nr data/datasets/OP/original/* data/datasets/OPAROI/original"
   ]
  },
  {
   "cell_type": "code",
   "execution_count": null,
   "id": "580578b1-6931-4a30-b6ad-2e1814628390",
   "metadata": {},
   "outputs": [],
   "source": [
    "%%bash\n",
    "aroi_cnt=`ls data/datasets/AROI/original/*/* | wc -l`\n",
    "op_cnt=`ls data/datasets/OP/original/*/* | wc -l`\n",
    "oparoi_cnt=`ls data/datasets/OPAROI/original/*/* | wc -l`\n",
    "echo $aroi_cnt\n",
    "echo $op_cnt\n",
    "echo $oparoi_cnt\n",
    "if [ $oparoi_cnt==$op_cnt+$aroi_cnt ]\n",
    "then\n",
    "    echo \"Correctly merged two datasets\"\n",
    "fi"
   ]
  },
  {
   "cell_type": "code",
   "execution_count": 33,
   "id": "86eab064-fb19-4cfb-a4ff-04fcc5c75e86",
   "metadata": {},
   "outputs": [
    {
     "data": {
      "text/plain": [
       "<matplotlib.image.AxesImage at 0x7f51fc6a8be0>"
      ]
     },
     "execution_count": 33,
     "metadata": {},
     "output_type": "execute_result"
    },
    {
     "data": {
      "image/png": "[encoded data removed]",
      "text/plain": [
       "<Figure size 432x288 with 1 Axes>"
      ]
     },
     "metadata": {
      "needs_background": "light"
     },
     "output_type": "display_data"
    }
   ],
   "source": [
    "seg = imageio.imread('data/raw/OP/Part2/OS-2020-02-03_113721fs/segmentation/084.bmp')\n",
    "plt.imshow(seg==4)"
   ]
  },
  {
   "cell_type": "markdown",
   "id": "2f899e65-353e-4a2d-be8b-aa71f1d37c87",
   "metadata": {
    "tags": []
   },
   "source": [
    "#### Strategy 1: Use same labels for the same layer\n",
    "\n",
    "There are two layers in OP dataset that also present in AROI dataset.\n",
    "```python\n",
    "AROI_LABELS = [ILM, IPL_INL, RPE, BM]\n",
    "OP_LABELS = [ILM, RPE]\n",
    "```"
   ]
  },
  {
   "cell_type": "code",
   "execution_count": 68,
   "id": "d9cb9bdf-834e-45f7-969e-8d3e04bfc6fb",
   "metadata": {},
   "outputs": [],
   "source": [
    "AROI_LABELS = [19, 57, 171, 190]\n",
    "OP_LABELS = [19, 171]\n",
    "FLUID_LABELS = [80, 160, 240]\n",
    "INSTRUMENT_LABELS = [100, 200]\n",
    "oparoi_labels = [0] + AROI_LABELS + OP_LABELS + FLUID_LABELS + INSTRUMENT_LABELS\n",
    "oparoi_labels = sorted(oparoi_labels)\n",
    "oparoi_label_dict = {x : i for i, x in enumerate(oparoi_labels)}"
   ]
  },
  {
   "cell_type": "code",
   "execution_count": null,
   "id": "a6cca343-160c-4034-a7f5-2f521b7fc750",
   "metadata": {},
   "outputs": [],
   "source": [
    "train_dataset = ABDataset(dataroot='data/datasets/OPAROI/original',\n",
    "                    phase='train',\n",
    "                    A_transform=[transforms.ToTensor(), Image2Label(oparoi_label_dict)],\n",
    "                    B_transform=[transforms.ToTensor(), transforms.Normalize((0.5,), (0.5,))])\n",
    "val_dataset = ABDataset(dataroot='data/datasets/OPAROI/original',\n",
    "                    phase='val',\n",
    "                    A_transform=[transforms.ToTensor(), Image2Label(oparoi_label_dict)],\n",
    "                    B_transform=[transforms.ToTensor(), transforms.Normalize((0.5,), (0.5,))])"
   ]
  },
  {
   "cell_type": "code",
   "execution_count": 69,
   "id": "e9020d8b-0dbc-4695-b3ab-0150da6cdf6f",
   "metadata": {},
   "outputs": [],
   "source": [
    "class Image2Label(object):\n",
    "    def __init__(self, label_dict):\n",
    "        self.label_dict = label_dict\n",
    "    def __call__(self, sample):\n",
    "        sample = torch.round(sample * 255).type(torch.int64)\n",
    "        for k, v in self.label_dict.items():\n",
    "            sample[torch.where(sample==k)] = v\n",
    "        return sample  "
   ]
  },
  {
   "cell_type": "markdown",
   "id": "3b96f673-1c72-42a6-a126-f1bf00155a3d",
   "metadata": {},
   "source": [
    "#### Strategy2: Merge hetero-dataset"
   ]
  },
  {
   "cell_type": "code",
   "execution_count": 34,
   "id": "f44c8d6e-ed16-4740-a3fb-b96c4e9c6116",
   "metadata": {},
   "outputs": [],
   "source": [
    "%%bash\n",
    "mkdir -p data/datasets/OPAROI/hetero\n",
    "cp -nr data/datasets/AROI/hetero/* data/datasets/OPAROI/hetero\n",
    "cp -nr data/datasets/OP/original/* data/datasets/OPAROI/hetero"
   ]
  },
  {
   "cell_type": "code",
   "execution_count": 6,
   "id": "9c4b05a0-b15f-48f4-a9a0-5dffb3c8884d",
   "metadata": {},
   "outputs": [
    {
     "name": "stdout",
     "output_type": "stream",
     "text": [
      "1101\n",
      "32230\n",
      "33326\n",
      "Correctly merged two datasets\n"
     ]
    }
   ],
   "source": [
    "%%bash\n",
    "aroi_cnt=`ls data/datasets/AROI/hetero/*/ | wc -l`\n",
    "op_cnt=`ls data/datasets/OP/original/*/ | wc -l`\n",
    "oparoi_cnt=`ls data/datasets/OPAROI/hetero/*/ | wc -l`\n",
    "echo $aroi_cnt\n",
    "echo $op_cnt\n",
    "echo $oparoi_cnt\n",
    "if [ $oparoi_cnt==$op_cnt+$aroi_cnt ]\n",
    "then\n",
    "    echo \"Correctly merged two datasets\"\n",
    "fi"
   ]
  },
  {
   "cell_type": "code",
   "execution_count": null,
   "id": "3201987e-a3da-437f-9d9a-e7803bceb719",
   "metadata": {},
   "outputs": [],
   "source": [
    "nohup python pytorch-CycleGAN-and-pix2pix/train.py --dataroot ./data/datasets/CGAN/OP2AROI --name op2aroi --model cycle_gan"
   ]
  },
  {
   "cell_type": "markdown",
   "id": "355d0f7b-2fa8-417f-890e-e06ce7734969",
   "metadata": {},
   "source": [
    "#### Strategy 2: Use different set of labels for data from different datasets\n",
    "\n",
    "This means we will use different labels for the same data"
   ]
  },
  {
   "cell_type": "code",
   "execution_count": 70,
   "id": "f9bc6c40-8096-4399-97ec-730b5b9e9cf4",
   "metadata": {},
   "outputs": [],
   "source": [
    "aroi_labels = sorted([0] + AROI_LABELS + FLUID_LABELS)\n",
    "op_labels = sorted(OP_LABELS + INSTRUMENT_LABELS)\n",
    "aroi_label_dict = {x : i for i, x in enumerate(aroi_labels)}\n",
    "op_label_dict = {x : i+len(aroi_label_dict) for i, x in enumerate(op_labels)}\n",
    "# manually make background to be 0\n",
    "op_label_dict[0] = 0;"
   ]
  },
  {
   "cell_type": "code",
   "execution_count": 28,
   "id": "6710a218-f136-4405-a75d-a529f1da33b8",
   "metadata": {},
   "outputs": [],
   "source": [
    "class ABDatasetHetero(Dataset):\n",
    "    '''\n",
    "    The dataset where A and B are concatenated horizontally\n",
    "    '''\n",
    "    def __init__(self, dataroot, phase='train', grayscale=True, A_transform=None, B_transform=None, aroi_label_dict={}, op_label_dict={}):\n",
    "        self.A_transform = A_transform\n",
    "        self.B_transform = B_transform\n",
    "        self.grayscale = grayscale\n",
    "        self.dir_AB = os.path.join(dataroot, phase)  # get the image directory\n",
    "        self.AB_paths = sorted(make_dataset(self.dir_AB))  # get image paths\n",
    "        self.aroi_label_dict = aroi_label_dict\n",
    "        self.op_label_dict = op_label_dict\n",
    "    \n",
    "    def __len__(self):\n",
    "        \"\"\"Return the total number of images in the dataset.\"\"\"\n",
    "        return len(self.AB_paths)\n",
    "\n",
    "    def __getitem__(self, index):\n",
    "        \"\"\"Return a data point and its metadata information.\n",
    "        Parameters:\n",
    "            index - - a random integer for data indexing\n",
    "        Returns a dictionary that contains A, B, A_paths and B_paths\n",
    "            A (tensor) - - an image in the input domain\n",
    "            B (tensor) - - its corresponding image in the target domain\n",
    "            A_paths (str) - - image paths\n",
    "            B_paths (str) - - image paths (same as A_paths)\n",
    "        \"\"\"\n",
    "        # read a image given a random integer index\n",
    "        AB_path = self.AB_paths[index]\n",
    "        filename = AB_path.split('/')[-1]\n",
    "            \n",
    "        AB = Image.open(AB_path)\n",
    "        if self.grayscale:\n",
    "            AB = AB.convert('L')\n",
    "        else:\n",
    "            AB = AB.convert('RGB')\n",
    "        # split AB image into A and B\n",
    "        w, h = AB.size\n",
    "        w2 = int(w / 2)\n",
    "        A = AB.crop((0, 0, w2, h))\n",
    "        B = AB.crop((w2, 0, w, h))\n",
    "\n",
    "        # apply the same transform to both A and B\n",
    "        \n",
    "        A_transform = []\n",
    "        if self.A_transform:\n",
    "            A_transform.append(self.A_transform)\n",
    "        # use different mapping for different set\n",
    "        if filename.startswith('patient'):\n",
    "            A_transform.append(Image2Label(self.aroi_label_dict))\n",
    "        else:\n",
    "            A_transform.append(Image2Label(self.op_label_dict))\n",
    "        A_transform = transforms.Compose(A_transform)\n",
    "        A = A_transform(A)\n",
    "        if self.B_transform:\n",
    "            B_transform = transforms.Compose(self.B_transform)\n",
    "            B = B_transform(B)\n",
    "        return {'A': A, 'B': B, 'A_paths': AB_path, 'B_paths': AB_path}"
   ]
  },
  {
   "cell_type": "markdown",
   "id": "30201e73-1371-4daa-8e16-4cb8431cbff3",
   "metadata": {},
   "source": [
    "### Train"
   ]
  },
  {
   "cell_type": "markdown",
   "id": "dc13ddcd-5643-42ad-9b4d-120d4ff85a8c",
   "metadata": {},
   "source": [
    "#### Train with homo-labeled data"
   ]
  },
  {
   "cell_type": "code",
   "execution_count": null,
   "id": "5f66f018-9d11-4ee3-8f42-7eae7a431e67",
   "metadata": {},
   "outputs": [],
   "source": [
    "dataset_folder = C.DATASET_PATTERN.format(data='OPAROI', name='original')\n",
    "checkpoint_name = 'oparoi_homolabel_pix2pix'\n",
    "\n",
    "!NVIDIA_VISIBLE_DEVICES=1 python pytorch-CycleGAN-and-pix2pix/train.py \\\n",
    "        --dataroot $dataset_folder \\\n",
    "        --name $checkpoint_name \\\n",
    "        --model pix2pix \\\n",
    "        --direction AtoB \\\n",
    "        --n_epochs 100 \\\n",
    "        --print_freq 500 \\\n",
    "        --batch_size 4 \\\n",
    " > log/oparoi_homolabel.log"
   ]
  },
  {
   "cell_type": "markdown",
   "id": "24b1ae90-c911-4b20-97a2-1f8df300acce",
   "metadata": {},
   "source": [
    "#### Train with hetero-labeled data"
   ]
  },
  {
   "cell_type": "code",
   "execution_count": null,
   "id": "2f0926ea-44b7-4df8-9dce-1d2192bd505a",
   "metadata": {},
   "outputs": [],
   "source": [
    "dataset_folder = C.DATASET_PATTERN.format(data='OPAROI', name='hetero')\n",
    "checkpoint_name = 'oparoi_heterolabel_pix2pix'\n",
    "\n",
    "!NVIDIA_VISIBLE_DEVICES=1 nohup python pytorch-CycleGAN-and-pix2pix/train.py \\\n",
    "        --dataroot $dataset_folder \\\n",
    "        --name $checkpoint_name \\\n",
    "        --model pix2pix \\\n",
    "        --direction AtoB \\\n",
    "        --n_epochs 100 \\\n",
    "        --print_freq 500 \\\n",
    "        --batch_size 4 \\\n",
    "> log/oparoi_heterolabel.log &"
   ]
  },
  {
   "cell_type": "markdown",
   "id": "f2aad967-3578-43f8-a0e3-4d418ac0f7f8",
   "metadata": {},
   "source": [
    "### Evaluate on concat pics\n",
    "\n",
    "We evaluate the two models on concatenated images of OP and AROI dataset (like left half from a dataset, right half from another)"
   ]
  },
  {
   "cell_type": "code",
   "execution_count": null,
   "id": "cc8ff275-2804-468f-befe-ce27103c455a",
   "metadata": {},
   "outputs": [],
   "source": []
  }
 ],
 "metadata": {
  "interpreter": {
   "hash": "588a57ce905e19c3768bc390505ea0fa6a611dc245f32b0714c1075f4b5b1c5e"
  },
  "kernelspec": {
   "display_name": "Python 3",
   "language": "python",
   "name": "python3"
  },
  "language_info": {
   "codemirror_mode": {
    "name": "ipython",
    "version": 3
   },
   "file_extension": ".py",
   "mimetype": "text/x-python",
   "name": "python",
   "nbconvert_exporter": "python",
   "pygments_lexer": "ipython3",
   "version": "3.8.12"
  }
 },
 "nbformat": 4,
 "nbformat_minor": 5
}
