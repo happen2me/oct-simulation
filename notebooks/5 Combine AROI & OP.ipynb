{
 "cells": [
  {
   "cell_type": "code",
   "execution_count": null,
   "id": "b492d9a9",
   "metadata": {},
   "outputs": [],
   "source": [
    "import os\n",
    "import re\n",
    "from glob import glob\n",
    "import pathlib\n",
    "from pathlib import Path\n",
    "import random\n",
    "import numpy as np\n",
    "from tqdm import tqdm\n",
    "from matplotlib import pyplot as plt\n",
    "from PIL import Image\n",
    "import idp_utils.data_handling.constants as C\n",
    "\n",
    "%cd $C.ROOT_PATH\n",
    "\n",
    "seed = 6\n",
    "random.seed(seed)\n",
    "np.random.seed(seed)"
   ]
  },
  {
   "cell_type": "markdown",
   "id": "133d0d61",
   "metadata": {},
   "source": [
    "# 1 Prepare Fake Labels & Fake Scans"
   ]
  },
  {
   "cell_type": "code",
   "execution_count": null,
   "id": "a681a86f",
   "metadata": {},
   "outputs": [],
   "source": [
    "label_mode = 'hetero'\n",
    "\n",
    "OP_split_path = C.SPLIT_PATTERN.format(data='OP', name='original')\n",
    "AROI_split_path = C.SPLIT_PATTERN.format(data='AROI', name='hetero')\n",
    "\n",
    "OP_test_bscan_path = os.path.join(OP_split_path, 'bscans', 'test')\n",
    "OP_test_label_path = os.path.join(OP_split_path, 'labels', 'test')\n",
    "AROI_test_bscan_path = os.path.join(AROI_split_path, 'bscans', 'test')\n",
    "AROI_test_label_path = os.path.join(AROI_split_path, 'labels', 'test')\n",
    "\n",
    "num_test_OP = len(os.listdir(OP_test_bscan_path))\n",
    "num_test_AROI = len(os.listdir(AROI_test_bscan_path))\n",
    "print('num of test in op:', num_test_OP)\n",
    "print('num of test in aroi:', num_test_AROI)"
   ]
  },
  {
   "cell_type": "code",
   "execution_count": null,
   "id": "0f05e0fa",
   "metadata": {},
   "outputs": [],
   "source": [
    "OP_label_sample_name = os.listdir(OP_test_label_path)[0]\n",
    "OP_bscan_sample_name = os.listdir(OP_test_bscan_path)[0]\n",
    "assert OP_label_sample_name == OP_bscan_sample_name\n",
    "AROI_label_sample_name = os.listdir(AROI_test_label_path)[0]\n",
    "AROI_bscan_sample_name = os.listdir(AROI_test_bscan_path)[0]\n",
    "assert AROI_bscan_sample_name == AROI_label_sample_name\n",
    "\n",
    "OP_bscan_shape = np.asarray(Image.open(os.path.join(OP_test_bscan_path, OP_bscan_sample_name))).shape\n",
    "OP_label_shape  = np.asarray(Image.open(os.path.join(OP_test_label_path, OP_label_sample_name))).shape\n",
    "assert OP_bscan_shape == OP_label_shape\n",
    "print(f'OP bscan shape: {OP_bscan_shape}')\n",
    "AROI_bscan_shape = np.asarray(Image.open(os.path.join(AROI_test_bscan_path, AROI_bscan_sample_name))).shape\n",
    "AROI_label_shape = np.asarray(Image.open(os.path.join(AROI_test_label_path, AROI_label_sample_name))).shape\n",
    "assert AROI_bscan_shape == AROI_label_shape\n",
    "print(f'AROI bscan shape: {AROI_bscan_shape}')\n"
   ]
  },
  {
   "cell_type": "code",
   "execution_count": null,
   "id": "c87a39bd",
   "metadata": {},
   "outputs": [],
   "source": [
    "OP_labels_with_instrument = []\n",
    "for label_path in glob(os.path.join(OP_test_label_path, '*.png')):\n",
    "    label = np.asarray(Image.open(label_path))\n",
    "    for value in C.INSTRUMENT_LABELS:\n",
    "        if np.any(label == value):\n",
    "            OP_labels_with_instrument.append(label_path)\n",
    "print(f'num of OP labels with instrument: {len(OP_labels_with_instrument)}')"
   ]
  },
  {
   "cell_type": "code",
   "execution_count": null,
   "id": "4a6baf65",
   "metadata": {},
   "outputs": [],
   "source": [
    "rng = np.random.default_rng(seed=seed)\n",
    "sample_labels =rng.choice(len(OP_labels_with_instrument), num_test_AROI, replace=False)\n",
    "OP_labels = np.array(OP_labels_with_instrument)[sample_labels]\n",
    "\n",
    "AROI_labels = glob(os.path.join(AROI_test_label_path, '*.png'))"
   ]
  },
  {
   "cell_type": "code",
   "execution_count": null,
   "id": "9247be94",
   "metadata": {},
   "outputs": [],
   "source": [
    "fake_labels = []\n",
    "AROI_UNIQUE_LABELS = C.HETERO_AROI_LABELS + C.FLUID_LABELS\n",
    "for i in range(num_test_AROI):\n",
    "    OP_label = np.asarray(Image.open(OP_labels[i]))\n",
    "    AROI_label = np.asarray(Image.open(AROI_labels[i]))\n",
    "    unique_OP_labels = np.unique(AROI_label)\n",
    "\n",
    "    # remove irrelevant labels from OP labels\n",
    "    irre_OP_labels = [ label for label in np.unique(OP_label) if label not in C.INSTRUMENT_LABELS]\n",
    "    for label in irre_OP_labels:\n",
    "        OP_label = np.where(OP_label == label, 0, OP_label)\n",
    "\n",
    "    fake_label = OP_label + AROI_label\n",
    "\n",
    "    # remove labels below OP labels\n",
    "    start, end = fake_label.shape[1], 0\n",
    "    for col in range(fake_label.shape[1]):\n",
    "        for label in C.INSTRUMENT_LABELS:\n",
    "            if label in fake_label[:, col]:\n",
    "                if col < start:\n",
    "                    start = col\n",
    "                if col > end:\n",
    "                    end = col\n",
    "    for col in range(start, end+1):\n",
    "        for label in AROI_UNIQUE_LABELS:\n",
    "            fake_label[:, col] = np.where(fake_label[:, col] == label, 0, fake_label[:, col])\n",
    "\n",
    "    fake_labels.append(fake_label)"
   ]
  },
  {
   "cell_type": "code",
   "execution_count": null,
   "id": "1e6e0ea6",
   "metadata": {},
   "outputs": [],
   "source": [
    "# fake_bscan = np.zeros(AROI_bscan_shape, dtype=np.uint8)\n",
    "# fake_bscans = [fake_bscan] * num_test_AROI\n",
    "\n",
    "OP_bscans = [ re.sub('labels', 'bscans', label) for label in OP_labels]\n",
    "OP_bscans = [ np.asarray(Image.open(bscan)) for bscan in OP_bscans]\n",
    "fake_bscans = np.asarray(OP_bscans)"
   ]
  },
  {
   "cell_type": "code",
   "execution_count": null,
   "id": "e31094ab",
   "metadata": {},
   "outputs": [],
   "source": [
    "fake_split_folder = C.SPLIT_PATTERN.format(data='OPAROI', name='fake')\n",
    "pathlib.Path(os.path.join(fake_split_folder, 'labels', 'train')).mkdir(parents=True, exist_ok=True)\n",
    "pathlib.Path(os.path.join(fake_split_folder, 'labels', 'val')).mkdir(parents=True, exist_ok=True)\n",
    "pathlib.Path(os.path.join(fake_split_folder, 'labels', 'test')).mkdir(parents=True, exist_ok=True)\n",
    "pathlib.Path(os.path.join(fake_split_folder, 'bscans', 'train')).mkdir(parents=True, exist_ok=True)\n",
    "pathlib.Path(os.path.join(fake_split_folder, 'bscans', 'val')).mkdir(parents=True, exist_ok=True)\n",
    "pathlib.Path(os.path.join(fake_split_folder, 'bscans', 'test')).mkdir(parents=True, exist_ok=True)"
   ]
  },
  {
   "cell_type": "code",
   "execution_count": null,
   "id": "3baba507",
   "metadata": {},
   "outputs": [],
   "source": [
    "for i in range(num_test_AROI):\n",
    "    label_img = Image.fromarray(fake_labels[i])\n",
    "    bscan_img = Image.fromarray(fake_bscans[i])\n",
    "\n",
    "    label_img.save(os.path.join(fake_split_folder, 'labels', 'test', '{}__{}.png'.format(OP_labels[i].split('/')[-1], AROI_labels[i].split('/')[-1])))\n",
    "    bscan_img.save(os.path.join(fake_split_folder, 'bscans', 'test', '{}__{}.png'.format(OP_labels[i].split('/')[-1], AROI_labels[i].split('/')[-1])))"
   ]
  },
  {
   "cell_type": "markdown",
   "id": "92bbfb86",
   "metadata": {},
   "source": [
    "# 2 Generate Fake Labels Datasets"
   ]
  },
  {
   "cell_type": "code",
   "execution_count": null,
   "id": "57f4deaa",
   "metadata": {},
   "outputs": [],
   "source": [
    "data, name = \"OPAROI\", \"fake\"\n",
    "\n",
    "bscan_folder = os.path.join(C.SPLIT_PATTERN.format(data=data, name=name), \"bscans\")\n",
    "label_folder = os.path.join(C.SPLIT_PATTERN.format(data=data, name=name), \"labels\")\n",
    "dataset_folder = C.DATASET_PATTERN.format(data=data, name=name)"
   ]
  },
  {
   "cell_type": "code",
   "execution_count": null,
   "id": "24e3bde2",
   "metadata": {},
   "outputs": [],
   "source": [
    "!python pytorch-CycleGAN-and-pix2pix/datasets/combine_A_and_B.py \\\n",
    "    --fold_A \"$label_folder\" \\\n",
    "    --fold_B \"$bscan_folder\" \\\n",
    "    --fold_AB \"$dataset_folder\" "
   ]
  },
  {
   "cell_type": "markdown",
   "id": "16eef565",
   "metadata": {},
   "source": [
    "# 3 Test"
   ]
  },
  {
   "cell_type": "markdown",
   "id": "e0952855-180d-4b1d-870d-102ba9a0d1f3",
   "metadata": {},
   "source": [
    "## 3.1 Test with Hetero-label\n",
    "\n",
    "where the same class in different dataset has different label"
   ]
  },
  {
   "cell_type": "code",
   "execution_count": null,
   "id": "ba1b8ea0",
   "metadata": {},
   "outputs": [],
   "source": [
    "data, name = \"OPAROI\", \"fake\"\n",
    "dataset_folder = C.DATASET_PATTERN.format(data=data, name=name)\n",
    "checkpoint_name = 'oparoi_heterolabel_pix2pix'\n",
    "\n",
    "!python pytorch-CycleGAN-and-pix2pix/test.py \\\n",
    "        --dataroot $dataset_folder \\\n",
    "        --direction AtoB \\\n",
    "        --name $checkpoint_name \\\n",
    "        --model pix2pix \\\n",
    "        --num_test $num_test_AROI "
   ]
  },
  {
   "cell_type": "markdown",
   "id": "a10b2e83-ef02-4603-849f-133c2893828e",
   "metadata": {},
   "source": [
    "## 3.2 Test with Homo-label\n",
    "where the same class in different dataset has the same label"
   ]
  },
  {
   "cell_type": "code",
   "execution_count": null,
   "id": "b0a92331-d296-48af-821d-6b2d3abe63d6",
   "metadata": {},
   "outputs": [],
   "source": [
    "data, name = \"OPAROI\", \"original\"\n",
    "dataset_folder = C.DATASET_PATTERN.format(data=data, name=name)\n",
    "checkpoint_name = 'oparoi_homolabel_pix2pix'\n",
    "\n",
    "!python pytorch-CycleGAN-and-pix2pix/test.py \\\n",
    "        --dataroot $dataset_folder \\\n",
    "        --direction AtoB \\\n",
    "        --name $checkpoint_name \\\n",
    "        --model pix2pix \\\n",
    "        --num_test 5355"
   ]
  },
  {
   "cell_type": "markdown",
   "id": "2153f8ef",
   "metadata": {},
   "source": [
    "# 4 Visualization"
   ]
  },
  {
   "cell_type": "code",
   "execution_count": null,
   "id": "72219a44",
   "metadata": {},
   "outputs": [],
   "source": [
    "def find_fake_img(path, file_name):\n",
    "    for file in glob(os.path.join(path, '*.png')):\n",
    "        if 'fake_B' in file.split('/')[-1] and file_name in file.split('/')[-1]:\n",
    "            return file"
   ]
  },
  {
   "cell_type": "code",
   "execution_count": null,
   "id": "cc2e0caa",
   "metadata": {},
   "outputs": [],
   "source": [
    "AROI_split_path = C.SPLIT_PATTERN.format(data='AROI', name='hetero')\n",
    "AROI_real_test_bscan_path = os.path.join(AROI_split_path, 'bscans', 'test')\n",
    "AROI_fake_test_bscan_path = os.path.join('results', 'pix2pix_aroi_original', 'test_latest', 'images')\n",
    "OP_fake_test_bscan_path = os.path.join('results', 'pix2pix_op_original', 'test_latest', 'images')"
   ]
  },
  {
   "cell_type": "code",
   "execution_count": null,
   "id": "a13073fa",
   "metadata": {},
   "outputs": [],
   "source": [
    "metric = fake_OP_file.split()[2:]\n",
    "metric[-1] = metric[-1].split('_')[0]\n",
    "metric"
   ]
  },
  {
   "cell_type": "code",
   "execution_count": null,
   "id": "d019dca2",
   "metadata": {},
   "outputs": [],
   "source": [
    "checkpoint_name = 'oparoi_heterolabel_pix2pix'\n",
    "img_sample_folder = os.path.join('results', checkpoint_name, 'test_latest', 'images')\n",
    "imgs = glob(os.path.join(img_sample_folder, '*.png'))\n",
    "imgs_fakeB = []\n",
    "for img in imgs:\n",
    "    img_name = img.split('/')[-1]\n",
    "    if 'fake_B' in img_name:\n",
    "        imgs_fakeB.append(img)"
   ]
  },
  {
   "cell_type": "code",
   "execution_count": null,
   "id": "ec74ecd5",
   "metadata": {},
   "outputs": [],
   "source": [
    "rand_idx = random.randint(0, len(imgs_fakeB))\n",
    "fake_B_sample_path = imgs_fakeB[rand_idx]\n",
    "\n",
    "OP_file = fake_B_sample_path.split('/')[-1].split(' ')[0].split('__')[0]\n",
    "AROI_file = fake_B_sample_path.split('/')[-1].split(' ')[0].split('__')[1]\n",
    "\n",
    "fake_B_sample = np.asarray(Image.open(fake_B_sample_path))\n",
    "real_A_sample = np.asarray(Image.open(re.sub('fake_B', 'real_A', fake_B_sample_path)))\n",
    "real_OP_sample = np.asarray(Image.open(re.sub('fake_B', 'real_B', fake_B_sample_path)))\n",
    "AROI_resize_shape = (fake_B_sample.shape[0], fake_B_sample.shape[1])\n",
    "real_AROI_sample = np.asarray(Image.open(os.path.join(AROI_real_test_bscan_path, AROI_file)).resize(AROI_resize_shape))\n",
    "\n",
    "fake_OP_file = find_fake_img(OP_fake_test_bscan_path, OP_file.split('.')[0])\n",
    "fake_AROI_file = find_fake_img(AROI_fake_test_bscan_path, AROI_file.split('.')[0])\n",
    "fake_OP_sample = np.asarray(Image.open(fake_OP_file))\n",
    "fake_AROI_sample = np.asarray(Image.open(fake_AROI_file))\n",
    "\n",
    "fake_OP_metric = fake_OP_file.split()[2:]\n",
    "fake_OP_metric[-1] = fake_OP_metric[-1].split('_')[0]\n",
    "fake_OP_metric = \" \".join(fake_OP_metric)\n",
    "fake_AROI_metric = fake_AROI_file.split()[2:]\n",
    "fake_AROI_metric[-1] = fake_AROI_metric[-1].split('_')[0]\n",
    "fake_AROI_metric = \" \".join(fake_AROI_metric)\n",
    "\n",
    "\n",
    "fig, axs = plt.subplots(3, 2, figsize=(30, 12))\n",
    "axs[0,0].imshow(real_A_sample)\n",
    "axs[0,0].set_title('combined label', fontsize=15)\n",
    "axs[0,1].imshow(fake_B_sample)\n",
    "axs[0,1].set_title('generated image', fontsize=15)\n",
    "axs[2,0].imshow(real_OP_sample)\n",
    "axs[2,0].set_title('real OP', fontsize=15)\n",
    "axs[2,1].imshow(real_AROI_sample, cmap='gray')\n",
    "axs[2,1].set_title('real AROI', fontsize=15)\n",
    "axs[1,0].imshow(fake_OP_sample, cmap='gray')\n",
    "axs[1,0].set_title('fake OP  ' + fake_OP_metric, fontsize=15)\n",
    "axs[1,1].imshow(fake_AROI_sample, cmap='gray')\n",
    "axs[1,1].set_title('fake AROI  ' + fake_AROI_metric, fontsize=15)\n",
    "\n",
    "plt.tight_layout()\n",
    "plt.subplots_adjust(wspace=0)"
   ]
  },
  {
   "cell_type": "code",
   "execution_count": null,
   "id": "aab9f460-c62d-4ea4-bcfc-e6b774fac771",
   "metadata": {},
   "outputs": [],
   "source": [
    "# def visualize_combined(dataset='AROI', label_mode='hetero', checkpoint_name='oparoi_heterolabel_pix2pix'):\n",
    "#     AROI_split_path = C.SPLIT_PATTERN.format(data=dataset, name=label_mode)\n",
    "#     AROI_test_bscan_path = os.path.join(AROI_split_path, 'bscans', 'test')\n",
    "    \n",
    "#     img_sample_folder = os.path.join('results', checkpoint_name, 'test_latest', 'images')\n",
    "#     imgs = glob(os.path.join(img_sample_folder, '*.png'))\n",
    "#     imgs_fakeB = []\n",
    "#     for img in imgs:\n",
    "#         img_name = img.split('/')[-1]\n",
    "#         if 'fake_B' in img_name:\n",
    "#             imgs_fakeB.append(img)\n",
    "            \n",
    "#     rand_idx = random.randint(0, len(imgs_fakeB))\n",
    "#     fake_B_sample_path = imgs_fakeB[rand_idx]\n",
    "\n",
    "#     AROI_file = fake_B_sample_path.split('/')[-1].split('__')[-1].split()[0]\n",
    "\n",
    "#     fake_B_sample = np.asarray(Image.open(fake_B_sample_path))\n",
    "#     real_A_sample = np.asarray(Image.open(re.sub('fake_B', 'real_A', fake_B_sample_path)))\n",
    "#     real_OP_sample = np.asarray(Image.open(re.sub('fake_B', 'real_B', fake_B_sample_path)))\n",
    "#     AROI_resize_shape = (fake_B_sample.shape[0], fake_B_sample.shape[1])\n",
    "#     real_AROI_sample = np.asarray(Image.open(os.path.join(AROI_test_bscan_path, AROI_file)).resize(AROI_resize_shape))\n",
    "\n",
    "#     fig, axs = plt.subplots(1, 4, figsize=(20, 8))\n",
    "#     axs[0].imshow(real_A_sample)\n",
    "#     axs[0].set_title('combined label', fontsize=30)\n",
    "#     axs[1].imshow(fake_B_sample)\n",
    "#     axs[1].set_title('generated image', fontsize=30)\n",
    "#     axs[2].imshow(real_OP_sample)\n",
    "#     axs[2].set_title('real OP', fontsize=30)\n",
    "#     axs[3].imshow(real_AROI_sample, cmap='gray')\n",
    "#     axs[3].set_title('real AROI', fontsize=30)\n",
    "\n",
    "#     plt.tight_layout()"
   ]
  },
  {
   "cell_type": "code",
   "execution_count": null,
   "id": "67fae5ff",
   "metadata": {},
   "outputs": [],
   "source": [
    "# visualize_combined(dataset='OPAROI', label_mode='original', checkpoint_name='oparoi_homolabel_pix2pix')"
   ]
  },
  {
   "cell_type": "code",
   "execution_count": null,
   "id": "6b3a4c23-868d-4bc2-a7ec-eab197512ccc",
   "metadata": {},
   "outputs": [],
   "source": []
  }
 ],
 "metadata": {
  "kernelspec": {
   "display_name": "Python 3.9.12 ('opcd')",
   "language": "python",
   "name": "python3"
  },
  "language_info": {
   "codemirror_mode": {
    "name": "ipython",
    "version": 3
   },
   "file_extension": ".py",
   "mimetype": "text/x-python",
   "name": "python",
   "nbconvert_exporter": "python",
   "pygments_lexer": "ipython3",
   "version": "3.9.12"
  },
  "vscode": {
   "interpreter": {
    "hash": "d1e45f3c5d5e2c032902db9a6e5431de92bc1c5596a7eaf85f387116733b2737"
   }
  }
 },
 "nbformat": 4,
 "nbformat_minor": 5
}
