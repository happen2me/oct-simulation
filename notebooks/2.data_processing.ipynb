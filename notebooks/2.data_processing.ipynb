{
 "cells": [
  {
   "cell_type": "markdown",
   "metadata": {
    "id": "GcO_fZ3XLpJD"
   },
   "source": [
    "![DME Layers](https://opg.optica.org/getImage.cfm?img=M3cuZnVsbCxib2UtNi00LTExNzItZzAwMw&article=boe-6-4-1172-g003)\n",
    "\n",
    "-----\n",
    "\n",
    "![RTA Layers Image](https://journals.plos.org/plosone/article/figure/image?size=large&id=10.1371/journal.pone.0133908.g001) | ![RTA Layers Explanation](https://journals.plos.org/plosone/article/figure/image?size=large&id=10.1371/journal.pone.0133908.t001)\n",
    "-- | --\n",
    "\n",
    "![AMD Layers](https://www.ncbi.nlm.nih.gov/pmc/articles/instance/3901571/bin/nihms-508161-f0001.jpg)\n",
    "\n",
    "----\n",
    "\n",
    "![AROI Layers](https://ipg.fer.hr/images/50037599/nasa%20baza.png)"
   ]
  },
  {
   "cell_type": "code",
   "execution_count": 2,
   "metadata": {},
   "outputs": [],
   "source": [
    "import sys\n",
    "sys.path.append('..')\n",
    "\n",
    "%load_ext autoreload\n",
    "%autoreload 2"
   ]
  },
  {
   "cell_type": "code",
   "execution_count": 3,
   "metadata": {},
   "outputs": [
    {
     "name": "stdout",
     "output_type": "stream",
     "text": [
      "WARNING: root path is at oct, expect IDP\n",
      "/mnt/data/shen/archive/oct\n"
     ]
    }
   ],
   "source": [
    "import idp_utils.data_handling.constants as C\n",
    "%cd $C.ROOT_PATH"
   ]
  },
  {
   "cell_type": "code",
   "execution_count": 4,
   "metadata": {
    "executionInfo": {
     "elapsed": 1688,
     "status": "ok",
     "timestamp": 1649275852033,
     "user": {
      "displayName": "Yuanchun",
      "userId": "14461537273961936529"
     },
     "user_tz": -120
    },
    "id": "t_i1NGq_JLZy"
   },
   "outputs": [],
   "source": [
    "%matplotlib inline \n",
    "\n",
    "import os\n",
    "import re\n",
    "import copy\n",
    "from glob import glob\n",
    "import pathlib\n",
    "from pathlib import Path\n",
    "import random\n",
    "import shutil\n",
    "import numpy as np\n",
    "from tqdm import tqdm\n",
    "from matplotlib import pyplot as plt\n",
    "import scipy.io\n",
    "import imageio\n",
    "import cv2\n",
    "from PIL import Image\n",
    "\n",
    "from idp_utils.data_handling.common import (extract_data,\n",
    "                                            extract_data_aroi,\n",
    "                                            extract_data_op,\n",
    "                                            get_dme_valid_idx,\n",
    "                                            get_amd_valid_idx,\n",
    "                                            prepare_files)\n",
    "from idp_utils.data_handling.ulabel import unified_label as U\n",
    "from idp_utils.data_handling.ulabel import diff_label as D\n",
    "\n",
    "seed = 6\n",
    "random.seed(seed)"
   ]
  },
  {
   "cell_type": "code",
   "execution_count": 5,
   "metadata": {},
   "outputs": [],
   "source": [
    "from idp_utils.data_handling.ulabel import (Label, unified_label, unify_label, aroi_label, op_label)"
   ]
  },
  {
   "cell_type": "markdown",
   "metadata": {
    "id": "qzl7iUiIMBTi"
   },
   "source": [
    "# 1 Extract Labeled Layeres & Bscans from Data"
   ]
  },
  {
   "cell_type": "markdown",
   "metadata": {
    "id": "L9vY0A8DM-2P",
    "tags": []
   },
   "source": [
    "## 1.1 Original Data"
   ]
  },
  {
   "cell_type": "markdown",
   "metadata": {
    "id": "M9PaKEHPNPFu",
    "jp-MarkdownHeadingCollapsed": true,
    "tags": []
   },
   "source": [
    "### 1.1.1 RTA"
   ]
  },
  {
   "cell_type": "code",
   "execution_count": null,
   "metadata": {
    "colab": {
     "base_uri": "https://localhost:8080/"
    },
    "executionInfo": {
     "elapsed": 4056,
     "status": "ok",
     "timestamp": 1649275983249,
     "user": {
      "displayName": "Yuanchun",
      "userId": "14461537273961936529"
     },
     "user_tz": -120
    },
    "id": "iX9JfQKbNK8v",
    "outputId": "4e89e9e2-4bc4-4617-f9ed-e97b7d817850"
   },
   "outputs": [],
   "source": [
    "data, dtype = \"RTA\", \"original\"\n",
    "extract_data(file_pattern=os.path.join(C.RAW_DATA_PATTERN.format(data=data), \"*.mat\"), \n",
    "                   bscan_key='volumedata', \n",
    "                   layermap_key='Observer2',\n",
    "                   bscan_format='hws',\n",
    "                   layermap_format='wsl',\n",
    "                   layer_labels=C.RTA_LABELS,\n",
    "                   bscan_folder=C.BSCAN_PATTERN.format(data=data),\n",
    "                   layer_folder=C.LAYER_PATTERN.format(data=data, dtype=dtype),\n",
    "                   overwrite=True)"
   ]
  },
  {
   "cell_type": "markdown",
   "metadata": {
    "id": "iN8ntIoENfZJ",
    "jp-MarkdownHeadingCollapsed": true,
    "tags": []
   },
   "source": [
    "### 1.1.2 DME"
   ]
  },
  {
   "cell_type": "code",
   "execution_count": null,
   "metadata": {
    "colab": {
     "base_uri": "https://localhost:8080/"
    },
    "executionInfo": {
     "elapsed": 14120,
     "status": "ok",
     "timestamp": 1649269478810,
     "user": {
      "displayName": "Yuanchun",
      "userId": "14461537273961936529"
     },
     "user_tz": -120
    },
    "id": "6jnf7swCNhqs",
    "outputId": "5c73382c-d260-483d-facc-97e4521b4219"
   },
   "outputs": [],
   "source": [
    "data, dtype = \"DME\", \"original\"\n",
    "extract_data(file_pattern=os.path.join(C.RAW_DATA_PATTERN.format(data=data), \"*.mat\"),\n",
    "                   bscan_key='images',\n",
    "                   layermap_key='manualLayers1',\n",
    "                   fluid_key='manualFluid1',\n",
    "                   bscan_format='hws',\n",
    "                   layermap_format='lws',\n",
    "                   layer_labels=C.DME_LABELS,\n",
    "                   bscan_folder=C.BSCAN_PATTERN.format(data=data),\n",
    "                   layer_folder=C.LAYER_PATTERN.format(data=data, dtype=dtype),\n",
    "                   fluid_folder=C.FLUID_PATTERN.format(data=data),\n",
    "                   valid_slice_indices_fn=get_dme_valid_idx,\n",
    "                   overwrite=True)"
   ]
  },
  {
   "cell_type": "markdown",
   "metadata": {
    "id": "h1oRBMyPNiFG",
    "jp-MarkdownHeadingCollapsed": true,
    "tags": []
   },
   "source": [
    "### 1.1.3 AMD"
   ]
  },
  {
   "cell_type": "code",
   "execution_count": null,
   "metadata": {
    "id": "N3UgS7zkNlC8"
   },
   "outputs": [],
   "source": [
    "# Control data\n",
    "data, dtype = \"AMD\", \"original\"\n",
    "extract_data(file_pattern=os.path.join(C.RAW_DATA_PATTERN.format(data=data), 'Control 2/Control 2/*.mat'), \n",
    "            bscan_key='images',\n",
    "            layermap_key='layerMaps',\n",
    "            bscan_format='hws',\n",
    "            layermap_format='swl',\n",
    "            layer_labels=[1, 3, 5], #C.AMD_LABELS\n",
    "            bscan_folder=C.BSCAN_PATTERN.format(data=data),\n",
    "            layer_folder=C.LAYER_PATTERN.format(data=data, dtype=dtype),\n",
    "            valid_slice_indices_fn=get_amd_valid_idx,\n",
    "            overwrite=False,\n",
    "            save_extension='png')"
   ]
  },
  {
   "cell_type": "code",
   "execution_count": null,
   "metadata": {
    "executionInfo": {
     "elapsed": 34,
     "status": "aborted",
     "timestamp": 1649276155211,
     "user": {
      "displayName": "Yuanchun",
      "userId": "14461537273961936529"
     },
     "user_tz": -120
    },
    "id": "jaUtxCK3JlEl"
   },
   "outputs": [],
   "source": [
    "# AMD data\n",
    "data, dtype = \"AMD\", \"original\"\n",
    "extract_data(file_pattern=os.path.join(C.RAW_DATA_PATTERN.format(data=data),'AMD 2/AMD 2/*.mat'), \n",
    "            bscan_key='images',\n",
    "            layermap_key='layerMaps',\n",
    "            bscan_format='hws',\n",
    "            layermap_format='swl',\n",
    "            layer_labels=[1, 3, 5], #C.AMD_LABELS\n",
    "            bscan_folder=C.BSCAN_PATTERN.format(data=data),\n",
    "            layer_folder=C.LAYER_PATTERN.format(data=data, dtype=dtype),\n",
    "            valid_slice_indices_fn=get_amd_valid_idx,\n",
    "            overwrite=False,\n",
    "            save_extension='png')"
   ]
  },
  {
   "cell_type": "code",
   "execution_count": null,
   "metadata": {},
   "outputs": [],
   "source": [
    "# !rm -rf data/extract/bscans/AMD\n",
    "# !rm -rf data/extract/layers/AMD"
   ]
  },
  {
   "cell_type": "markdown",
   "metadata": {
    "id": "69I4rweZNleL",
    "tags": []
   },
   "source": [
    "### 1.1.4 AROI"
   ]
  },
  {
   "cell_type": "code",
   "execution_count": null,
   "metadata": {},
   "outputs": [],
   "source": [
    "# from PIL import Image\n",
    "# m = 'data/raw/AROI/24 patient/patient10/mask/number/patient10_raw0040.png'\n",
    "# img = np.asarray(Image.open(m))\n",
    "# np.unique(img)\n",
    "## output:\n",
    "# array([0, 1, 2, 3, 4, 6], dtype=uint8)"
   ]
  },
  {
   "cell_type": "code",
   "execution_count": null,
   "metadata": {},
   "outputs": [],
   "source": [
    "data, dtype = \"AROI\", \"original\"\n",
    "extract_data_aroi(raw_data_folder=C.RAW_DATA_PATTERN.format(data=data),\n",
    "                    bscan_folder=C.BSCAN_PATTERN.format(data=data),\n",
    "                    layer_folder=C.LAYER_PATTERN.format(data=data, dtype=dtype),\n",
    "                    fluid_folder=C.FLUID_PATTERN.format(data=data),\n",
    "                    dtype=dtype,\n",
    "                    fluid_labels=[0, 0, 0],\n",
    "                    layer_labels=[U.ilm, U.ipl, U.rpe, U.bm])"
   ]
  },
  {
   "cell_type": "markdown",
   "metadata": {
    "tags": []
   },
   "source": [
    "#### 1.1.4.1 AROI Hetero"
   ]
  },
  {
   "cell_type": "markdown",
   "metadata": {},
   "source": [
    "We create another AROI dataset that use a totally different set of notations than OP. This is for a later experiment."
   ]
  },
  {
   "cell_type": "code",
   "execution_count": 17,
   "metadata": {},
   "outputs": [
    {
     "name": "stdout",
     "output_type": "stream",
     "text": [
      "Created folder data/extract/layers/AROI/hetero\n"
     ]
    },
    {
     "name": "stderr",
     "output_type": "stream",
     "text": [
      "  2%|▏         | 27/1105 [00:14<10:07,  1.77it/s]"
     ]
    },
    {
     "name": "stdout",
     "output_type": "stream",
     "text": [
      "Error occurred when detecting edges data/raw/AROI/24 patient/patient14/mask/number/patient14_raw0075.png\n"
     ]
    },
    {
     "name": "stderr",
     "output_type": "stream",
     "text": [
      " 35%|███▍      | 385/1105 [01:38<02:57,  4.06it/s]"
     ]
    },
    {
     "name": "stdout",
     "output_type": "stream",
     "text": [
      "Error occurred when detecting edges data/raw/AROI/24 patient/patient5/mask/number/patient5_raw0067.png\n",
      "Error occurred when detecting edges data/raw/AROI/24 patient/patient5/mask/number/patient5_raw0064.png\n"
     ]
    },
    {
     "name": "stderr",
     "output_type": "stream",
     "text": [
      " 35%|███▌      | 387/1105 [01:39<04:05,  2.92it/s]"
     ]
    },
    {
     "name": "stdout",
     "output_type": "stream",
     "text": [
      "Error occurred when detecting edges data/raw/AROI/24 patient/patient5/mask/number/patient5_raw0065.png\n"
     ]
    },
    {
     "name": "stderr",
     "output_type": "stream",
     "text": [
      " 36%|███▌      | 395/1105 [01:40<01:39,  7.15it/s]"
     ]
    },
    {
     "name": "stdout",
     "output_type": "stream",
     "text": [
      "Error occurred when detecting edges data/raw/AROI/24 patient/patient5/mask/number/patient5_raw0066.png\n"
     ]
    },
    {
     "name": "stderr",
     "output_type": "stream",
     "text": [
      " 83%|████████▎ | 915/1105 [04:08<00:48,  3.90it/s]"
     ]
    },
    {
     "name": "stdout",
     "output_type": "stream",
     "text": [
      "Error occurred when detecting edges data/raw/AROI/24 patient/patient10/mask/number/patient10_raw0070.png\n"
     ]
    },
    {
     "name": "stderr",
     "output_type": "stream",
     "text": [
      " 88%|████████▊ | 976/1105 [04:29<01:03,  2.02it/s]"
     ]
    },
    {
     "name": "stdout",
     "output_type": "stream",
     "text": [
      "Error occurred when detecting edges data/raw/AROI/24 patient/patient10/mask/number/patient10_raw0068.png\n"
     ]
    },
    {
     "name": "stderr",
     "output_type": "stream",
     "text": [
      " 89%|████████▉ | 983/1105 [04:30<00:19,  6.29it/s]"
     ]
    },
    {
     "name": "stdout",
     "output_type": "stream",
     "text": [
      "Error occurred when detecting edges data/raw/AROI/24 patient/patient10/mask/number/patient10_raw0069.png\n"
     ]
    },
    {
     "name": "stderr",
     "output_type": "stream",
     "text": [
      " 96%|█████████▌| 1057/1105 [04:50<00:06,  7.31it/s]"
     ]
    },
    {
     "name": "stdout",
     "output_type": "stream",
     "text": [
      "Error occurred when detecting edges data/raw/AROI/24 patient/patient11/mask/number/patient11_raw0069.png\n"
     ]
    },
    {
     "name": "stderr",
     "output_type": "stream",
     "text": [
      "100%|██████████| 1105/1105 [05:00<00:00,  3.68it/s]"
     ]
    },
    {
     "name": "stdout",
     "output_type": "stream",
     "text": [
      "Sum of skipped files:  9\n"
     ]
    },
    {
     "name": "stderr",
     "output_type": "stream",
     "text": [
      "\n"
     ]
    }
   ],
   "source": [
    "data, dtype = \"AROI\", \"hetero\"\n",
    "\n",
    "extract_data_aroi(raw_data_folder=C.RAW_DATA_PATTERN.format(data=data),\n",
    "                        bscan_folder=C.BSCAN_PATTERN.format(data=data),\n",
    "                        layer_folder=C.LAYER_PATTERN.format(data=data, dtype=dtype),\n",
    "                        fluid_folder=C.FLUID_PATTERN.format(data=data),\n",
    "                        dtype=dtype,\n",
    "                        fluid_labels=[0, 0, 0], # remove fluid\n",
    "                        layer_labels=[D.ilm, U.ipl, D.rpe, U.bm])"
   ]
  },
  {
   "cell_type": "code",
   "execution_count": 7,
   "metadata": {},
   "outputs": [],
   "source": [
    "# Make the hetero have the same test data\n",
    "# from glob import glob\n",
    "\n",
    "# aroi = {}\n",
    "# for split in ['train', 'val', 'test']:\n",
    "#     files = glob(f'data/splits/AROI/bscans/{split}/*')\n",
    "#     aroi[split] = [f.split('/')[-1] for f in files]\n",
    "    \n",
    "# aroi_hetero_root = {\n",
    "#     'bscans': 'data/splits/AROI_H/bscans/all',\n",
    "#     'labels': 'data/splits/AROI_H/labels/all',\n",
    "# }\n",
    "# for file_type in ['bscans', 'labels']:\n",
    "#     for split in ['train', 'val', 'test']:\n",
    "#         files = glob(f'{aroi_hetero_root[file_type]}/*')\n",
    "#         for f in files:\n",
    "#             if f.split('/')[-1] in aroi[split]:\n",
    "#                 shutil.copy(f, f'data/splits/AROI_H/{file_type}/{split}/')"
   ]
  },
  {
   "cell_type": "code",
   "execution_count": 83,
   "metadata": {},
   "outputs": [
    {
     "data": {
      "text/plain": [
       "<matplotlib.image.AxesImage at 0x7f9ba840c100>"
      ]
     },
     "execution_count": 83,
     "metadata": {},
     "output_type": "execute_result"
    },
    {
     "data": {
      "image/png": "[encoded data removed]",
      "text/plain": [
       "<Figure size 640x480 with 1 Axes>"
      ]
     },
     "metadata": {},
     "output_type": "display_data"
    }
   ],
   "source": [
    "label = np.asarray(Image.open('/mnt/data/shen/archive/oct/data/splits/AROI_H/labels/val/patient1_raw0075.png'))\n",
    "plt.imshow(label == D.ilm)"
   ]
  },
  {
   "cell_type": "markdown",
   "metadata": {
    "jp-MarkdownHeadingCollapsed": true,
    "tags": []
   },
   "source": [
    "### 1.1.5 OP"
   ]
  },
  {
   "cell_type": "code",
   "execution_count": 52,
   "metadata": {},
   "outputs": [
    {
     "name": "stdout",
     "output_type": "stream",
     "text": [
      "Part1 Started\n"
     ]
    },
    {
     "name": "stderr",
     "output_type": "stream",
     "text": [
      "100%|██████████| 47/47 [06:15<00:00,  8.00s/it]\n"
     ]
    },
    {
     "name": "stdout",
     "output_type": "stream",
     "text": [
      "Part2 Started\n"
     ]
    },
    {
     "name": "stderr",
     "output_type": "stream",
     "text": [
      "100%|██████████| 47/47 [06:35<00:00,  8.41s/it]\n"
     ]
    }
   ],
   "source": [
    "data, dtype = \"OP\", \"original\"\n",
    "name = \"original\"\n",
    "\n",
    "extract_data_op(raw_data_folder=C.RAW_DATA_PATTERN.format(data=data),\n",
    "                bscan_folder=C.BSCAN_PATTERN.format(data=data),\n",
    "                layer_folder=C.LAYER_PATTERN.format(data=data, dtype=dtype),\n",
    "                layer_labels=[U.ilm, U.rpe],\n",
    "                instrument_labels=[U.instrument, U.mirror],\n",
    "                save_extension='png')"
   ]
  },
  {
   "cell_type": "code",
   "execution_count": 58,
   "metadata": {},
   "outputs": [
    {
     "data": {
      "text/plain": [
       "<matplotlib.image.AxesImage at 0x7f9bab1981c0>"
      ]
     },
     "execution_count": 58,
     "metadata": {},
     "output_type": "execute_result"
    },
    {
     "data": {
      "image/png": "[encoded data removed]",
      "text/plain": [
       "<Figure size 640x480 with 1 Axes>"
      ]
     },
     "metadata": {},
     "output_type": "display_data"
    }
   ],
   "source": [
    "label = np.array(Image.open('data/extract/layers/OP/original/0c3839cd-0aa9-4e6e-bd4e-eb8f0520e2056578-002.png'))\n",
    "plt.imshow(label == U.rpe, cmap='gray')"
   ]
  },
  {
   "cell_type": "code",
   "execution_count": null,
   "metadata": {},
   "outputs": [],
   "source": [
    "import os\n",
    "import re\n",
    "import copy\n",
    "from glob import glob\n",
    "import pathlib\n",
    "from pathlib import Path\n",
    "import random\n",
    "import shutil\n",
    "import numpy as np\n",
    "from tqdm import tqdm\n",
    "from matplotlib import pyplot as plt\n",
    "import scipy.io\n",
    "import imageio\n",
    "import cv2\n",
    "import torch\n",
    "from PIL import Image\n",
    "from idp_utils.data_handling.constants import (INSTRUMENT_LABELS, \n",
    "                                               BSCAN_PATTERN,\n",
    "                                               LAYER_PATTERN,\n",
    "                                               FLUID_PATTERN,\n",
    "                                               FLUID_LABELS,\n",
    "                                               AROI_LABEL_DICT)"
   ]
  },
  {
   "cell_type": "code",
   "execution_count": null,
   "metadata": {},
   "outputs": [],
   "source": [
    "def extract_data_op(raw_data_folder, bscan_folder, layer_folder, layer_labels, instrument_labels=None, save_extension='png'):\n",
    "\n",
    "    raw_layer_labels = [1, 3]\n",
    "    raw_instrument_labels = [2, 4]\n",
    "\n",
    "    if not Path(bscan_folder).exists():\n",
    "        Path(bscan_folder).mkdir(parents=True)\n",
    "        print(f\"Created folder {bscan_folder}\")\n",
    "\n",
    "    if not Path(layer_folder).exists():\n",
    "        Path(layer_folder).mkdir(parents=True)\n",
    "        print(f\"Created folder {layer_folder}\")\n",
    "\n",
    "    parts = glob(os.path.join(raw_data_folder, \"*\"))\n",
    "    for part in parts:\n",
    "        print(f\"{part.split('/')[-1]} Started\")\n",
    "        folders = glob(os.path.join(part, \"*\"))\n",
    "        for folder in tqdm(folders):\n",
    "            folder_name = folder.split('/')[-1].split('.')[0]\n",
    "            bscans = glob(os.path.join(folder, \"[0-9]*.bmp\"))\n",
    "            layers = glob(os.path.join(folder, \"segmentation\", \"[0-9]*.bmp\"))\n",
    "            assert len(bscans) !=0 and len(layers) != 0 and len(bscans) == len(layers)\n",
    "\n",
    "            for layer in layers:\n",
    "                layer_name = folder_name + \"-\" + layer.split('/')[-1].split('.')[0] + '.' + save_extension\n",
    "                layer_arr = np.asarray(Image.open(layer))\n",
    "                # for i in range(2):\n",
    "                #     layer_arr[layer_arr == raw_layer_labels[i]] = layer_labels[i]\n",
    "                # if instrument_labels:\n",
    "                #     assert len(instrument_labels) >= len(raw_instrument_labels), \\\n",
    "                #         f\"instrument_labels ({len(instrument_labels)}) is not enough (expect {len(raw_instrument_labels)})\"\n",
    "                #     for i in range(2):\n",
    "                #         layer_arr[layer_arr == raw_instrument_labels[i]] = instrument_labels[i]\n",
    "                # else:\n",
    "                #     layer_arr[layer_arr == raw_instrument_labels[i]] = INSTRUMENT_LABELS[i]\n",
    "                layer_img = Image.fromarray(layer_arr)\n",
    "                layer_img.save(os.path.join(layer_folder, layer_name))\n",
    "            \n",
    "            for bscan in bscans:\n",
    "                bscan_name = folder_name + \"-\" + bscan.split('/')[-1].split('.')[0] + '.' + save_extension\n",
    "                bscan_arr = np.asarray(Image.open(bscan))\n",
    "                bscan_img = Image.fromarray(bscan_arr)\n",
    "                bscan_img.save(os.path.join(bscan_folder, bscan_name))"
   ]
  },
  {
   "cell_type": "code",
   "execution_count": null,
   "metadata": {},
   "outputs": [],
   "source": [
    "data, dtype = \"iOCT\", \"original\"\n",
    "name = \"original\"\n",
    "\n",
    "extract_data_op(raw_data_folder=C.RAW_DATA_PATTERN.format(data=\"OP\"),\n",
    "                bscan_folder=C.BSCAN_PATTERN.format(data=data),\n",
    "                layer_folder=C.LAYER_PATTERN.format(data=data, dtype=dtype),\n",
    "                layer_labels=[1,2],\n",
    "                instrument_labels=[3,4],\n",
    "                save_extension='png')"
   ]
  },
  {
   "cell_type": "code",
   "execution_count": null,
   "metadata": {},
   "outputs": [],
   "source": [
    "import imageio\n",
    "import numpy as np\n",
    "from glob import glob\n",
    "\n",
    "test_layers = glob(C.LAYER_PATTERN.format(data=data, dtype=dtype) + '/*.png')\n",
    "print(len(test_layers))\n",
    "layer = test_layers[0]"
   ]
  },
  {
   "cell_type": "code",
   "execution_count": null,
   "metadata": {},
   "outputs": [],
   "source": [
    "im = imageio.imread(layer)\n",
    "np.unique(im)"
   ]
  },
  {
   "cell_type": "markdown",
   "metadata": {
    "id": "ttr8-k4JND-E",
    "tags": []
   },
   "source": [
    "## 1.2 Reduced-Layer Data"
   ]
  },
  {
   "cell_type": "markdown",
   "metadata": {
    "id": "ocEvOnJ8PST_"
   },
   "source": [
    "### 1.2.1 RTA"
   ]
  },
  {
   "cell_type": "code",
   "execution_count": null,
   "metadata": {
    "colab": {
     "base_uri": "https://localhost:8080/"
    },
    "executionInfo": {
     "elapsed": 1998,
     "status": "ok",
     "timestamp": 1649268982887,
     "user": {
      "displayName": "Yuanchun",
      "userId": "14461537273961936529"
     },
     "user_tz": -120
    },
    "id": "Triifqs7PRm8",
    "outputId": "a6ffed52-5ad7-4e7d-b32b-db861f8bc67a"
   },
   "outputs": [],
   "source": [
    "# data = \"RTA\"\n",
    "# extract_data(file_pattern=os.path.join(C.RAW_DATA_PATTERN.format(data=data),'Subject[78]*.mat'), \n",
    "#                    bscan_key='volumedata', \n",
    "#                    layermap_key='Observer2',\n",
    "#                    bscan_format='hws',\n",
    "#                    layermap_format='wsl',\n",
    "#                    layer_labels=C.RTA_LABELS,\n",
    "#                    bscan_folder=C.BSCAN_PATTERN.format(data=data),\n",
    "#                    layer_folder=C.LAYER_PATTERN.format(data=data, dtype='reduce1'),\n",
    "#                    remove_from=range(2,8), # 6 out of 8\n",
    "#                    n_remove=1)\n",
    "# extract_data(file_pattern=os.path.join(C.RAW_DATA_PATTERN.format(data=data),'Subject[56]*.mat'), \n",
    "#                    bscan_key='volumedata', \n",
    "#                    layermap_key='Observer2',\n",
    "#                    bscan_format='hws',\n",
    "#                    layermap_format='wsl',\n",
    "#                    layer_labels=C.RTA_LABELS,\n",
    "#                    bscan_folder=C.BSCAN_PATTERN.format(data=data),\n",
    "#                    layer_folder=C.LAYER_PATTERN.format(data=data, dtype='reduce2'),\n",
    "#                    remove_from=range(2,8), # 6 out of 8\n",
    "#                    n_remove=2)\n",
    "# extract_data(file_pattern=os.path.join(C.RAW_DATA_PATTERN.format(data=data),'Subject[34]*.mat'), \n",
    "#                    bscan_key='volumedata', \n",
    "#                    layermap_key='Observer2',\n",
    "#                    bscan_format='hws',\n",
    "#                    layermap_format='wsl',\n",
    "#                    layer_labels=C.RTA_LABELS,\n",
    "#                    bscan_folder=C.BSCAN_PATTERN.format(data=data),\n",
    "#                    layer_folder=C.LAYER_PATTERN.format(data=data, dtype='reduce3'),\n",
    "#                    remove_from=range(2,8), # 6 out of 8\n",
    "#                    n_remove=3)\n",
    "# extract_data(file_pattern=os.path.join(C.RAW_DATA_PATTERN.format(data=data),'Subject[12]*.mat'), \n",
    "#                    bscan_key='volumedata', \n",
    "#                    layermap_key='Observer2',\n",
    "#                    bscan_format='hws',\n",
    "#                    layermap_format='wsl',\n",
    "#                    layer_labels=C.RTA_LABELS,\n",
    "#                    bscan_folder=C.BSCAN_PATTERN.format(data=data),\n",
    "#                    layer_folder=C.LAYER_PATTERN.format(data=data, dtype='reduce4'),\n",
    "#                    remove_from=range(2,8), # 6 out of 8\n",
    "#                    n_remove=4)\n",
    "# extract_data(file_pattern=os.path.join(C.RAW_DATA_PATTERN.format(data=data),'Subject[12]*.mat'), \n",
    "#                    bscan_key='volumedata', \n",
    "#                    layermap_key='Observer2',\n",
    "#                    bscan_format='hws',\n",
    "#                    layermap_format='wsl',\n",
    "#                    layer_labels=C.RTA_LABELS,\n",
    "#                    bscan_folder=C.BSCAN_PATTERN.format(data=data),\n",
    "#                    layer_folder=C.LAYER_PATTERN.format(data=data, dtype='reduce5'),\n",
    "#                    remove_from=range(2,8), # 6 out of 8\n",
    "#                    n_remove=5)"
   ]
  },
  {
   "cell_type": "markdown",
   "metadata": {
    "id": "lsGkSrPAPYko",
    "tags": []
   },
   "source": [
    "### 1.2.2 DME"
   ]
  },
  {
   "cell_type": "code",
   "execution_count": null,
   "metadata": {
    "colab": {
     "base_uri": "https://localhost:8080/"
    },
    "executionInfo": {
     "elapsed": 12151,
     "status": "ok",
     "timestamp": 1649269028258,
     "user": {
      "displayName": "Yuanchun",
      "userId": "14461537273961936529"
     },
     "user_tz": -120
    },
    "id": "oTNmSVz2Png2",
    "outputId": "c6bd4f8f-acde-4e3e-8eec-183849b56d0a"
   },
   "outputs": [],
   "source": [
    "# data = \"DME\"\n",
    "# extract_data(file_pattern=os.path.join(C.RAW_DATA_PATTERN.format(data=data),'Subject_0[89].mat'),\n",
    "#                    bscan_key='images',\n",
    "#                    layermap_key='manualLayers1',\n",
    "#                    fluid_key='manualFluid1',\n",
    "#                    bscan_format='hws',\n",
    "#                    layermap_format='lws',\n",
    "#                    layer_labels=C.DME_LABELS,\n",
    "#                    bscan_folder=C.BSCAN_PATTERN.format(data=data),\n",
    "#                    layer_folder=C.LAYER_PATTERN.format(data=data, dtype='reduce1'),\n",
    "#                    fluid_folder=C.FLUID_PATTERN.format(data=data),\n",
    "#                    valid_slice_indices_fn=get_dme_valid_idx,\n",
    "#                    remove_from=range(2,8), # DME also has 8 layers, we choose 6 out of 8\n",
    "#                    n_remove=1)\n",
    "# extract_data(file_pattern=os.path.join(C.RAW_DATA_PATTERN.format(data=data),'Subject_0[67].mat'),\n",
    "#                    bscan_key='images',\n",
    "#                    layermap_key='manualLayers1',\n",
    "#                    fluid_key='manualFluid1',\n",
    "#                    bscan_format='hws',\n",
    "#                    layermap_format='lws',\n",
    "#                    layer_labels=C.DME_LABELS,\n",
    "#                    bscan_folder=C.BSCAN_PATTERN.format(data=data),\n",
    "#                    layer_folder=C.LAYER_PATTERN.format(data=data, dtype='reduce2'),\n",
    "#                    fluid_folder=C.FLUID_PATTERN.format(data=data),\n",
    "#                    valid_slice_indices_fn=get_dme_valid_idx,\n",
    "#                    remove_from=range(2,8), # DME also has 8 layers, we choose 6 out of 8\n",
    "#                    n_remove=2)\n",
    "# extract_data(file_pattern=os.path.join(C.RAW_DATA_PATTERN.format(data=data),'Subject_0[45].mat'),\n",
    "#                    bscan_key='images',\n",
    "#                    layermap_key='manualLayers1',\n",
    "#                    fluid_key='manualFluid1',\n",
    "#                    bscan_format='hws',\n",
    "#                    layermap_format='lws',\n",
    "#                    layer_labels=C.DME_LABELS,\n",
    "#                    bscan_folder=C.BSCAN_PATTERN.format(data=data),\n",
    "#                    layer_folder=C.LAYER_PATTERN.format(data=data, dtype='reduce3'),\n",
    "#                    fluid_folder=C.FLUID_PATTERN.format(data=data),\n",
    "#                    valid_slice_indices_fn=get_dme_valid_idx,\n",
    "#                    remove_from=range(2,8), # DME also has 8 layers, we choose 6 out of 8\n",
    "#                    n_remove=3)\n",
    "# extract_data(file_pattern=os.path.join(C.RAW_DATA_PATTERN.format(data=data),'Subject_0[23].mat'),\n",
    "#                    bscan_key='images',\n",
    "#                    layermap_key='manualLayers1',\n",
    "#                    fluid_key='manualFluid1',\n",
    "#                    bscan_format='hws',\n",
    "#                    layermap_format='lws',\n",
    "#                    layer_labels=C.DME_LABELS,\n",
    "#                    bscan_folder=C.BSCAN_PATTERN.format(data=data),\n",
    "#                    layer_folder=C.LAYER_PATTERN.format(data=data, dtype='reduce4'),\n",
    "#                    fluid_folder=C.FLUID_PATTERN.format(data=data),\n",
    "#                    valid_slice_indices_fn=get_dme_valid_idx,\n",
    "#                    remove_from=range(2,8), # DME also has 8 layers, we choose 6 out of 8\n",
    "#                    n_remove=4)"
   ]
  },
  {
   "cell_type": "markdown",
   "metadata": {
    "id": "TmvbhX9CPb6i"
   },
   "source": [
    "### 1.2.3 AMD\n",
    "\n",
    "There are only 3 layers within it. Let it go."
   ]
  },
  {
   "cell_type": "markdown",
   "metadata": {
    "id": "czhJCeIePiI1"
   },
   "source": [
    "### 1.2.4 AROI"
   ]
  },
  {
   "cell_type": "code",
   "execution_count": null,
   "metadata": {
    "colab": {
     "background_save": true
    },
    "id": "5uwDJda2Mhj7"
   },
   "outputs": [],
   "source": [
    "data = 'AROI'\n",
    "dtype = 'reduce1'\n",
    "extract_data_aroi(raw_data_folder=C.RAW_DATA_PATTERN.format(data=data),\n",
    "                 bscan_folder=C.BSCAN_PATTERN.format(data=data),\n",
    "                 layer_folder=C.LAYER_PATTERN.format(data=data, dtype=dtype),\n",
    "                 fluid_folder=C.FLUID_PATTERN.format(data=data),\n",
    "                 dtype=dtype,\n",
    "                 fluid_labels=C.FLUID_LABELS,\n",
    "                 layer_labels=C.AROI_LABELS,\n",
    "                 remove_from=range(1,3),\n",
    "                 n_remove=1)"
   ]
  },
  {
   "cell_type": "markdown",
   "metadata": {
    "id": "Gy7tSqvJQ_Yk",
    "jp-MarkdownHeadingCollapsed": true,
    "tags": []
   },
   "source": [
    "# 2 Split Data into train, val and test"
   ]
  },
  {
   "cell_type": "markdown",
   "metadata": {
    "id": "O9jXPaTcSm-C",
    "tags": []
   },
   "source": [
    "## 2.1 Original Data"
   ]
  },
  {
   "cell_type": "markdown",
   "metadata": {
    "id": "nbnXzvJMSrDm",
    "jp-MarkdownHeadingCollapsed": true,
    "tags": []
   },
   "source": [
    "### 2.1.1 RTA"
   ]
  },
  {
   "cell_type": "code",
   "execution_count": null,
   "metadata": {},
   "outputs": [],
   "source": [
    "data, dtype = \"RTA\", \"original\"\n",
    "name = \"original\"\n",
    "\n",
    "prepare_files(data=data, \n",
    "              dst_folder=C.SPLIT_PATTERN.format(data=data, name=name), \n",
    "              train_ratio=0.8, \n",
    "              test_ratio=0.1,\n",
    "              with_fluids=False,\n",
    "              dtype=dtype  )"
   ]
  },
  {
   "cell_type": "markdown",
   "metadata": {
    "id": "VQLMPJvfS39O",
    "jp-MarkdownHeadingCollapsed": true,
    "tags": []
   },
   "source": [
    "### 2.1.2 DME\n",
    "\n",
    "Just a backup for original code\n",
    "```python\n",
    "bscan_files = glob(C.DME_BSCAN_ORIGINAL_FOLDER + '*.jpg')\n",
    "assert len(bscan_files) != 0\n",
    "\n",
    "train_files, test_files, val_files = split_files(bscan_files, 0.8, 0.1)\n",
    "assert len(train_files) != 0, f\"train_files is empty, data may have already been moved\"\n",
    "\n",
    "splited_files = {\n",
    "    'train': train_files,\n",
    "    'test': test_files,\n",
    "    'val': val_files\n",
    "}\n",
    "move_files(splited_files, C.DME_LAYER_BSCAN_ORIGINAL_ROOT, C.DME_SPLIT_ORIGINAL_FOLDER)\n",
    "```"
   ]
  },
  {
   "cell_type": "code",
   "execution_count": null,
   "metadata": {
    "executionInfo": {
     "elapsed": 1310,
     "status": "ok",
     "timestamp": 1649276015123,
     "user": {
      "displayName": "Yuanchun",
      "userId": "14461537273961936529"
     },
     "user_tz": -120
    },
    "id": "1kZrkt_5S908"
   },
   "outputs": [],
   "source": [
    "data, dtype = \"DME\", \"original\"\n",
    "name = \"original\"\n",
    "\n",
    "prepare_files(data=data, \n",
    "              dst_folder=C.SPLIT_PATTERN.format(data=data, name=name), \n",
    "              train_ratio=0.8, \n",
    "              test_ratio=0.1,\n",
    "              with_fluids=True,\n",
    "              dtype=dtype)"
   ]
  },
  {
   "cell_type": "markdown",
   "metadata": {
    "id": "vvkW-qBKTCkY",
    "jp-MarkdownHeadingCollapsed": true,
    "tags": []
   },
   "source": [
    "### 2.1.3 AMD"
   ]
  },
  {
   "cell_type": "code",
   "execution_count": null,
   "metadata": {},
   "outputs": [],
   "source": [
    "data, dtype = \"AMD\", \"original\"\n",
    "name = \"original\"\n",
    "\n",
    "prepare_files(data=data, \n",
    "              dst_folder=C.SPLIT_PATTERN.format(data=data, name=name), \n",
    "              train_ratio=0.8, \n",
    "              test_ratio=0.1,\n",
    "              with_fluids=False,\n",
    "              dtype=dtype,\n",
    "              extension='png')"
   ]
  },
  {
   "cell_type": "markdown",
   "metadata": {},
   "source": [
    "Copy files to another project:"
   ]
  },
  {
   "cell_type": "code",
   "execution_count": null,
   "metadata": {},
   "outputs": [],
   "source": [
    "%%bash\n",
    "\n",
    "for f in /home/extra/micheal/IDP/data/splits/AMD/original/bscans/train/*; do ln \"$f\" /home/extra/micheal/pixel2style2pixel/data/amd/bscans/train/; done\n",
    "ln /home/extra/micheal/IDP/data/splits/AMD/original/bscans/val/* /home/extra/micheal/pixel2style2pixel/data/amd/bscans/val/\n",
    "ln /home/extra/micheal/IDP/data/splits/AMD/original/bscans/test/* /home/extra/micheal/pixel2style2pixel/data/amd/bscans/test/\n",
    "for f in ln /home/extra/micheal/IDP/data/splits/AMD/original/labels/train/*; do ln \"$f\" /home/extra/micheal/pixel2style2pixel/data/amd/labels/train/; done\n",
    "ln /home/extra/micheal/IDP/data/splits/AMD/original/labels/val/* /home/extra/micheal/pixel2style2pixel/data/amd/labels/val/\n",
    "ln /home/extra/micheal/IDP/data/splits/AMD/original/labels/test/* /home/extra/micheal/pixel2style2pixel/data/amd/labels/test/"
   ]
  },
  {
   "cell_type": "markdown",
   "metadata": {
    "id": "6RpQqPH9TLKC",
    "tags": []
   },
   "source": [
    "### 2.1.4 AROI"
   ]
  },
  {
   "cell_type": "code",
   "execution_count": 21,
   "metadata": {},
   "outputs": [
    {
     "name": "stdout",
     "output_type": "stream",
     "text": [
      "[INFO] 1096 files matches pattern data/extract/bscans/AROI/*.png\n",
      "Preparing train files:\n",
      "created dst label folder data/splits/AROI/labels/train\n",
      "created dst bscan folder data/splits/AROI/bscans/train\n"
     ]
    },
    {
     "name": "stderr",
     "output_type": "stream",
     "text": [
      "100%|██████████| 876/876 [00:11<00:00, 77.63it/s]\n"
     ]
    },
    {
     "name": "stdout",
     "output_type": "stream",
     "text": [
      "Preparing test files:\n",
      "created dst label folder data/splits/AROI/labels/test\n",
      "created dst bscan folder data/splits/AROI/bscans/test\n"
     ]
    },
    {
     "name": "stderr",
     "output_type": "stream",
     "text": [
      "100%|██████████| 109/109 [00:01<00:00, 74.06it/s]\n"
     ]
    },
    {
     "name": "stdout",
     "output_type": "stream",
     "text": [
      "Preparing val files:\n",
      "created dst label folder data/splits/AROI/labels/val\n",
      "created dst bscan folder data/splits/AROI/bscans/val\n"
     ]
    },
    {
     "name": "stderr",
     "output_type": "stream",
     "text": [
      "100%|██████████| 111/111 [00:03<00:00, 29.38it/s]\n"
     ]
    }
   ],
   "source": [
    "data, dtype = \"AROI\", \"original\"\n",
    "name = \"original\"\n",
    "\n",
    "prepare_files(data=data, \n",
    "              dst_folder=C.SPLIT_PATTERN.format(data=data, name=name), \n",
    "              train_ratio=0.8, \n",
    "              test_ratio=0.1,\n",
    "              with_fluids=True,\n",
    "              dtype=dtype,\n",
    "              extension='png')"
   ]
  },
  {
   "cell_type": "markdown",
   "metadata": {
    "jp-MarkdownHeadingCollapsed": true,
    "tags": []
   },
   "source": [
    "#### 2.1.4.1 AROI Hetero"
   ]
  },
  {
   "cell_type": "code",
   "execution_count": 22,
   "metadata": {},
   "outputs": [
    {
     "name": "stdout",
     "output_type": "stream",
     "text": [
      "[INFO] 1096 files matches pattern data/extract/layers/AROI/hetero/*.png\n",
      "Preparing train files:\n",
      "created dst label folder data/splits/AROI/labels/train\n",
      "created dst bscan folder data/splits/AROI/bscans/train\n"
     ]
    },
    {
     "name": "stderr",
     "output_type": "stream",
     "text": [
      "100%|██████████| 876/876 [00:16<00:00, 51.91it/s]\n"
     ]
    },
    {
     "name": "stdout",
     "output_type": "stream",
     "text": [
      "Preparing test files:\n",
      "created dst label folder data/splits/AROI/labels/test\n",
      "created dst bscan folder data/splits/AROI/bscans/test\n"
     ]
    },
    {
     "name": "stderr",
     "output_type": "stream",
     "text": [
      "100%|██████████| 109/109 [00:01<00:00, 72.63it/s]\n"
     ]
    },
    {
     "name": "stdout",
     "output_type": "stream",
     "text": [
      "Preparing val files:\n",
      "created dst label folder data/splits/AROI/labels/val\n",
      "created dst bscan folder data/splits/AROI/bscans/val\n"
     ]
    },
    {
     "name": "stderr",
     "output_type": "stream",
     "text": [
      "100%|██████████| 111/111 [00:01<00:00, 73.61it/s]\n"
     ]
    }
   ],
   "source": [
    "data, dtype = \"AROI\", \"hetero\"\n",
    "name = \"hetero\"\n",
    "\n",
    "prepare_files(data=data, \n",
    "              dst_folder=C.SPLIT_PATTERN.format(data=data, name=name), \n",
    "              train_ratio=0.8, \n",
    "              test_ratio=0.1,\n",
    "              with_fluids=True,\n",
    "              dtype=dtype,\n",
    "              extension='png')"
   ]
  },
  {
   "cell_type": "markdown",
   "metadata": {
    "jp-MarkdownHeadingCollapsed": true,
    "tags": []
   },
   "source": [
    "### 2.1.5 OP"
   ]
  },
  {
   "cell_type": "code",
   "execution_count": 59,
   "metadata": {},
   "outputs": [
    {
     "name": "stdout",
     "output_type": "stream",
     "text": [
      "[INFO] 12025 files matches pattern data/extract/bscans/OP/*.png\n",
      "Preparing train files:\n",
      "created dst label folder data/splits/ioct/labels/train\n",
      "created dst bscan folder data/splits/ioct/bscans/train\n"
     ]
    },
    {
     "name": "stderr",
     "output_type": "stream",
     "text": [
      "100%|██████████| 9620/9620 [00:13<00:00, 696.43it/s] \n"
     ]
    },
    {
     "name": "stdout",
     "output_type": "stream",
     "text": [
      "Preparing test files:\n",
      "created dst label folder data/splits/ioct/labels/test\n",
      "created dst bscan folder data/splits/ioct/bscans/test\n"
     ]
    },
    {
     "name": "stderr",
     "output_type": "stream",
     "text": [
      "100%|██████████| 1202/1202 [00:01<00:00, 1174.81it/s]\n"
     ]
    },
    {
     "name": "stdout",
     "output_type": "stream",
     "text": [
      "Preparing val files:\n",
      "created dst label folder data/splits/ioct/labels/val\n",
      "created dst bscan folder data/splits/ioct/bscans/val\n"
     ]
    },
    {
     "name": "stderr",
     "output_type": "stream",
     "text": [
      "100%|██████████| 1203/1203 [00:00<00:00, 1362.90it/s]\n"
     ]
    }
   ],
   "source": [
    "data, dtype = \"OP\", \"original\"\n",
    "name = \"original\"\n",
    "\n",
    "prepare_files(data=data, \n",
    "              dst_folder=C.SPLIT_PATTERN.format(data=\"ioct\", name=name), \n",
    "              train_ratio=0.8, \n",
    "              test_ratio=0.1,\n",
    "              with_fluids=False,\n",
    "              dtype=dtype,\n",
    "              extension='png')"
   ]
  },
  {
   "attachments": {},
   "cell_type": "markdown",
   "metadata": {},
   "source": [
    "### FILTER OUT OP DATA WITHOUT INSTRUMENTS"
   ]
  },
  {
   "cell_type": "code",
   "execution_count": 64,
   "metadata": {},
   "outputs": [
    {
     "name": "stderr",
     "output_type": "stream",
     "text": [
      "100%|██████████| 1203/1203 [00:23<00:00, 52.03it/s]\n"
     ]
    }
   ],
   "source": [
    "files_to_keep = set()\n",
    "from glob import glob\n",
    "import numpy as np\n",
    "split = \"val\"\n",
    "files = glob(f\"data/splits/ioct/labels/{split}/*\")\n",
    "for f in tqdm(files):\n",
    "    label = Image.open(f)\n",
    "    if U.instrument in np.unique(label):\n",
    "        files_to_keep.add(f)"
   ]
  },
  {
   "cell_type": "code",
   "execution_count": 65,
   "metadata": {},
   "outputs": [
    {
     "name": "stdout",
     "output_type": "stream",
     "text": [
      "305\n"
     ]
    }
   ],
   "source": [
    "import os\n",
    "\n",
    "print(len(files_to_keep))\n",
    "new_folder = 'OP_I'\n",
    "!mkdir -p data/splits/$new_folder/labels/$split\n",
    "!mkdir -p data/splits/$new_folder/bscans/$split\n",
    "files_to_keep = [f.split(\"/\")[-1] for f in files_to_keep]\n",
    "for f in files_to_keep:\n",
    "    old_label = f\"data/splits/ioct/labels/{split}/{f}\"\n",
    "    old_bscan = f\"data/splits/ioct/bscans/{split}/{f}\"\n",
    "    new_label = f\"data/splits/OP_I/labels/{split}/{f}\"\n",
    "    new_bscan = f\"data/splits/OP_I/bscans/{split}/{f}\"\n",
    "    os.link(old_label, new_label,)\n",
    "    os.link(old_bscan, new_bscan)"
   ]
  },
  {
   "cell_type": "markdown",
   "metadata": {
    "id": "RARNt_luTUKB",
    "jp-MarkdownHeadingCollapsed": true,
    "tags": []
   },
   "source": [
    "## 2.2 Reduced-Layer Data"
   ]
  },
  {
   "cell_type": "markdown",
   "metadata": {
    "id": "RBED9BKETY2m",
    "tags": []
   },
   "source": [
    "### 2.2.1 RTA\n",
    "\n",
    "just another backup:\n",
    "```python\n",
    "bscan_files = glob(C.RTA_BSCAN_REDUCED_FOLDER+'*.jpg')\n",
    "print(len(bscan_files))\n",
    "\n",
    "train_files, test_files, val_files = split_files(bscan_files, 0.8, 0.1)\n",
    "assert len(train_files) != 0, f\"train_files is empty, data may have already been moved\"\n",
    "\n",
    "splited_files = {\n",
    "    'train': train_files,\n",
    "    'test': test_files,\n",
    "    'val': val_files\n",
    "}\n",
    "move_files(splited_files, C.RTA_LAYER_BSCAN_REDUCED_ROOT, C.RTA_SPLIT_REDUCED_FOLDER)\n",
    "```"
   ]
  },
  {
   "cell_type": "code",
   "execution_count": null,
   "metadata": {},
   "outputs": [],
   "source": [
    "# data = \"RTA\"\n",
    "# name = \"reduce_merge\"\n",
    "\n",
    "# prepare_files(data=data, \n",
    "#               dst_folder=C.SPLIT_PATTERN.format(data=data, name=name), \n",
    "#               train_ratio=0.8, \n",
    "#               test_ratio=0.1,\n",
    "#               with_fluids=False,\n",
    "#               dtype=\"reduce1\", \n",
    "#               merge_original=True)\n",
    "# prepare_files(data=data, \n",
    "#               dst_folder=C.SPLIT_PATTERN.format(data=data, name=name), \n",
    "#               train_ratio=0.8, \n",
    "#               test_ratio=0.1,\n",
    "#               with_fluids=False,\n",
    "#               dtype=\"reduce2\", \n",
    "#               merge_original=True)\n",
    "# prepare_files(data=data, \n",
    "#               dst_folder=C.SPLIT_PATTERN.format(data=data, name=name), \n",
    "#               train_ratio=0.8, \n",
    "#               test_ratio=0.1,\n",
    "#               with_fluids=False,\n",
    "#               dtype=\"reduce3\", \n",
    "#               merge_original=True)\n",
    "# prepare_files(data=data, \n",
    "#               dst_folder=C.SPLIT_PATTERN.format(data=data, name=name), \n",
    "#               train_ratio=0.8, \n",
    "#               test_ratio=0.1,\n",
    "#               with_fluids=False,\n",
    "#               dtype=\"reduce4\", \n",
    "#               merge_original=True)\n",
    "# prepare_files(data=data, \n",
    "#               dst_folder=C.SPLIT_PATTERN.format(data=data, name=name), \n",
    "#               train_ratio=0.8, \n",
    "#               test_ratio=0.1,\n",
    "#               with_fluids=False,\n",
    "#               dtype=\"reduce5\", \n",
    "#               merge_original=True)"
   ]
  },
  {
   "cell_type": "markdown",
   "metadata": {
    "id": "fvLvc_lSTaL-"
   },
   "source": [
    "### 2.2.2 DME"
   ]
  },
  {
   "cell_type": "code",
   "execution_count": null,
   "metadata": {},
   "outputs": [],
   "source": [
    "# data = \"DME\"\n",
    "# name = \"reduce_merge\"\n",
    "\n",
    "# prepare_files(data=data, \n",
    "#               dst_folder=C.SPLIT_PATTERN.format(data=data, name=name), \n",
    "#               train_ratio=0.8, \n",
    "#               test_ratio=0.1,\n",
    "#               with_fluids=True,\n",
    "#               dtype=\"reduce1\", \n",
    "#               merge_original=True)\n",
    "# prepare_files(data=data, \n",
    "#               dst_folder=C.SPLIT_PATTERN.format(data=data, name=name), \n",
    "#               train_ratio=0.8, \n",
    "#               test_ratio=0.1,\n",
    "#               with_fluids=True,\n",
    "#               dtype=\"reduce2\", \n",
    "#               merge_original=True)\n",
    "# prepare_files(data=data, \n",
    "#               dst_folder=C.SPLIT_PATTERN.format(data=data, name=name), \n",
    "#               train_ratio=0.8, \n",
    "#               test_ratio=0.1,\n",
    "#               with_fluids=True,\n",
    "#               dtype=\"reduce3\", \n",
    "#               merge_original=True)\n",
    "# prepare_files(data=data, \n",
    "#               dst_folder=C.SPLIT_PATTERN.format(data=data, name=name), \n",
    "#               train_ratio=0.8, \n",
    "#               test_ratio=0.1,\n",
    "#               with_fluids=True,\n",
    "#               dtype=\"reduce4\", \n",
    "#               merge_original=True)"
   ]
  },
  {
   "cell_type": "markdown",
   "metadata": {
    "id": "AmgakK95Te0c",
    "tags": []
   },
   "source": [
    "### 2.2.3 AROI"
   ]
  },
  {
   "cell_type": "code",
   "execution_count": null,
   "metadata": {},
   "outputs": [],
   "source": [
    "data, dtype = \"AROI\", \"reduce1\"\n",
    "name = \"reduce1_merge\"\n",
    "merge_original = True\n",
    "\n",
    "prepare_files(data=data, \n",
    "              dst_folder=C.SPLIT_PATTERN.format(data=data, name=name), \n",
    "              train_ratio=0.8, \n",
    "              test_ratio=0.1,\n",
    "              with_fluids=True,\n",
    "              dtype=dtype, \n",
    "              merge_original=merge_original,\n",
    "              extension='png')"
   ]
  },
  {
   "cell_type": "markdown",
   "metadata": {
    "id": "7KGFVM3zUMKT"
   },
   "source": [
    "# 3 Create pix2pix Compatible Datasets"
   ]
  },
  {
   "cell_type": "markdown",
   "metadata": {
    "id": "YZ66rERnUUWE",
    "tags": []
   },
   "source": [
    "## 3.1 Original Data"
   ]
  },
  {
   "cell_type": "markdown",
   "metadata": {
    "id": "mN61JQ38Uax5",
    "jp-MarkdownHeadingCollapsed": true,
    "tags": []
   },
   "source": [
    "### 3.1.1 RTA"
   ]
  },
  {
   "cell_type": "code",
   "execution_count": null,
   "metadata": {
    "colab": {
     "base_uri": "https://localhost:8080/"
    },
    "executionInfo": {
     "elapsed": 23164,
     "status": "ok",
     "timestamp": 1649279146847,
     "user": {
      "displayName": "Yuanchun",
      "userId": "14461537273961936529"
     },
     "user_tz": -120
    },
    "id": "Mgj9hl30UI3E",
    "outputId": "01ca2c76-7a0c-4b08-b1be-b3b16ac942d1"
   },
   "outputs": [],
   "source": [
    "label_folder = C.SPLIT_PATTERN.format(data='RTA', name='original') + '/labels'\n",
    "bscan_folder = C.SPLIT_PATTERN.format(data='RTA', name='original') + '/bscans'\n",
    "dataset_folder = C.DATASET_PATTERN.format(data='RTA', name='original')\n",
    "!python pytorch-CycleGAN-and-pix2pix/datasets/combine_A_and_B.py --fold_A $label_folder --fold_B $bscan_folder --fold_AB $dataset_folder"
   ]
  },
  {
   "cell_type": "markdown",
   "metadata": {
    "id": "AnjaMmczUgBj",
    "jp-MarkdownHeadingCollapsed": true,
    "tags": []
   },
   "source": [
    "### 3.1.2 DME"
   ]
  },
  {
   "cell_type": "code",
   "execution_count": null,
   "metadata": {
    "colab": {
     "base_uri": "https://localhost:8080/"
    },
    "executionInfo": {
     "elapsed": 24149,
     "status": "ok",
     "timestamp": 1649279205431,
     "user": {
      "displayName": "Yuanchun",
      "userId": "14461537273961936529"
     },
     "user_tz": -120
    },
    "id": "YeHdsbT1UK8b",
    "outputId": "ef50a858-da8f-46ca-bb99-e65655a39a96"
   },
   "outputs": [],
   "source": [
    "label_folder = C.SPLIT_PATTERN.format(data='DME', name='original') + '/labels'\n",
    "bscan_folder = C.SPLIT_PATTERN.format(data='DME', name='original') + '/bscans'\n",
    "dataset_folder = C.DATASET_PATTERN.format(data='DME', name='original')\n",
    "!python pytorch-CycleGAN-and-pix2pix/datasets/combine_A_and_B.py \\\n",
    "    --fold_A $label_folder \\\n",
    "    --fold_B $bscan_folder \\\n",
    "    --fold_AB $dataset_folder"
   ]
  },
  {
   "cell_type": "markdown",
   "metadata": {
    "id": "v2xsX8W-UiFx",
    "tags": []
   },
   "source": [
    "### 3.1.3 AMD"
   ]
  },
  {
   "cell_type": "code",
   "execution_count": null,
   "metadata": {
    "colab": {
     "base_uri": "https://localhost:8080/"
    },
    "executionInfo": {
     "elapsed": 1123894,
     "status": "ok",
     "timestamp": 1649280333227,
     "user": {
      "displayName": "Yuanchun",
      "userId": "14461537273961936529"
     },
     "user_tz": -120
    },
    "id": "RA2nzPvkUmcq",
    "outputId": "f8f2ffee-e500-4407-846c-254167956c50"
   },
   "outputs": [],
   "source": [
    "label_folder = C.SPLIT_PATTERN.format(data='AMD', name='original') + '/labels'\n",
    "bscan_folder = C.SPLIT_PATTERN.format(data='AMD', name='original') + '/bscans'\n",
    "dataset_folder = C.DATASET_PATTERN.format(data='AMD', name='original')\n",
    "!python pytorch-CycleGAN-and-pix2pix/datasets/combine_A_and_B.py --fold_A $label_folder --fold_B $bscan_folder --fold_AB $dataset_folder"
   ]
  },
  {
   "cell_type": "code",
   "execution_count": null,
   "metadata": {
    "colab": {
     "base_uri": "https://localhost:8080/"
    },
    "executionInfo": {
     "elapsed": 5294,
     "status": "ok",
     "timestamp": 1649280946177,
     "user": {
      "displayName": "Yuanchun",
      "userId": "14461537273961936529"
     },
     "user_tz": -120
    },
    "id": "ctH4O8-EyAkd",
    "outputId": "9985a15f-6088-48c8-ebda-9f37765cd204"
   },
   "outputs": [],
   "source": [
    "# delete generated AMD datasets\n",
    "!rm $dataset_folder/test/Farsiu_*\n",
    "!rm $dataset_folder/train/Farsiu_*\n",
    "!rm $dataset_folder/val/Farsiu_*"
   ]
  },
  {
   "cell_type": "markdown",
   "metadata": {
    "id": "uWWgeVvwUm38"
   },
   "source": [
    "### 3.1.4 AROI"
   ]
  },
  {
   "cell_type": "code",
   "execution_count": 71,
   "metadata": {},
   "outputs": [
    {
     "name": "stdout",
     "output_type": "stream",
     "text": [
      "[fold_A] =  data/splits/AROI//labels\n",
      "[fold_B] =  data/splits/AROI//bscans\n",
      "[fold_AB] =  data/datasets/AROI\n",
      "[num_imgs] =  1000000\n",
      "[use_AB] =  False\n",
      "[no_multiprocessing] =  False\n",
      "[grayscale] =  False\n",
      "split = train, use 876/876 images\n",
      "split = train, number of images = 876\n",
      "split = test, use 109/109 images\n",
      "split = test, number of images = 109\n",
      "split = val, use 111/111 images\n",
      "split = val, number of images = 111\n"
     ]
    }
   ],
   "source": [
    "label_folder = C.SPLIT_PATTERN.format(data='AROI', name='original') + '/labels'\n",
    "bscan_folder = C.SPLIT_PATTERN.format(data='AROI', name='original') + '/bscans'\n",
    "dataset_folder = C.DATASET_PATTERN.format(data='AROI', name='original')\n",
    "!python submodules/pix2pix/datasets/combine_A_and_B.py \\\n",
    "    --fold_A $label_folder \\\n",
    "    --fold_B $bscan_folder \\\n",
    "    --fold_AB $dataset_folder"
   ]
  },
  {
   "cell_type": "markdown",
   "metadata": {},
   "source": [
    "#### 3.1.4.1 AROI Hetero"
   ]
  },
  {
   "cell_type": "code",
   "execution_count": 72,
   "metadata": {},
   "outputs": [
    {
     "name": "stdout",
     "output_type": "stream",
     "text": [
      "[fold_A] =  data/splits/AROI_H//labels\n",
      "[fold_B] =  data/splits/AROI_H//bscans\n",
      "[fold_AB] =  data/datasets/AROI_H\n",
      "[num_imgs] =  1000000\n",
      "[use_AB] =  False\n",
      "[no_multiprocessing] =  False\n",
      "[grayscale] =  False\n",
      "split = train, use 876/876 images\n",
      "split = train, number of images = 876\n",
      "split = test, use 109/109 images\n",
      "split = test, number of images = 109\n",
      "split = val, use 111/111 images\n",
      "split = val, number of images = 111\n"
     ]
    }
   ],
   "source": [
    "label_folder = C.SPLIT_PATTERN.format(data='AROI_H', name='hetero') + '/labels'\n",
    "bscan_folder = C.SPLIT_PATTERN.format(data='AROI_H', name='hetero') + '/bscans'\n",
    "dataset_folder = C.DATASET_PATTERN.format(data='AROI_H', name='hetero')\n",
    "!python submodules/pix2pix/datasets/combine_A_and_B.py \\\n",
    "    --fold_A $label_folder \\\n",
    "    --fold_B $bscan_folder \\\n",
    "    --fold_AB $dataset_folder"
   ]
  },
  {
   "cell_type": "markdown",
   "metadata": {},
   "source": [
    "### 3.1.5 OP"
   ]
  },
  {
   "cell_type": "code",
   "execution_count": 73,
   "metadata": {},
   "outputs": [
    {
     "name": "stdout",
     "output_type": "stream",
     "text": [
      "[fold_A] =  data/splits/OP/labels\n",
      "[fold_B] =  data/splits/OP/bscans\n",
      "[fold_AB] =  data/datasets/OP\n",
      "[num_imgs] =  1000000\n",
      "[use_AB] =  False\n",
      "[no_multiprocessing] =  False\n",
      "[grayscale] =  False\n",
      "Traceback (most recent call last):\n",
      "  File \"submodules/pix2pix/datasets/combine_A_and_B.py\", line 29, in <module>\n",
      "    splits = os.listdir(args.fold_A)\n",
      "FileNotFoundError: [Errno 2] No such file or directory: 'data/splits/OP/labels'\n"
     ]
    }
   ],
   "source": [
    "label_folder = C.SPLIT_PATTERN.format(data='OP', name='original') + 'labels'\n",
    "bscan_folder = C.SPLIT_PATTERN.format(data='OP', name='original') + 'bscans'\n",
    "dataset_folder = C.DATASET_PATTERN.format(data='OP', name='original')\n",
    "!python submodules/pix2pix/datasets/combine_A_and_B.py \\\n",
    "    --fold_A $label_folder \\\n",
    "    --fold_B $bscan_folder \\\n",
    "    --fold_AB $dataset_folder"
   ]
  },
  {
   "cell_type": "markdown",
   "metadata": {
    "id": "qigV5v4zU1sZ",
    "tags": []
   },
   "source": [
    "## 3.2 Reduced-Layer Data"
   ]
  },
  {
   "cell_type": "markdown",
   "metadata": {
    "id": "2_e1O-9OU9Ls",
    "jp-MarkdownHeadingCollapsed": true,
    "tags": []
   },
   "source": [
    "### 3.2.1 RTA"
   ]
  },
  {
   "cell_type": "code",
   "execution_count": null,
   "metadata": {
    "colab": {
     "base_uri": "https://localhost:8080/"
    },
    "executionInfo": {
     "elapsed": 34100,
     "status": "ok",
     "timestamp": 1649281131415,
     "user": {
      "displayName": "Yuanchun",
      "userId": "14461537273961936529"
     },
     "user_tz": -120
    },
    "id": "tFWLtO4kU6iO",
    "outputId": "d4980c84-8096-4b12-99bb-6b0591a3fdee"
   },
   "outputs": [],
   "source": [
    "# data, name = \"RTA\", \"reduce_merge\"\n",
    "# bscan_folder = os.path.join(C.SPLIT_PATTERN.format(data=data, name=name), \"bscans\")\n",
    "# label_folder = os.path.join(C.SPLIT_PATTERN.format(data=data, name=name), \"labels\")\n",
    "# dataset_folder = C.DATASET_PATTERN.format(data=data, name=name)\n",
    "\n",
    "# !python pytorch-CycleGAN-and-pix2pix/datasets/combine_A_and_B.py \\\n",
    "#     --fold_A $label_folder \\\n",
    "#     --fold_B $bscan_folder \\\n",
    "#     --fold_AB $dataset_folder"
   ]
  },
  {
   "cell_type": "markdown",
   "metadata": {
    "id": "G0KysNxsVG7-",
    "tags": []
   },
   "source": [
    "### 3.2.2 DME"
   ]
  },
  {
   "cell_type": "code",
   "execution_count": null,
   "metadata": {
    "colab": {
     "base_uri": "https://localhost:8080/"
    },
    "executionInfo": {
     "elapsed": 45593,
     "status": "ok",
     "timestamp": 1649281177003,
     "user": {
      "displayName": "Yuanchun",
      "userId": "14461537273961936529"
     },
     "user_tz": -120
    },
    "id": "mw5v2jFAU4R_",
    "outputId": "cbdcd6bb-5086-43fa-d553-6f6349e17fe4"
   },
   "outputs": [],
   "source": [
    "# data, name = \"DME\", \"reduce_merge\"\n",
    "# bscan_folder = os.path.join(C.SPLIT_PATTERN.format(data=data, name=name), \"bscans\")\n",
    "# label_folder = os.path.join(C.SPLIT_PATTERN.format(data=data, name=name), \"labels\")\n",
    "# dataset_folder = C.DATASET_PATTERN.format(data=data, name=name)\n",
    "\n",
    "# !python pytorch-CycleGAN-and-pix2pix/datasets/combine_A_and_B.py \\\n",
    "#     --fold_A $label_folder \\\n",
    "#     --fold_B $bscan_folder \\\n",
    "#     --fold_AB $dataset_folder"
   ]
  },
  {
   "cell_type": "markdown",
   "metadata": {
    "id": "GPDOCFExVNqE"
   },
   "source": [
    "### 3.2.3 AROI"
   ]
  },
  {
   "cell_type": "code",
   "execution_count": null,
   "metadata": {},
   "outputs": [],
   "source": [
    "data, name = \"AROI\", \"reduce1_merge\"\n",
    "\n",
    "bscan_folder = os.path.join(C.SPLIT_PATTERN.format(data=data, name=name), \"bscans\")\n",
    "label_folder = os.path.join(C.SPLIT_PATTERN.format(data=data, name=name), \"labels\")\n",
    "dataset_folder = C.DATASET_PATTERN.format(data=data, name=name)"
   ]
  },
  {
   "cell_type": "code",
   "execution_count": null,
   "metadata": {
    "id": "iextlvmWVPjD"
   },
   "outputs": [],
   "source": [
    "!python pytorch-CycleGAN-and-pix2pix/datasets/combine_A_and_B.py \\\n",
    "    --fold_A \"$label_folder\" \\\n",
    "    --fold_B \"$bscan_folder\" \\\n",
    "    --fold_AB \"$dataset_folder\" "
   ]
  },
  {
   "cell_type": "code",
   "execution_count": null,
   "metadata": {
    "id": "lGbJHLeDIK6u"
   },
   "outputs": [],
   "source": []
  },
  {
   "cell_type": "code",
   "execution_count": null,
   "metadata": {},
   "outputs": [],
   "source": []
  }
 ],
 "metadata": {
  "colab": {
   "collapsed_sections": [
    "p2l3zVo-LVRO",
    "j-Kilc7tLg6u",
    "HZh3WsSnQEQc",
    "M9PaKEHPNPFu",
    "iN8ntIoENfZJ",
    "h1oRBMyPNiFG",
    "69I4rweZNleL",
    "ocEvOnJ8PST_",
    "lsGkSrPAPYko",
    "xN28uBYqRXqc",
    "nbnXzvJMSrDm",
    "VQLMPJvfS39O",
    "6RpQqPH9TLKC",
    "RARNt_luTUKB",
    "RBED9BKETY2m",
    "fvLvc_lSTaL-",
    "smwA3LuTTdOg",
    "AmgakK95Te0c",
    "7KGFVM3zUMKT",
    "mN61JQ38Uax5",
    "AnjaMmczUgBj",
    "v2xsX8W-UiFx",
    "uWWgeVvwUm38",
    "2_e1O-9OU9Ls",
    "G0KysNxsVG7-"
   ],
   "name": "Data Processing.ipynb",
   "provenance": []
  },
  "kernelspec": {
   "display_name": "Python 3",
   "language": "python",
   "name": "python3"
  },
  "language_info": {
   "codemirror_mode": {
    "name": "ipython",
    "version": 3
   },
   "file_extension": ".py",
   "mimetype": "text/x-python",
   "name": "python",
   "nbconvert_exporter": "python",
   "pygments_lexer": "ipython3",
   "version": "3.8.15"
  },
  "vscode": {
   "interpreter": {
    "hash": "916dbcbb3f70747c44a77c7bcd40155683ae19c65e1c03b4aa3499c5328201f1"
   }
  }
 },
 "nbformat": 4,
 "nbformat_minor": 4
}
