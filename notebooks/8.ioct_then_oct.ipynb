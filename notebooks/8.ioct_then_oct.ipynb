{
 "cells": [
  {
   "cell_type": "markdown",
   "id": "719423eb-422b-4602-a37b-940f72b10eee",
   "metadata": {},
   "source": [
    "# iOCT then OCT\n",
    "\n",
    "In this notebook, I first train a pix2pix model on the iOCT domain. Then I finetune it on the OCT domain to gain better quality layers.\n",
    "\n",
    "TODOs:\n",
    "- Get a unified-labeled iOCT dataset\n",
    "- Get a unified-labeled OCT dataset\n",
    "- (Optional) Add a segmentation label of *shadow*\n",
    "- Train Pix2pix on the iOCT\n",
    "- Finetune the pix2pix on OCT"
   ]
  },
  {
   "cell_type": "code",
   "execution_count": 6,
   "id": "db4e083c-5aa5-421c-b3fc-f2036a28377d",
   "metadata": {},
   "outputs": [],
   "source": [
    "import sys\n",
    "\n",
    "sys.path.append('..')"
   ]
  },
  {
   "cell_type": "code",
   "execution_count": 7,
   "id": "e0b8659a-24fb-4a11-a480-949a18b6817a",
   "metadata": {},
   "outputs": [],
   "source": [
    "from os.path import join, basename\n",
    "from pathlib import Path\n",
    "from glob import glob\n",
    "from PIL import Image\n",
    "from tqdm import tqdm\n",
    "import matplotlib.pyplot as plt"
   ]
  },
  {
   "cell_type": "code",
   "execution_count": 8,
   "id": "d568991a-d2b8-4710-9030-67ad89e95508",
   "metadata": {},
   "outputs": [
    {
     "name": "stdout",
     "output_type": "stream",
     "text": [
      "WARNING: root path is at oct, expect IDP\n"
     ]
    }
   ],
   "source": [
    "import idp_utils.data_handling.constants as C\n",
    "from idp_utils.data_handling.ulabel import load_as_array"
   ]
  },
  {
   "cell_type": "code",
   "execution_count": 9,
   "id": "b6f649ef",
   "metadata": {},
   "outputs": [
    {
     "name": "stdout",
     "output_type": "stream",
     "text": [
      "/mnt/data/shen/archive/oct\n"
     ]
    }
   ],
   "source": [
    "%cd $C.ROOT_PATH"
   ]
  },
  {
   "cell_type": "markdown",
   "id": "3f381daf-c38a-445d-b044-48edfa5a77c7",
   "metadata": {
    "tags": []
   },
   "source": [
    "## Part 1. Dataset Preparation"
   ]
  },
  {
   "cell_type": "markdown",
   "id": "32127e11-8e9b-4b1a-9aef-3f78e44fb83c",
   "metadata": {
    "tags": []
   },
   "source": [
    "### 1. Unify aroi labels\n",
    "\n",
    "Load labels in `split/aroi` dataset, unify the layer labels and remove the fluids\n"
   ]
  },
  {
   "cell_type": "markdown",
   "id": "9a29ad24-3124-4bb6-8d6e-e57818f98a35",
   "metadata": {
    "tags": []
   },
   "source": [
    "#### Unify and copy labels"
   ]
  },
  {
   "cell_type": "code",
   "execution_count": null,
   "id": "7ceeb03f-811c-4455-8f44-3e4b713086be",
   "metadata": {},
   "outputs": [],
   "source": [
    "aroi_root = C.SPLIT_PATTERN.format(data='aroi')\n",
    "unified_aroi_root = C.SPLIT_PATTERN.format(data='uaroi')"
   ]
  },
  {
   "cell_type": "code",
   "execution_count": null,
   "id": "1cc8446d-cae0-45e5-8d1f-5e9936e9c7c0",
   "metadata": {},
   "outputs": [],
   "source": [
    "path = aroi_root + \"labels/test/patient10_raw0043.png\"\n",
    "arr = load_as_array(path, label_type='aroi')"
   ]
  },
  {
   "cell_type": "code",
   "execution_count": null,
   "id": "c9212b02-cd8a-4c62-9049-f5747fc66e52",
   "metadata": {},
   "outputs": [],
   "source": [
    "def transform_labels(src_root, dst_root, img_types, splits, label_type, save_extension=None):\n",
    "    \"\"\"\n",
    "    Args:\n",
    "    img_types: ['bscans', 'labels']\n",
    "    splits: ['train', 'val', 'test']\n",
    "    save_extension: if left None, the extension will be left untouched\n",
    "    \"\"\"\n",
    "    for typ in img_types:\n",
    "        for split in splits:\n",
    "            data_dir = join(src_root, typ, split)\n",
    "            dst_dir = join(dst_root, typ, split)\n",
    "            Path(dst_dir).mkdir(parents=True, exist_ok=True)\n",
    "            img_paths = glob(join(data_dir, '*'))\n",
    "            for img_path in tqdm(img_paths, desc=typ + ' ' + split):\n",
    "                img_name = basename(img_path)\n",
    "                if save_extension is not None:\n",
    "                    # Remove original extension and append new one\n",
    "                    img_name = '.'.join(img_name.split('.')[:-1] + [save_extension])\n",
    "                arg_label_type = label_type if typ == 'labels' else None\n",
    "                img_array = load_as_array(img_path, label_type=arg_label_type)\n",
    "                img_processed = Image.fromarray(img_array)\n",
    "                img_processed.save(join(dst_dir, img_name))"
   ]
  },
  {
   "cell_type": "code",
   "execution_count": null,
   "id": "fde477dc-700b-4d10-bf04-8e073af8d3de",
   "metadata": {},
   "outputs": [],
   "source": [
    "transform_labels(src_root=aroi_root,\n",
    "                dst_root=unified_aroi_root,\n",
    "                img_types=['labels'],\n",
    "                splits=['train', 'val', 'test'],\n",
    "                label_type='aroi',\n",
    "                save_extension='png')"
   ]
  },
  {
   "cell_type": "markdown",
   "id": "8aa32394-053c-4632-b15e-f222080029ce",
   "metadata": {
    "tags": []
   },
   "source": [
    "#### Hard link bscans"
   ]
  },
  {
   "cell_type": "code",
   "execution_count": null,
   "id": "ad3e435e-8d01-4bbc-bf9d-22a1961195c1",
   "metadata": {},
   "outputs": [],
   "source": [
    "# !rm -rf $unified_aroi_root/bscans"
   ]
  },
  {
   "cell_type": "code",
   "execution_count": null,
   "id": "173af7b1-0a82-44d2-83f6-1278526153bd",
   "metadata": {},
   "outputs": [],
   "source": [
    "!cp -lR $aroi_root/bscans $unified_aroi_root/bscans"
   ]
  },
  {
   "cell_type": "markdown",
   "id": "3c9acfcd-133e-4bbd-bda4-e56a81c9c8ed",
   "metadata": {
    "tags": []
   },
   "source": [
    "### 2. Unify OP (iOCT) labels"
   ]
  },
  {
   "cell_type": "code",
   "execution_count": null,
   "id": "479728ee-0ded-43cd-abaf-a5b3498942d8",
   "metadata": {},
   "outputs": [],
   "source": [
    "op_root = C.SPLIT_PATTERN.format(data='ioct')\n",
    "unified_op_root = C.SPLIT_PATTERN.format(data='uop')"
   ]
  },
  {
   "cell_type": "code",
   "execution_count": null,
   "id": "331be069-10df-4d83-829d-441aaff86c7d",
   "metadata": {},
   "outputs": [],
   "source": [
    "# unify labels\n",
    "transform_labels(src_root=op_root,\n",
    "                dst_root=unified_op_root,\n",
    "                img_types=['labels'],\n",
    "                splits=['train', 'val', 'test'],\n",
    "                label_type='op',\n",
    "                save_extension='png')"
   ]
  },
  {
   "cell_type": "code",
   "execution_count": null,
   "id": "d5427e33-c149-4bee-8fef-58b3c5600015",
   "metadata": {},
   "outputs": [],
   "source": [
    "# hard link bscans\n",
    "# !cp -lR $op_root/bscans $unified_op_root/bscans"
   ]
  },
  {
   "cell_type": "code",
   "execution_count": null,
   "id": "78c40596-c3a1-47ca-836d-c5d2d516afd2",
   "metadata": {},
   "outputs": [],
   "source": [
    "# verify success\n",
    "!ls $op_root/bscans"
   ]
  },
  {
   "cell_type": "markdown",
   "id": "20916da4-b8ce-484f-a030-c42f886a2955",
   "metadata": {
    "tags": []
   },
   "source": [
    "### 3. Create iOCT(op) and OCT(aroi) datasets\n",
    "\n",
    "`python datasets/combine_A_and_B.py --fold_A /path/to/data/A --fold_B /path/to/data/B --fold_AB /path/to/data`"
   ]
  },
  {
   "cell_type": "code",
   "execution_count": null,
   "id": "6d853c76-2179-4b62-83d9-73ef5f5e1cea",
   "metadata": {},
   "outputs": [],
   "source": [
    "uaroi_dataset_dir = C.DATASET_PATTERN.format(data='uaroi')\n",
    "uop_dataset_dir = C.DATASET_PATTERN.format(data='uop')"
   ]
  },
  {
   "cell_type": "code",
   "execution_count": null,
   "id": "95166c92-ce82-478a-8e8f-6b072b934263",
   "metadata": {},
   "outputs": [],
   "source": [
    "!mkdir -p $uop_dataset_dir $uaroi_dataset_dir"
   ]
  },
  {
   "cell_type": "code",
   "execution_count": null,
   "id": "aa780dcd-c597-4d47-bba3-cb0dc6186a58",
   "metadata": {},
   "outputs": [],
   "source": [
    "aroi_label_dir = join(aroi_root, 'labels')\n",
    "aroi_bscan_dir = join(aroi_root, 'bscans')\n",
    "op_label_dir = join(op_root, 'labels')\n",
    "op_bscan_dir = join(op_root, 'bscans')"
   ]
  },
  {
   "cell_type": "code",
   "execution_count": null,
   "id": "2292afa3-c4fc-4985-9b97-837a5a0d69d8",
   "metadata": {},
   "outputs": [],
   "source": [
    "# prepare unified AROI dataset\n",
    "!python pytorch-CycleGAN-and-pix2pix/datasets/combine_A_and_B.py \\\n",
    "    --fold_A $aroi_label_dir \\\n",
    "    --fold_B $aroi_bscan_dir \\\n",
    "    --fold_AB $uaroi_dataset_dir"
   ]
  },
  {
   "cell_type": "code",
   "execution_count": null,
   "id": "fca46f06-eb70-467f-99f5-c9a7e8bb48f7",
   "metadata": {},
   "outputs": [],
   "source": [
    "# prepare unified OP dataset\n",
    "!python pytorch-CycleGAN-and-pix2pix/datasets/combine_A_and_B.py \\\n",
    "    --fold_A $op_label_dir \\\n",
    "    --fold_B $op_bscan_dir \\\n",
    "    --fold_AB $uop_dataset_dir"
   ]
  },
  {
   "cell_type": "markdown",
   "id": "e70f320f-baee-4389-978b-b8254bdac568",
   "metadata": {
    "tags": []
   },
   "source": [
    "### 4. (Optional) Create a New Label for Shadow"
   ]
  },
  {
   "cell_type": "code",
   "execution_count": null,
   "id": "fb5b39f1-7aee-4761-8044-21ee72175e93",
   "metadata": {},
   "outputs": [],
   "source": [
    "from idp_utils.data_handling.mask import get_shadow_below_top_layer"
   ]
  },
  {
   "cell_type": "code",
   "execution_count": null,
   "id": "2d0d1acc-b9b0-495e-912b-e5b07ad7864c",
   "metadata": {},
   "outputs": [],
   "source": [
    "def add_shadow_label(src_root, dst_root, splits, mask_label=7, save_extension=None):\n",
    "    \"\"\"\n",
    "    Add shadow to iOCT labels, and save the new labels to dst_root\n",
    "    Args:\n",
    "    src_root: expected to be unified label root\n",
    "    splits: ['train', 'val', 'test']\n",
    "    save_extension: if left None, the extension will be left untouched\n",
    "    \"\"\"\n",
    "    for split in splits:\n",
    "        data_dir = join(src_root, 'labels', split)\n",
    "        dst_dir = join(dst_root, 'labels', split)\n",
    "        Path(dst_dir).mkdir(parents=True, exist_ok=True)\n",
    "        img_paths = glob(join(data_dir, '*'))\n",
    "        for img_path in tqdm(img_paths, desc='labels' + ' ' + split):\n",
    "            img_name = basename(img_path)\n",
    "            if save_extension is not None:\n",
    "                # Remove original extension and append new one\n",
    "                img_name = '.'.join(img_name.split('.')[:-1] + [save_extension])\n",
    "            img_array = np.asarray(Image.open(img_path))\n",
    "            img_array = img_array.copy() # copy for editing\n",
    "            x, y = get_shadow_below_top_layer(\n",
    "                label, instrument_label=1, mirror_label=2, top_layer_label=3,\n",
    "                       img_width=512, img_height=1024)\n",
    "            img_array[x, y] = mask_label\n",
    "            img_processed = Image.fromarray(img_array)\n",
    "            img_processed.save(join(dst_dir, img_name))"
   ]
  },
  {
   "cell_type": "code",
   "execution_count": null,
   "id": "4edc43d1-0fe4-4d4b-9256-5f9d918d8f79",
   "metadata": {},
   "outputs": [],
   "source": [
    "shadowed_uop_root = unified_aroi_root = C.SPLIT_PATTERN.format(data='uop_shadowed')"
   ]
  },
  {
   "cell_type": "code",
   "execution_count": null,
   "id": "865229be-7485-48dd-a4f3-b956061ecbc6",
   "metadata": {},
   "outputs": [],
   "source": [
    "add_shadow_label(src_root=unified_op_root,\n",
    "                 dst_root=shadowed_uop_root,\n",
    "                 splits=['train', 'val', 'test'],\n",
    "                 mask_label=7,\n",
    "                 save_extension='png')"
   ]
  },
  {
   "cell_type": "code",
   "execution_count": null,
   "id": "37c51e81-8a25-4a0f-b6f1-75db29bdff2a",
   "metadata": {},
   "outputs": [],
   "source": [
    "# hard link bscans to save space\n",
    "!cp -lR $unified_op_root\"bscans\" $shadowed_uop_root"
   ]
  },
  {
   "cell_type": "code",
   "execution_count": null,
   "id": "0ab4bd9b-250b-45bd-94ac-4bebf0b2b52a",
   "metadata": {},
   "outputs": [],
   "source": [
    "!echo $shadowed_uop_root\"labels\""
   ]
  },
  {
   "cell_type": "code",
   "execution_count": null,
   "id": "bca0d210-4125-4a8c-bcc4-44f419be1228",
   "metadata": {},
   "outputs": [],
   "source": [
    "shadowed_uop_dataset_dir = C.DATASET_PATTERN.format(data='shadowed_uop')"
   ]
  },
  {
   "cell_type": "code",
   "execution_count": null,
   "id": "e1f879a9-7a08-4d00-8c03-d94ca0a7bf23",
   "metadata": {},
   "outputs": [],
   "source": [
    "# prepare unified OP dataset\n",
    "!python pytorch-CycleGAN-and-pix2pix/datasets/combine_A_and_B.py \\\n",
    "    --fold_A $shadowed_uop_root\"labels\" \\\n",
    "    --fold_B $shadowed_uop_root\"bscans\" \\\n",
    "    --fold_AB $shadowed_uop_dataset_dir"
   ]
  },
  {
   "cell_type": "markdown",
   "id": "f618fdb4-c340-4f14-ab1d-fbe7137f55d3",
   "metadata": {
    "tags": []
   },
   "source": [
    "## Part 2. Train a pix2pix on iOCT first"
   ]
  },
  {
   "cell_type": "code",
   "execution_count": null,
   "id": "50ad2a8f-5f42-4370-b7f9-9f93b986f169",
   "metadata": {},
   "outputs": [],
   "source": [
    "!python pytorch-CycleGAN-and-pix2pix/train.py --dataroot $uop_dataset_dir \\\n",
    "    --name \"uop_pix\" \\\n",
    "    --model pix2pix \\\n",
    "    --direction AtoB \\\n",
    "    --n_epochs 100 \\\n",
    "    --print_freq 500 \\\n",
    "    --batch_size 64 "
   ]
  },
  {
   "cell_type": "code",
   "execution_count": null,
   "id": "8b013dc5-0413-463c-87d1-ddd07c8bf8f8",
   "metadata": {},
   "outputs": [],
   "source": [
    "!ls $shadowed_uop_root"
   ]
  },
  {
   "cell_type": "markdown",
   "id": "ef11c071-fc2d-4314-b036-dc4303ee076a",
   "metadata": {},
   "source": [
    "Find the location of the artifacts: model weight path"
   ]
  },
  {
   "cell_type": "code",
   "execution_count": null,
   "id": "d209bf6a-7e35-405f-9c7f-ac4b12f06c56",
   "metadata": {},
   "outputs": [],
   "source": [
    "# train on the the iOCT with shadow label \n",
    "!python pytorch-CycleGAN-and-pix2pix/train.py \\\n",
    "    --dataroot $shadowed_uop_dataset_dir \\\n",
    "    --name \"uop_shadow_pix\" \\\n",
    "    --direction AtoB \\\n",
    "    --model pix2pix \\\n",
    "    --n_epochs 200 \\\n",
    "    --print_freq 500 \\\n",
    "    --batch_size 64 \\\n",
    "    --save_epoch_freq 20"
   ]
  },
  {
   "cell_type": "markdown",
   "id": "34119313-7fcf-4d57-b03c-03eda2fb71c1",
   "metadata": {
    "tags": []
   },
   "source": [
    "## Part 3. Fine tune on the OCT dataset\n",
    "\n",
    "TODOs:\n",
    "1. load weight of the pix2pix trained on the iOCT dataset\n",
    "2. train the pix2pix on the OCT dataset, but with smaller epoch\n",
    "\n",
    "Finetune tips: [link](https://github.com/junyanz/pytorch-CycleGAN-and-pix2pix/blob/master/docs/tips.md#fine-tuningresume-training)\n",
    "\n",
    "To fine-tune a pre-trained model, or resume the previous training, use the `--continue_train` flag. The program will then load the model based on `epoch`. By default, the program will initialize the epoch count as 1. Set `--epoch_count <int>` to specify a different starting epoch count."
   ]
  },
  {
   "cell_type": "code",
   "execution_count": null,
   "id": "74501f13-1452-4016-8419-cd356786f4a7",
   "metadata": {},
   "outputs": [],
   "source": [
    "!echo $uaroi_dataset_dir"
   ]
  },
  {
   "cell_type": "code",
   "execution_count": null,
   "id": "ed702a96-aa0a-4fa3-87eb-e3d5b6026fb2",
   "metadata": {},
   "outputs": [],
   "source": [
    "# train on the original unified-label iOCT\n",
    "!python pytorch-CycleGAN-and-pix2pix/train.py --dataroot $uaroi_dataset_dir \\\n",
    "    --name \"uop_pix\" \\\n",
    "    --direction AtoB \\\n",
    "    --model pix2pix \\\n",
    "    --n_epochs 220 \\\n",
    "    --print_freq 500 \\\n",
    "    --batch_size 64 \\\n",
    "    --continue_train \\\n",
    "    --epoch_count 200 \\\n",
    "    --lr 0.0001  # was 0.0002"
   ]
  },
  {
   "cell_type": "markdown",
   "id": "37dda80c-2bf2-49df-84be-4d2ab29d2f55",
   "metadata": {},
   "source": [
    "Finetune on `uop_shadow_pixe`"
   ]
  },
  {
   "cell_type": "code",
   "execution_count": null,
   "id": "b7f27040-f2ec-4695-806c-5a486f377f21",
   "metadata": {},
   "outputs": [],
   "source": [
    "# train on the original unified-label iOCT\n",
    "!python pytorch-CycleGAN-and-pix2pix/train.py --dataroot $uaroi_dataset_dir \\\n",
    "    --name \"uop_shadow_pix\" \\\n",
    "    --direction AtoB \\\n",
    "    --model pix2pix \\\n",
    "    --n_epochs 120 \\\n",
    "    --print_freq 500 \\\n",
    "    --batch_size 64 \\\n",
    "    --continue_train \\\n",
    "    --epoch_count 200 \\\n",
    "    --lr 0.0001  # was 0.0002"
   ]
  },
  {
   "cell_type": "markdown",
   "id": "9c7a30fa-6324-49b4-a0a7-1dd1150bbdfe",
   "metadata": {
    "tags": []
   },
   "source": [
    "## Part 4. Test the fine-tuned Model\n",
    "\n",
    "At test time, we evaluate the model with iOCT label map. The expected results retains the instruments and shadows naturally from the iOCT domain, but gains layer quality from the OCT domain."
   ]
  },
  {
   "cell_type": "code",
   "execution_count": 3,
   "id": "3f7a3f32",
   "metadata": {},
   "outputs": [],
   "source": [
    "cross_dataset_dir = 'data/datasets/CROSS'"
   ]
  },
  {
   "cell_type": "code",
   "execution_count": 11,
   "id": "a2fc243a-7b93-49cf-adf0-ba792d822850",
   "metadata": {},
   "outputs": [
    {
     "name": "stdout",
     "output_type": "stream",
     "text": [
      "----------------- Options ---------------\n",
      "             aspect_ratio: 1.0                           \n",
      "               batch_size: 1                             \n",
      "          checkpoints_dir: ./checkpoints                 \n",
      "                crop_size: 256                           \n",
      "                 dataroot: data/datasets/CROSS           \t[default: None]\n",
      "             dataset_mode: aligned                       \n",
      "                direction: AtoB                          \n",
      "          display_winsize: 256                           \n",
      "                    epoch: 50                            \t[default: latest]\n",
      "                     eval: False                         \n",
      "                  gpu_ids: 2                             \t[default: 0]\n",
      "                init_gain: 0.02                          \n",
      "                init_type: normal                        \n",
      "                 input_nc: 3                             \n",
      "                  isTrain: False                         \t[default: None]\n",
      "                load_iter: 0                             \t[default: 0]\n",
      "                load_size: 256                           \n",
      "         max_dataset_size: inf                           \n",
      "                    model: pix2pix                       \t[default: test]\n",
      "               n_layers_D: 3                             \n",
      "                     name: uop_pix                       \t[default: experiment_name]\n",
      "                      ndf: 64                            \n",
      "                     netD: basic                         \n",
      "                     netG: unet_256                      \n",
      "                      ngf: 64                            \n",
      "               no_dropout: False                         \n",
      "                  no_flip: False                         \n",
      "                     norm: batch                         \n",
      "                 num_test: 100                           \t[default: 50]\n",
      "              num_threads: 4                             \n",
      "                output_nc: 3                             \n",
      "                    phase: test                          \n",
      "               preprocess: resize_and_crop               \n",
      "              results_dir: ./results/ioct-then-oct       \t[default: ./results/]\n",
      "           serial_batches: False                         \n",
      "                   suffix:                               \n",
      "                use_wandb: False                         \n",
      "                  verbose: False                         \n",
      "       wandb_project_name: CycleGAN-and-pix2pix          \n",
      "----------------- End -------------------\n",
      "dataset [AlignedDataset] was created\n",
      "initialize network with normal\n",
      "model [Pix2PixModel] was created\n",
      "loading the model from ./checkpoints/uop_pix/50_net_G.pth\n",
      "---------- Networks initialized -------------\n",
      "[Network G] Total number of parameters : 54.414 M\n",
      "-----------------------------------------------\n",
      "creating web directory ./results/ioct-then-oct/uop_pix/test_50\n",
      "processing (0000)-th image... ['data/datasets/CROSS/test/0c3839cd-0aa9-4e6e-bd4e-eb8f0520e2056578-102-patient8_raw0085.png']\n",
      "processing (0005)-th image... ['data/datasets/CROSS/test/OS-2020-02-03_113649fs-077-patient9_raw0089.png']\n",
      "processing (0010)-th image... ['data/datasets/CROSS/test/OS-2020-02-03_113731fs-091-patient21_raw0057.png']\n",
      "processing (0015)-th image... ['data/datasets/CROSS/test/OS-2020-02-03_113753fs-042-patient1_raw0039.png']\n",
      "processing (0020)-th image... ['data/datasets/CROSS/test/OS-2020-02-03_113838fs-040-patient18_raw0067.png']\n",
      "processing (0025)-th image... ['data/datasets/CROSS/test/OS-2020-02-03_114037fs-051-patient15_raw0027.png']\n",
      "processing (0030)-th image... ['data/datasets/CROSS/test/OS-2020-02-03_135356fs-037-patient20_raw0063.png']\n",
      "processing (0035)-th image... ['data/datasets/CROSS/test/OS-2020-02-03_135508fs-078-patient14_raw0083.png']\n",
      "processing (0040)-th image... ['data/datasets/CROSS/test/OS-2020-02-03_135609fs-025-patient10_raw0065.png']\n",
      "processing (0045)-th image... ['data/datasets/CROSS/test/OS-2020-02-03_135626fs-039-patient18_raw0067.png']\n",
      "processing (0050)-th image... ['data/datasets/CROSS/test/OS-2020-02-03_135712fs-069-patient15_raw0047.png']\n",
      "processing (0055)-th image... ['data/datasets/CROSS/test/OS-2020-02-03_135838fs-039-patient16_raw0070.png']\n",
      "processing (0060)-th image... ['data/datasets/CROSS/test/OS-2020-02-03_135848fs-062-patient2_raw0067.png']\n",
      "processing (0065)-th image... ['data/datasets/CROSS/test/OS-2020-02-03_135944fs-065-patient7_raw0064.png']\n",
      "processing (0070)-th image... ['data/datasets/CROSS/test/OS-2020-02-03_140017fs-067-patient1_raw0039.png']\n",
      "processing (0075)-th image... ['data/datasets/CROSS/test/OS-2020-02-03_140037fs-096-patient12_raw0066.png']\n",
      "processing (0080)-th image... ['data/datasets/CROSS/test/OS-2020-02-03_140129fs-039-patient14_raw0083.png']\n",
      "processing (0085)-th image... ['data/datasets/CROSS/test/OS-2020-02-03_140143fs-071-patient4_raw0094.png']\n",
      "processing (0090)-th image... ['data/datasets/CROSS/test/OS-2020-02-03_140224fs-046-patient4_raw0050.png']\n",
      "processing (0095)-th image... ['data/datasets/CROSS/test/OS-2020-02-03_140309fs-093-patient1_raw0039.png']\n"
     ]
    }
   ],
   "source": [
    "# export uop_dataset_dir='data/datasets/CROSS'\n",
    "!python -W ignore submodules/pix2pix/test.py \\\n",
    "    --dataroot $cross_dataset_dir \\\n",
    "    --name \"uop_pix\" \\\n",
    "    --model pix2pix \\\n",
    "    --direction AtoB \\\n",
    "    --epoch 50 \\\n",
    "    --results_dir \"./results/ioct-then-oct\" \\\n",
    "    --num_test 100 \\\n",
    "    --gpu_ids 2"
   ]
  },
  {
   "cell_type": "code",
   "execution_count": null,
   "id": "c064d6f8-a9be-4b9b-90da-d8ea95207fc0",
   "metadata": {},
   "outputs": [],
   "source": [
    "# finetuned for 5 more epochs\n",
    "!python pytorch-CycleGAN-and-pix2pix/test.py \\\n",
    "    --dataroot $uop_dataset_dir \\\n",
    "    --name \"uop_pix\" \\\n",
    "    --model pix2pix \\\n",
    "    --direction AtoB \\\n",
    "    --epoch 205 \\\n",
    "    --results_dir \"./results/finetune_e5\""
   ]
  },
  {
   "cell_type": "code",
   "execution_count": null,
   "id": "b2209ab7-bc32-41b4-8fbb-517a0be2489b",
   "metadata": {},
   "outputs": [],
   "source": [
    "# finetuned for 10 more epochs\n",
    "!python pytorch-CycleGAN-and-pix2pix/test.py \\\n",
    "    --dataroot $uop_dataset_dir \\\n",
    "    --name \"uop_pix\" \\\n",
    "    --model pix2pix \\\n",
    "    --direction AtoB \\\n",
    "    --epoch 210 \\\n",
    "    --results_dir \"./results/finetune_e10\""
   ]
  },
  {
   "cell_type": "code",
   "execution_count": null,
   "id": "e3e31649-0e3b-4d64-9121-9712ab360858",
   "metadata": {},
   "outputs": [],
   "source": [
    "# finetuned for 20 more epochs\n",
    "!python pytorch-CycleGAN-and-pix2pix/test.py \\\n",
    "    --dataroot $uop_dataset_dir \\\n",
    "    --name \"uop_pix\" \\\n",
    "    --model pix2pix \\\n",
    "    --direction AtoB \\\n",
    "    --epoch 220 \\\n",
    "    --results_dir \"./results/finetune_e20\""
   ]
  },
  {
   "cell_type": "code",
   "execution_count": null,
   "id": "4aee3670-ec88-4437-8391-e3404d31ec22",
   "metadata": {},
   "outputs": [],
   "source": [
    "# finetuned for 120 more epochs\n",
    "!python pytorch-CycleGAN-and-pix2pix/test.py \\\n",
    "    --dataroot $uop_dataset_dir \\\n",
    "    --name \"uop_pix\" \\\n",
    "    --model pix2pix \\\n",
    "    --direction AtoB \\\n",
    "    --epoch 320 \\\n",
    "    --results_dir \"./results/finetune_e120\""
   ]
  },
  {
   "cell_type": "markdown",
   "id": "5d4d244f-f53f-4372-889e-3915b99e47b1",
   "metadata": {},
   "source": [
    "Evaluation on shadowed uop"
   ]
  },
  {
   "cell_type": "code",
   "execution_count": null,
   "id": "4abe1b20-b29f-4466-892b-94d64f193f87",
   "metadata": {},
   "outputs": [],
   "source": [
    "# finetuned for 0 more epochs\n",
    "!python pytorch-CycleGAN-and-pix2pix/test.py \\\n",
    "    --dataroot $uop_dataset_dir \\\n",
    "    --name \"uop_shadow_pix\" \\\n",
    "    --model pix2pix \\\n",
    "    --direction AtoB \\\n",
    "    --epoch 220 \\\n",
    "    --results_dir \"./results/finetune_shadow_e20\""
   ]
  },
  {
   "cell_type": "code",
   "execution_count": null,
   "id": "74501128-453e-4db0-ae2d-d5c66fdca27b",
   "metadata": {},
   "outputs": [],
   "source": []
  }
 ],
 "metadata": {
  "kernelspec": {
   "display_name": "Python 3 (ipykernel)",
   "language": "python",
   "name": "python3"
  },
  "language_info": {
   "codemirror_mode": {
    "name": "ipython",
    "version": 3
   },
   "file_extension": ".py",
   "mimetype": "text/x-python",
   "name": "python",
   "nbconvert_exporter": "python",
   "pygments_lexer": "ipython3",
   "version": "3.8.15"
  }
 },
 "nbformat": 4,
 "nbformat_minor": 5
}
