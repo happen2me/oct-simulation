{
 "cells": [
  {
   "cell_type": "markdown",
   "metadata": {},
   "source": [
    "# Cycle GAN\n",
    "\n",
    "The dataset should be prepared following this [guide](https://github.com/junyanz/pytorch-CycleGAN-and-pix2pix/blob/master/docs/datasets.md#cyclegan-datasets)\n",
    "\n",
    "Approaches for converting a layer map from low-res layer map to high-res detailed b-scan:"
   ]
  },
  {
   "cell_type": "code",
   "execution_count": null,
   "metadata": {},
   "outputs": [],
   "source": [
    "import idp_utils.data_handling.constants as C\n",
    "\n",
    "%cd $C.ROOT_PATH"
   ]
  },
  {
   "cell_type": "markdown",
   "metadata": {},
   "source": [
    "Here we store some old code snipsets for cycle gan:\n",
    "\n",
    "They will be removed later.\n",
    "\n",
    "```python\n",
    "random.seed(6)\n",
    "\n",
    "def split_files(file_names, train_ratio, test_ratio):\n",
    "    ''' split file names into train, val, test and return as a dictionary'''\n",
    "    random.shuffle(file_names)\n",
    "    \n",
    "    num_train = int(len(file_names) * train_ratio)\n",
    "    num_test = int(len(file_names) * test_ratio)\n",
    "    \n",
    "    train_files = file_names[:num_train]\n",
    "    test_files = file_names[num_train:num_train+num_test]\n",
    "    val_files = file_names[num_train+num_test:]\n",
    "    \n",
    "    splited_files = { 'train': train_files, 'test': test_files, 'val': val_files}\n",
    "    return splited_files\n",
    "\n",
    "def create_cycle_dataset(src_folder, dst_folder, group='A', train_ratio=0.85, test_ratio=0.15):\n",
    "    '''It will travers all files in src folder '''\n",
    "    src_files = glob(os.path.join(src_folder, '*'))\n",
    "    splited_files = split_files(src_files, train_ratio, test_ratio)\n",
    "    for split, files in splited_files.items():\n",
    "        dst_folder_split = os.path.join(dst_folder, split+group)\n",
    "        Path(dst_folder_split).mkdir(parents=True, exist_ok=True)\n",
    "        \n",
    "        for src_path in files:\n",
    "            dst_path = os.path.join(dst_folder_split, src_path.split('/')[-1])\n",
    "            shutil.copy(src_path, dst_path)\n",
    "```\n",
    "\n",
    "```python\n",
    "dst_folder = C.DATASET_PATTERN.format(data='CGAN', name='OP2AROI')\n",
    "src_folder = C.LAYER_PATTERN.format(data='OP',dtype='original')\n",
    "create_cycle_dataset(src_folder, dst_folder, group='A')\n",
    "\n",
    "dst_folder = C.DATASET_PATTERN.format(data='CGAN', name='OP2AROI')\n",
    "src_foler = C.BSCAN_PATTERN.format(data='AROI',dtype='original')\n",
    "create_cycle_dataset(src_folder, dst_folder, group='B')\n",
    "```\n",
    "\n",
    "```bash\n",
    "$ nohup python pytorch-CycleGAN-and-pix2pix/train.py --dataroot ./data/datasets/CGAN/OP2AROI --name op2aroi --model cycle_gan\n",
    "```"
   ]
  },
  {
   "cell_type": "markdown",
   "metadata": {},
   "source": [
    "# 1 Direct Mapping from Label to Bscan between Domains"
   ]
  },
  {
   "cell_type": "code",
   "execution_count": null,
   "metadata": {},
   "outputs": [],
   "source": [
    "import os\n",
    "from pathlib import Path\n",
    "from glob import glob\n",
    "import random\n",
    "import shutil\n",
    "\n",
    "random.seed(6)\n",
    "\n",
    "def split_files(file_names, train_ratio, test_ratio):\n",
    "    ''' split file names into train, val, test and return as a dictionary'''\n",
    "    random.shuffle(file_names)\n",
    "    \n",
    "    num_train = int(len(file_names) * train_ratio)\n",
    "    num_test = int(len(file_names) * test_ratio)\n",
    "    \n",
    "    train_files = file_names[:num_train]\n",
    "    test_files = file_names[num_train:num_train+num_test]\n",
    "    val_files = file_names[num_train+num_test:]\n",
    "    \n",
    "    splited_files = { 'train': train_files, 'test': test_files, 'val': val_files}\n",
    "    return splited_files\n",
    "\n",
    "def create_cycle_dataset(src_folder, dst_folder, train_ratio=0.8, test_ratio=0.1):\n",
    "    '''It will travers all files in src folder '''\n",
    "    src_files = glob(os.path.join(src_folder, '*'))\n",
    "    splited_files = split_files(src_files, train_ratio, test_ratio)\n",
    "    for split, files in splited_files.items():\n",
    "        dst_folder_split = os.path.join(dst_folder, split)\n",
    "        Path(dst_folder_split).mkdir(parents=True, exist_ok=True)\n",
    "        for src_path in files:\n",
    "            dst_path = os.path.join(dst_folder_split, src_path.split('/')[-1])\n",
    "            shutil.copyfile(src_path, dst_path)"
   ]
  },
  {
   "cell_type": "markdown",
   "metadata": {},
   "source": [
    "## Approach 1\n",
    "1. Convert the low-res layer map to low-res b-scan with pix2pix\n",
    "2. Convert the low-res b-scan to high-res detailed b-scan with CycleGAN"
   ]
  },
  {
   "cell_type": "markdown",
   "metadata": {},
   "source": [
    "### Create Datasets\n",
    "\n",
    "First we need to create a dataset that maps a low-res layer map to low-res b-scan"
   ]
  },
  {
   "cell_type": "code",
   "execution_count": null,
   "metadata": {},
   "outputs": [],
   "source": [
    "label_folder = C.SPLIT_PATTERN.format(data='OP', name='original') + '/labels'\n",
    "bscan_folder = C.SPLIT_PATTERN.format(data='OP', name='original') + '/bscans'\n",
    "dataset_folder = C.DATASET_PATTERN.format(data='OP', name='original')\n",
    "!python pytorch-CycleGAN-and-pix2pix/datasets/combine_A_and_B.py --fold_A $label_folder --fold_B $bscan_folder --fold_AB $dataset_folder"
   ]
  },
  {
   "cell_type": "markdown",
   "metadata": {},
   "source": [
    "Then we create a dataset that maps low-res b-scan to high-res bscan"
   ]
  },
  {
   "cell_type": "code",
   "execution_count": null,
   "metadata": {},
   "outputs": [],
   "source": [
    "# Source domain: OP bscan\n",
    "src_foler = C.BSCAN_PATTERN.format(data='OP',dtype='original')\n",
    "dst_folder = C.DATASET_PATTERN.format(data='OP', name='OP_BSCAN_CGAN')\n",
    "create_cycle_dataset(src_foler, dst_folder)"
   ]
  },
  {
   "cell_type": "code",
   "execution_count": null,
   "metadata": {},
   "outputs": [],
   "source": [
    "# Target domain: AROI bscan\n",
    "src_foler = C.BSCAN_PATTERN.format(data='AROI')\n",
    "dst_folder = C.DATASET_PATTERN.format(data='AROI', name='AROI_BSCAN_CGAN')\n",
    "create_cycle_dataset(src_foler, dst_folder)"
   ]
  },
  {
   "cell_type": "code",
   "execution_count": null,
   "metadata": {},
   "outputs": [],
   "source": [
    "# Manually copy folers to trainA and trainB\n",
    "dataset_root = C.DATASET_PATTERN.format(data='CGAN', name='OPBSCAN2AROI')\n",
    "dst_trainA = os.path.join(dataset_root, 'trainA')\n",
    "dst_trainB = os.path.join(dataset_root, 'trainB')\n",
    "dst_testA = os.path.join(dataset_root, 'testA')\n",
    "dst_testB = os.path.join(dataset_root, 'testB')\n",
    "src_trainA = os.path.join(C.DATASET_PATTERN.format(data='OP', name='OP_BSCAN_CGAN'), 'train', '*')\n",
    "src_trainB = os.path.join(C.DATASET_PATTERN.format(data='AROI', name='AROI_BSCAN_CGAN'), 'train', '*')\n",
    "src_testA = os.path.join(C.DATASET_PATTERN.format(data='OP', name='OP_BSCAN_CGAN'), 'test', '*')\n",
    "src_testB = os.path.join(C.DATASET_PATTERN.format(data='AROI', name='AROI_BSCAN_CGAN'), 'test', '*')\n",
    "Path(dst_trainA).mkdir(parents=True, exist_ok=True)\n",
    "Path(dst_trainB).mkdir(parents=True, exist_ok=True)\n",
    "Path(dst_testA).mkdir(parents=True, exist_ok=True)\n",
    "Path(dst_testB).mkdir(parents=True, exist_ok=True)\n",
    "\n",
    "# If follow_symlinks is false, and src is a symbolic link, dst will be created as a symbolic link.\n",
    "for src, dst in zip([src_trainA, src_trainB, src_testA, src_testB], [dst_trainA, dst_trainB, dst_testA, dst_testB]):\n",
    "    for src_f in glob(src):\n",
    "            shutil.move(src_f, dst)"
   ]
  },
  {
   "cell_type": "markdown",
   "metadata": {},
   "source": [
    "### Train a map from low-res B-scan to high-res B-scan (cycle GAN)"
   ]
  },
  {
   "cell_type": "code",
   "execution_count": null,
   "metadata": {},
   "outputs": [],
   "source": [
    "checkpoint_name = 'opbscan2aroi'\n",
    "\n",
    "!NVIDIA_VISIBLE_DEVICES=1 python pytorch-CycleGAN-and-pix2pix/train.py --dataroot $dataset_root \\\n",
    "    --name $checkpoint_name \\\n",
    "    --model cycle_gan"
   ]
  },
  {
   "cell_type": "markdown",
   "metadata": {},
   "source": [
    "### Train a mapping from low-res layer map to low-res B-scan (pix2pix)"
   ]
  },
  {
   "cell_type": "code",
   "execution_count": null,
   "metadata": {},
   "outputs": [],
   "source": [
    "dataset_folder = C.DATASET_PATTERN.format(data='OP', name='original')\n",
    "checkpoint_name = 'op_original_pix2pix'\n",
    "\n",
    "!NVIDIA_VISIBLE_DEVICES=1 python pytorch-CycleGAN-and-pix2pix/train.py \\\n",
    "        --dataroot $dataset_folder \\\n",
    "        --name $checkpoint_name \\\n",
    "        --model pix2pix \\\n",
    "        --direction AtoB \\\n",
    "        --n_epochs 100 \\\n",
    "        --print_freq 500 \\\n",
    "        --batch_size 4"
   ]
  },
  {
   "cell_type": "markdown",
   "metadata": {},
   "source": [
    "### Cnvert low-res layer maps to high-res bscans in 2 steps"
   ]
  },
  {
   "cell_type": "markdown",
   "metadata": {},
   "source": [
    "Stage 1, we convert low-res layer maps to low-res bscans with pix2pix"
   ]
  },
  {
   "cell_type": "code",
   "execution_count": null,
   "metadata": {},
   "outputs": [],
   "source": [
    "dataset_folder = C.DATASET_PATTERN.format(data='OP', name='original')\n",
    "checkpoint_name = 'op_original_pix2pix'\n",
    "results_dir = './results/opl2aroib'\n",
    "!python pytorch-CycleGAN-and-pix2pix/test.py --dataroot $dataset_folder --direction AtoB --model pix2pix --name $checkpoint_name --results_dir $results_dir"
   ]
  },
  {
   "cell_type": "markdown",
   "metadata": {},
   "source": [
    "Copy the generated (fake) low-res to another folder for the next stage"
   ]
  },
  {
   "cell_type": "code",
   "execution_count": null,
   "metadata": {},
   "outputs": [],
   "source": [
    "import shutil\n",
    "from glob import glob\n",
    "from pathlib import Path\n",
    "checkpoint_name = 'op_original_pix2pix'\n",
    "src_root = os.path.join(results_dir, checkpoint_name, 'test_latest', 'images')\n",
    "stage1_fake_bscan_dir = os.path.join(results_dir, 'fake_op_bscan')\n",
    "stage1_fake_bscan_dir_testa = os.path.join(stage1_fake_bscan_dir, 'testA')\n",
    "Path(stage1_fake_bscan_dir_testa).mkdir(exist_ok=True, parents=True)\n",
    "fake_bscan_pattern = os.path.join(src_root, '*_fake_B.png')\n",
    "fake_bscan_paths = glob(fake_bscan_pattern)\n",
    "for fake_bscan in fake_bscan_paths:\n",
    "    shutil.copy(fake_bscan, stage1_fake_bscan_dir_testa)"
   ]
  },
  {
   "cell_type": "markdown",
   "metadata": {},
   "source": [
    "Stage 2: convert fake low-res bscans to high-res bscans:\n",
    "\n",
    "We copy test B from OPBSCAN2AROI dataset"
   ]
  },
  {
   "cell_type": "code",
   "execution_count": null,
   "metadata": {},
   "outputs": [],
   "source": [
    "opbscan2aroi_dataset_root = C.DATASET_PATTERN.format(data='CGAN', name='OPBSCAN2AROI')\n",
    "shutil.copytree(os.path.join(opbscan2aroi_dataset_root, 'testB'), os.path.join(stage1_fake_bscan_dir, 'testB'))"
   ]
  },
  {
   "cell_type": "code",
   "execution_count": null,
   "metadata": {},
   "outputs": [],
   "source": [
    "checkpoint_name = 'opbscan2aroi'\n",
    "!python pytorch-CycleGAN-and-pix2pix/test.py --dataroot $stage1_fake_bscan_dir --name $checkpoint_name --model cycle_gan --no_dropout --results_dir $results_dir"
   ]
  },
  {
   "cell_type": "markdown",
   "metadata": {},
   "source": [
    "Copy generated to a seperate folder for easier recognition"
   ]
  },
  {
   "cell_type": "code",
   "execution_count": null,
   "metadata": {},
   "outputs": [],
   "source": [
    "import shutil\n",
    "from glob import glob\n",
    "from pathlib import Path\n",
    "checkpoint_name = 'opbscan2aroi'\n",
    "stage2_fake_bscan_dir = os.path.join(results_dir, 'fake_aroi_bscan')\n",
    "src_root = os.path.join(results_dir, checkpoint_name, 'test_latest', 'images')\n",
    "Path(stage2_fake_bscan_dir).mkdir(exist_ok=True)\n",
    "fake_bscan_pattern = os.path.join(src_root, '*_fake_B.png')\n",
    "fake_bscan_paths = glob(fake_bscan_pattern)\n",
    "for fake_bscan in fake_bscan_paths:\n",
    "    shutil.copy(fake_bscan, stage2_fake_bscan_dir)"
   ]
  },
  {
   "cell_type": "markdown",
   "metadata": {
    "tags": []
   },
   "source": [
    "## Approach 2: Direct translation\n",
    "Directly translate low-res layer map to high-res B-scan\n",
    "\n",
    "### Create Datasets:\n",
    "The datasets for CycleGAN is rather straight forward. We only need 2 folders contraining all pictures in each domain.\n",
    "\n",
    "We do this by creating soft link to extracted files, and then place the soft links in another dataset folder."
   ]
  },
  {
   "cell_type": "code",
   "execution_count": null,
   "metadata": {},
   "outputs": [],
   "source": [
    "# Source domain: OP layer map\n",
    "src_foler = C.LAYER_PATTERN.format(data='OP',dtype='original')\n",
    "dst_folder = C.DATASET_PATTERN.format(data='OP', name='OP_LAYER_CGAN')\n",
    "create_cycle_dataset(src_foler, dst_folder)"
   ]
  },
  {
   "cell_type": "code",
   "execution_count": null,
   "metadata": {},
   "outputs": [],
   "source": [
    "# Target domain: AROI bscan\n",
    "src_foler = C.BSCAN_PATTERN.format(data='AROI')\n",
    "dst_folder = C.DATASET_PATTERN.format(data='AROI', name='AROI_BSCAN_CGAN')\n",
    "create_cycle_dataset(src_foler, dst_folder)"
   ]
  },
  {
   "cell_type": "code",
   "execution_count": null,
   "metadata": {},
   "outputs": [],
   "source": [
    "# Manually copy folers to trainA and trainB\n",
    "dataset_root = C.DATASET_PATTERN.format(data='CGAN', name='OP2AROI')\n",
    "dst_trainA = os.path.join(dataset_root, 'trainA')\n",
    "dst_trainB = os.path.join(dataset_root, 'trainB')\n",
    "dst_testA = os.path.join(dataset_root, 'testA')\n",
    "dst_testB = os.path.join(dataset_root, 'testB')\n",
    "src_trainA = os.path.join(C.DATASET_PATTERN.format(data='OP', name='OP_LAYER_CGAN'), 'train', '*')\n",
    "src_trainB = os.path.join(C.DATASET_PATTERN.format(data='AROI', name='AROI_BSCAN_CGAN'), 'train', '*')\n",
    "src_testA = os.path.join(C.DATASET_PATTERN.format(data='OP', name='OP_LAYER_CGAN'), 'test', '*')\n",
    "src_testB = os.path.join(C.DATASET_PATTERN.format(data='AROI', name='AROI_BSCAN_CGAN'), 'test', '*')\n",
    "Path(dst_trainA).mkdir(parents=True, exist_ok=True)\n",
    "Path(dst_trainB).mkdir(parents=True, exist_ok=True)\n",
    "Path(dst_testA).mkdir(parents=True, exist_ok=True)\n",
    "Path(dst_testB).mkdir(parents=True, exist_ok=True)\n",
    "\n",
    "# If follow_symlinks is false, and src is a symbolic link, dst will be created as a symbolic link.\n",
    "for src, dst in zip([src_trainA, src_trainB, src_testA, src_testB], [dst_trainA, dst_trainB, dst_testA, dst_testB]):\n",
    "    for src_f in glob(src):\n",
    "            shutil.move(src_f, dst)"
   ]
  },
  {
   "cell_type": "code",
   "execution_count": null,
   "metadata": {},
   "outputs": [],
   "source": [
    "!python pytorch-CycleGAN-and-pix2pix/train.py --dataroot $dataset_root \\\n",
    "    --name op2aroi \\\n",
    "    --model cycle_gan"
   ]
  },
  {
   "cell_type": "markdown",
   "metadata": {},
   "source": [
    "# Map from Label to Bscan within the Same Domain"
   ]
  },
  {
   "cell_type": "markdown",
   "metadata": {},
   "source": [
    "### Create Datasets"
   ]
  },
  {
   "cell_type": "markdown",
   "metadata": {},
   "source": [
    "#### OP Layermap to B-scan\n",
    "\n",
    "These data can be directly accquired from split folder. We create *hard links* to files in split folder"
   ]
  },
  {
   "cell_type": "markdown",
   "metadata": {},
   "source": [
    "A no longer needed function:\n",
    "```python\n",
    "def create_cycle_dataset_folder(dataset_name):\n",
    "    dataset_root = C.DATASET_PATTERN.format(data='CGAN', name=dataset_name)\n",
    "    dst_trainA = os.path.join(dataset_root, 'trainA')\n",
    "    dst_trainB = os.path.join(dataset_root, 'trainB')\n",
    "    dst_testA = os.path.join(dataset_root, 'testA')\n",
    "    dst_testB = os.path.join(dataset_root, 'testB')\n",
    "    Path(dst_trainA).mkdir(parents=True, exist_ok=True)\n",
    "    Path(dst_trainB).mkdir(parents=True, exist_ok=True)\n",
    "    Path(dst_testA).mkdir(parents=True, exist_ok=True)\n",
    "    Path(dst_testB).mkdir(parents=True, exist_ok=True)\n",
    "\n",
    "create_cycle_dataset_folder('OP_LAYER2BSCAN')\n",
    "```"
   ]
  },
  {
   "cell_type": "code",
   "execution_count": null,
   "metadata": {},
   "outputs": [],
   "source": [
    "from pathlib import Path\n",
    "from glob import glob\n",
    "import os\n",
    "import shutil\n",
    "\n",
    "dataset_root = C.DATASET_PATTERN.format(data='CGAN', name='OP_LAYER2BSCAN')\n",
    "label_folder = C.SPLIT_PATTERN.format(data='OP', name='original') + '/labels'\n",
    "bscan_folder = C.SPLIT_PATTERN.format(data='OP', name='original') + '/bscans'\n",
    "\n",
    "dst_trainA = os.path.join(dataset_root, 'trainA')\n",
    "dst_trainB = os.path.join(dataset_root, 'trainB')\n",
    "dst_testA = os.path.join(dataset_root, 'testA')\n",
    "dst_testB = os.path.join(dataset_root, 'testB')\n",
    "src_trainA = os.path.join(label_folder, 'train')\n",
    "src_trainB = os.path.join(bscan_folder, 'train')\n",
    "src_testA = os.path.join(label_folder, 'test')\n",
    "src_testB = os.path.join(bscan_folder, 'test')\n",
    "\n",
    "for src, dst in zip([src_trainA, src_trainB, src_testA, src_testB], [dst_trainA, dst_trainB, dst_testA, dst_testB]):\n",
    "    shutil.copytree(src, dst, copy_function=os.link, dirs_exist_ok=True)"
   ]
  },
  {
   "cell_type": "markdown",
   "metadata": {},
   "source": [
    "train it"
   ]
  },
  {
   "cell_type": "code",
   "execution_count": null,
   "metadata": {},
   "outputs": [],
   "source": [
    "python pytorch-CycleGAN-and-pix2pix/train.py --dataroot data/datasets/CGAN/OP_LAYER2BSCAN \\\n",
    "    --name op_layer2bscan \\\n",
    "    --model cycle_gan"
   ]
  },
  {
   "cell_type": "markdown",
   "metadata": {},
   "source": [
    "Test"
   ]
  },
  {
   "cell_type": "code",
   "execution_count": null,
   "metadata": {},
   "outputs": [],
   "source": [
    "!python pytorch-CycleGAN-and-pix2pix/test.py \\\n",
    "    --dataroot data/datasets/CGAN/OP_LAYER2BSCAN \\\n",
    "    --direction AtoB \\\n",
    "    --name op_layer2bscan \\\n",
    "    --model cycle_gan \\\n",
    "    --results_dir /home/extra/micheal/IDP/results/op_cgan_layer2bscan"
   ]
  },
  {
   "cell_type": "markdown",
   "metadata": {},
   "source": [
    "#### AROI Layermap to B-scan"
   ]
  },
  {
   "cell_type": "code",
   "execution_count": null,
   "metadata": {},
   "outputs": [],
   "source": [
    "from pathlib import Path\n",
    "from glob import glob\n",
    "import os\n",
    "import shutil\n",
    "\n",
    "dataset_root = C.DATASET_PATTERN.format(data='CGAN', name='AROI_LAYER2BSCAN')\n",
    "label_folder = C.SPLIT_PATTERN.format(data='AROI', name='original') + '/labels'\n",
    "bscan_folder = C.SPLIT_PATTERN.format(data='AROI', name='original') + '/bscans'\n",
    "\n",
    "dst_trainA = os.path.join(dataset_root, 'trainA')\n",
    "dst_trainB = os.path.join(dataset_root, 'trainB')\n",
    "dst_testA = os.path.join(dataset_root, 'testA')\n",
    "dst_testB = os.path.join(dataset_root, 'testB')\n",
    "src_trainA = os.path.join(label_folder, 'train')\n",
    "src_trainB = os.path.join(bscan_folder, 'train')\n",
    "src_testA = os.path.join(label_folder, 'test')\n",
    "src_testB = os.path.join(bscan_folder, 'test')\n",
    "\n",
    "for src, dst in zip([src_trainA, src_trainB, src_testA, src_testB], [dst_trainA, dst_trainB, dst_testA, dst_testB]):\n",
    "    shutil.copytree(src, dst, copy_function=os.link, dirs_exist_ok=True)"
   ]
  },
  {
   "cell_type": "markdown",
   "metadata": {},
   "source": [
    "train"
   ]
  },
  {
   "cell_type": "code",
   "execution_count": null,
   "metadata": {},
   "outputs": [],
   "source": [
    "python pytorch-CycleGAN-and-pix2pix/train.py --dataroot data/datasets/CGAN/AROI_LAYER2BSCAN \\\n",
    "    --name aroi_layer2bscan \\\n",
    "    --model cycle_gan"
   ]
  },
  {
   "cell_type": "markdown",
   "metadata": {},
   "source": [
    "test"
   ]
  },
  {
   "cell_type": "code",
   "execution_count": null,
   "metadata": {},
   "outputs": [],
   "source": [
    "!python pytorch-CycleGAN-and-pix2pix/test.py \\\n",
    "    --dataroot data/datasets/CGAN/AROI_LAYER2BSCAN \\\n",
    "    --direction AtoB \\\n",
    "    --name aroi_layer2bscan \\\n",
    "    --model cycle_gan \\\n",
    "    --results_dir /home/extra/micheal/IDP/results/aroi_cgan_layer2bscan \\\n",
    "    --num_test 377"
   ]
  },
  {
   "cell_type": "code",
   "execution_count": null,
   "metadata": {},
   "outputs": [],
   "source": []
  }
 ],
 "metadata": {
  "interpreter": {
   "hash": "341eb00c4a9278ff831ee92c03245caab542deedbe9556143b586a9f4837c15e"
  },
  "kernelspec": {
   "display_name": "Python 3",
   "language": "python",
   "name": "python3"
  },
  "language_info": {
   "codemirror_mode": {
    "name": "ipython",
    "version": 3
   },
   "file_extension": ".py",
   "mimetype": "text/x-python",
   "name": "python",
   "nbconvert_exporter": "python",
   "pygments_lexer": "ipython3",
   "version": "3.8.12"
  }
 },
 "nbformat": 4,
 "nbformat_minor": 4
}
